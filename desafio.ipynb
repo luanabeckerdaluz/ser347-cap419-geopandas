{
 "cells": [
  {
   "cell_type": "markdown",
   "metadata": {
    "slideshow": {
     "slide_type": "slide"
    }
   },
   "source": [
    "# <span style=\"color:#336699\">SER-347/CAP-419 - Introdução à Programação com Dados Geoespaciais</span>\n",
    "<hr style=\"border:2px solid #0077b9;\">\n",
    "\n",
    "# <span style=\"color:#336699\">Análise de Dados Geoespaciais - Python</span>\n",
    "<hr style=\"border:2px solid #0077b9;\">"
   ]
  },
  {
   "cell_type": "markdown",
   "metadata": {
    "slideshow": {
     "slide_type": "slide"
    }
   },
   "source": [
    "# Exercício/Desafio\n",
    "\n",
    "# Gerar um mapa com a classificação dos estados em relação ao número de focos ocorridos no mês de agosto de 2024\n",
    "\n",
    "Exemplo:\n",
    "\n",
    "<table>\n",
    "    <tr>\n",
    "        <td><img src=\"https://upload.wikimedia.org/wikipedia/commons/a/a5/Mapa_dos_estados_brasileiros_por_popula%C3%A7%C3%A3o_%282022%29.svg\" width=\"300\" height=\"300\"></td>\n",
    "    </tr>\n",
    "</table>\n",
    "\n",
    "\n",
    "\n",
    "<table>\n",
    "    <tr>\n",
    "        <td><img src=\"https://upload.wikimedia.org/wikipedia/commons/thumb/e/ed/Pandas_logo.svg/2560px-Pandas_logo.svg.png\" alt=\"Python Data Analysis Library\" width=\"300;\"/></td>\n",
    "        <td><img src=\"https://geopandas.org/en/stable/_images/geopandas_logo.png\" alt=\"Python Geospatial Data Analysis Library\" width=\"200\"/></td>\n",
    "    </tr>\n",
    "</table>"
   ]
  },
  {
   "cell_type": "markdown",
   "metadata": {},
   "source": [
    "## 1. Importar os pacotes"
   ]
  },
  {
   "cell_type": "code",
   "execution_count": 64,
   "metadata": {
    "execution": {
     "iopub.execute_input": "2025-05-14T16:39:12.546696Z",
     "iopub.status.busy": "2025-05-14T16:39:12.546082Z",
     "iopub.status.idle": "2025-05-14T16:39:12.550425Z",
     "shell.execute_reply": "2025-05-14T16:39:12.549893Z",
     "shell.execute_reply.started": "2025-05-14T16:39:12.546669Z"
    }
   },
   "outputs": [],
   "source": [
    "import pandas as pd\n",
    "import geopandas as gpd\n",
    "import matplotlib.pyplot as plt"
   ]
  },
  {
   "cell_type": "markdown",
   "metadata": {},
   "source": [
    "## 2. Vamos abrir as shapes 'uf_2018/uf_2018.shp' e 'focos/focos.shp'"
   ]
  },
  {
   "cell_type": "code",
   "execution_count": 65,
   "metadata": {
    "execution": {
     "iopub.execute_input": "2025-05-14T16:39:16.132640Z",
     "iopub.status.busy": "2025-05-14T16:39:16.132070Z",
     "iopub.status.idle": "2025-05-14T16:39:18.353709Z",
     "shell.execute_reply": "2025-05-14T16:39:18.353152Z",
     "shell.execute_reply.started": "2025-05-14T16:39:16.132615Z"
    }
   },
   "outputs": [
    {
     "data": {
      "text/html": [
       "<div>\n",
       "<style scoped>\n",
       "    .dataframe tbody tr th:only-of-type {\n",
       "        vertical-align: middle;\n",
       "    }\n",
       "\n",
       "    .dataframe tbody tr th {\n",
       "        vertical-align: top;\n",
       "    }\n",
       "\n",
       "    .dataframe thead th {\n",
       "        text-align: right;\n",
       "    }\n",
       "</style>\n",
       "<table border=\"1\" class=\"dataframe\">\n",
       "  <thead>\n",
       "    <tr style=\"text-align: right;\">\n",
       "      <th></th>\n",
       "      <th>ID</th>\n",
       "      <th>NOME</th>\n",
       "      <th>SIGLA</th>\n",
       "      <th>GEOCODIGO</th>\n",
       "      <th>REGIAO</th>\n",
       "      <th>REGIAO_SIG</th>\n",
       "      <th>geometry</th>\n",
       "    </tr>\n",
       "  </thead>\n",
       "  <tbody>\n",
       "    <tr>\n",
       "      <th>0</th>\n",
       "      <td>1</td>\n",
       "      <td>SERGIPE</td>\n",
       "      <td>SE</td>\n",
       "      <td>28</td>\n",
       "      <td>NORDESTE</td>\n",
       "      <td>NE</td>\n",
       "      <td>MULTIPOLYGON (((-37.98248 -11.34818, -37.98253...</td>\n",
       "    </tr>\n",
       "    <tr>\n",
       "      <th>1</th>\n",
       "      <td>2</td>\n",
       "      <td>MARANHÃO</td>\n",
       "      <td>MA</td>\n",
       "      <td>21</td>\n",
       "      <td>NORDESTE</td>\n",
       "      <td>NE</td>\n",
       "      <td>MULTIPOLYGON (((-44.48155 -2.72660, -44.47867 ...</td>\n",
       "    </tr>\n",
       "    <tr>\n",
       "      <th>2</th>\n",
       "      <td>3</td>\n",
       "      <td>ESPÍRITO SANTO</td>\n",
       "      <td>ES</td>\n",
       "      <td>32</td>\n",
       "      <td>SUDESTE</td>\n",
       "      <td>SE</td>\n",
       "      <td>MULTIPOLYGON (((-29.33711 -20.48802, -29.33686...</td>\n",
       "    </tr>\n",
       "    <tr>\n",
       "      <th>3</th>\n",
       "      <td>4</td>\n",
       "      <td>AMAZONAS</td>\n",
       "      <td>AM</td>\n",
       "      <td>13</td>\n",
       "      <td>NORTE</td>\n",
       "      <td>N</td>\n",
       "      <td>POLYGON ((-69.61341 -2.44025, -69.53446 -2.000...</td>\n",
       "    </tr>\n",
       "    <tr>\n",
       "      <th>4</th>\n",
       "      <td>5</td>\n",
       "      <td>RORAIMA</td>\n",
       "      <td>RR</td>\n",
       "      <td>14</td>\n",
       "      <td>NORTE</td>\n",
       "      <td>N</td>\n",
       "      <td>POLYGON ((-63.97805 2.46754, -63.97871 2.46840...</td>\n",
       "    </tr>\n",
       "  </tbody>\n",
       "</table>\n",
       "</div>"
      ],
      "text/plain": [
       "   ID            NOME SIGLA GEOCODIGO    REGIAO REGIAO_SIG  \\\n",
       "0   1         SERGIPE    SE        28  NORDESTE         NE   \n",
       "1   2        MARANHÃO    MA        21  NORDESTE         NE   \n",
       "2   3  ESPÍRITO SANTO    ES        32   SUDESTE         SE   \n",
       "3   4        AMAZONAS    AM        13     NORTE          N   \n",
       "4   5         RORAIMA    RR        14     NORTE          N   \n",
       "\n",
       "                                            geometry  \n",
       "0  MULTIPOLYGON (((-37.98248 -11.34818, -37.98253...  \n",
       "1  MULTIPOLYGON (((-44.48155 -2.72660, -44.47867 ...  \n",
       "2  MULTIPOLYGON (((-29.33711 -20.48802, -29.33686...  \n",
       "3  POLYGON ((-69.61341 -2.44025, -69.53446 -2.000...  \n",
       "4  POLYGON ((-63.97805 2.46754, -63.97871 2.46840...  "
      ]
     },
     "execution_count": 65,
     "metadata": {},
     "output_type": "execute_result"
    }
   ],
   "source": [
    "ufs = gpd.read_file(\"uf_2018/uf_2018.shp\")\n",
    "ufs.head()"
   ]
  },
  {
   "cell_type": "code",
   "execution_count": 25,
   "metadata": {
    "execution": {
     "iopub.execute_input": "2025-05-14T14:27:36.520001Z",
     "iopub.status.busy": "2025-05-14T14:27:36.519357Z",
     "iopub.status.idle": "2025-05-14T14:28:21.353164Z",
     "shell.execute_reply": "2025-05-14T14:28:21.352628Z",
     "shell.execute_reply.started": "2025-05-14T14:27:36.519978Z"
    }
   },
   "outputs": [
    {
     "data": {
      "text/html": [
       "<div>\n",
       "<style scoped>\n",
       "    .dataframe tbody tr th:only-of-type {\n",
       "        vertical-align: middle;\n",
       "    }\n",
       "\n",
       "    .dataframe tbody tr th {\n",
       "        vertical-align: top;\n",
       "    }\n",
       "\n",
       "    .dataframe thead th {\n",
       "        text-align: right;\n",
       "    }\n",
       "</style>\n",
       "<table border=\"1\" class=\"dataframe\">\n",
       "  <thead>\n",
       "    <tr style=\"text-align: right;\">\n",
       "      <th></th>\n",
       "      <th>DataHora</th>\n",
       "      <th>Satelite</th>\n",
       "      <th>Pais</th>\n",
       "      <th>Estado</th>\n",
       "      <th>Municipio</th>\n",
       "      <th>Bioma</th>\n",
       "      <th>DiaSemChuv</th>\n",
       "      <th>Precipitac</th>\n",
       "      <th>RiscoFogo</th>\n",
       "      <th>Latitude</th>\n",
       "      <th>Longitude</th>\n",
       "      <th>FRP</th>\n",
       "      <th>geometry</th>\n",
       "    </tr>\n",
       "  </thead>\n",
       "  <tbody>\n",
       "    <tr>\n",
       "      <th>0</th>\n",
       "      <td>2024/05/01 17:34:00</td>\n",
       "      <td>AQUA_M-T</td>\n",
       "      <td>Brasil</td>\n",
       "      <td>SÃO PAULO</td>\n",
       "      <td>PEREIRAS</td>\n",
       "      <td>Mata Atlântica</td>\n",
       "      <td>14.0</td>\n",
       "      <td>0.0</td>\n",
       "      <td>1.00</td>\n",
       "      <td>-23.07218</td>\n",
       "      <td>-47.99586</td>\n",
       "      <td>8.0</td>\n",
       "      <td>POINT (-47.99586 -23.07218)</td>\n",
       "    </tr>\n",
       "    <tr>\n",
       "      <th>1</th>\n",
       "      <td>2024/05/01 17:37:00</td>\n",
       "      <td>AQUA_M-T</td>\n",
       "      <td>Brasil</td>\n",
       "      <td>PIAUÍ</td>\n",
       "      <td>GILBUÉS</td>\n",
       "      <td>Cerrado</td>\n",
       "      <td>3.0</td>\n",
       "      <td>0.0</td>\n",
       "      <td>0.21</td>\n",
       "      <td>-9.54904</td>\n",
       "      <td>-45.35360</td>\n",
       "      <td>13.7</td>\n",
       "      <td>POINT (-45.35360 -9.54904)</td>\n",
       "    </tr>\n",
       "    <tr>\n",
       "      <th>2</th>\n",
       "      <td>2024/05/01 17:37:00</td>\n",
       "      <td>AQUA_M-T</td>\n",
       "      <td>Brasil</td>\n",
       "      <td>PIAUÍ</td>\n",
       "      <td>BAIXA GRANDE DO RIBEIRO</td>\n",
       "      <td>Cerrado</td>\n",
       "      <td>3.0</td>\n",
       "      <td>0.0</td>\n",
       "      <td>0.19</td>\n",
       "      <td>-8.53773</td>\n",
       "      <td>-45.05117</td>\n",
       "      <td>52.6</td>\n",
       "      <td>POINT (-45.05117 -8.53773)</td>\n",
       "    </tr>\n",
       "    <tr>\n",
       "      <th>3</th>\n",
       "      <td>2024/05/01 17:37:00</td>\n",
       "      <td>AQUA_M-T</td>\n",
       "      <td>Brasil</td>\n",
       "      <td>PIAUÍ</td>\n",
       "      <td>BAIXA GRANDE DO RIBEIRO</td>\n",
       "      <td>Cerrado</td>\n",
       "      <td>3.0</td>\n",
       "      <td>0.0</td>\n",
       "      <td>0.20</td>\n",
       "      <td>-8.53765</td>\n",
       "      <td>-45.04380</td>\n",
       "      <td>74.8</td>\n",
       "      <td>POINT (-45.04380 -8.53765)</td>\n",
       "    </tr>\n",
       "    <tr>\n",
       "      <th>4</th>\n",
       "      <td>2024/05/01 17:37:00</td>\n",
       "      <td>AQUA_M-T</td>\n",
       "      <td>Brasil</td>\n",
       "      <td>PIAUÍ</td>\n",
       "      <td>BAIXA GRANDE DO RIBEIRO</td>\n",
       "      <td>Cerrado</td>\n",
       "      <td>3.0</td>\n",
       "      <td>0.0</td>\n",
       "      <td>0.22</td>\n",
       "      <td>-8.53456</td>\n",
       "      <td>-45.03149</td>\n",
       "      <td>23.1</td>\n",
       "      <td>POINT (-45.03149 -8.53456)</td>\n",
       "    </tr>\n",
       "  </tbody>\n",
       "</table>\n",
       "</div>"
      ],
      "text/plain": [
       "              DataHora  Satelite    Pais     Estado                Municipio  \\\n",
       "0  2024/05/01 17:34:00  AQUA_M-T  Brasil  SÃO PAULO                 PEREIRAS   \n",
       "1  2024/05/01 17:37:00  AQUA_M-T  Brasil      PIAUÍ                  GILBUÉS   \n",
       "2  2024/05/01 17:37:00  AQUA_M-T  Brasil      PIAUÍ  BAIXA GRANDE DO RIBEIRO   \n",
       "3  2024/05/01 17:37:00  AQUA_M-T  Brasil      PIAUÍ  BAIXA GRANDE DO RIBEIRO   \n",
       "4  2024/05/01 17:37:00  AQUA_M-T  Brasil      PIAUÍ  BAIXA GRANDE DO RIBEIRO   \n",
       "\n",
       "            Bioma  DiaSemChuv  Precipitac  RiscoFogo  Latitude  Longitude  \\\n",
       "0  Mata Atlântica        14.0         0.0       1.00 -23.07218  -47.99586   \n",
       "1         Cerrado         3.0         0.0       0.21  -9.54904  -45.35360   \n",
       "2         Cerrado         3.0         0.0       0.19  -8.53773  -45.05117   \n",
       "3         Cerrado         3.0         0.0       0.20  -8.53765  -45.04380   \n",
       "4         Cerrado         3.0         0.0       0.22  -8.53456  -45.03149   \n",
       "\n",
       "    FRP                     geometry  \n",
       "0   8.0  POINT (-47.99586 -23.07218)  \n",
       "1  13.7   POINT (-45.35360 -9.54904)  \n",
       "2  52.6   POINT (-45.05117 -8.53773)  \n",
       "3  74.8   POINT (-45.04380 -8.53765)  \n",
       "4  23.1   POINT (-45.03149 -8.53456)  "
      ]
     },
     "execution_count": 25,
     "metadata": {},
     "output_type": "execute_result"
    }
   ],
   "source": [
    "focos = gpd.read_file(\"focos_2024_br/focos_2024_br.shp\")\n",
    "focos.head()"
   ]
  },
  {
   "cell_type": "markdown",
   "metadata": {},
   "source": [
    "## 3. Vamos criar a coluna timestamp, filtrar para Agosto e selecionar apenas algumas colunas"
   ]
  },
  {
   "cell_type": "code",
   "execution_count": 66,
   "metadata": {
    "execution": {
     "iopub.execute_input": "2025-05-14T16:39:19.236870Z",
     "iopub.status.busy": "2025-05-14T16:39:19.236244Z",
     "iopub.status.idle": "2025-05-14T16:39:19.332355Z",
     "shell.execute_reply": "2025-05-14T16:39:19.331823Z",
     "shell.execute_reply.started": "2025-05-14T16:39:19.236848Z"
    }
   },
   "outputs": [
    {
     "data": {
      "text/html": [
       "<div>\n",
       "<style scoped>\n",
       "    .dataframe tbody tr th:only-of-type {\n",
       "        vertical-align: middle;\n",
       "    }\n",
       "\n",
       "    .dataframe tbody tr th {\n",
       "        vertical-align: top;\n",
       "    }\n",
       "\n",
       "    .dataframe thead th {\n",
       "        text-align: right;\n",
       "    }\n",
       "</style>\n",
       "<table border=\"1\" class=\"dataframe\">\n",
       "  <thead>\n",
       "    <tr style=\"text-align: right;\">\n",
       "      <th></th>\n",
       "      <th>timestamp</th>\n",
       "      <th>Estado</th>\n",
       "      <th>Municipio</th>\n",
       "      <th>geometry</th>\n",
       "    </tr>\n",
       "  </thead>\n",
       "  <tbody>\n",
       "    <tr>\n",
       "      <th>34800</th>\n",
       "      <td>2024-08-01 17:54:00</td>\n",
       "      <td>AMAZONAS</td>\n",
       "      <td>APUÍ</td>\n",
       "      <td>POINT (-59.40308 -6.72610)</td>\n",
       "    </tr>\n",
       "    <tr>\n",
       "      <th>34801</th>\n",
       "      <td>2024-08-01 17:54:00</td>\n",
       "      <td>AMAZONAS</td>\n",
       "      <td>APUÍ</td>\n",
       "      <td>POINT (-59.42051 -6.71668)</td>\n",
       "    </tr>\n",
       "    <tr>\n",
       "      <th>34802</th>\n",
       "      <td>2024-08-01 17:54:00</td>\n",
       "      <td>AMAZONAS</td>\n",
       "      <td>APUÍ</td>\n",
       "      <td>POINT (-59.40479 -6.71457)</td>\n",
       "    </tr>\n",
       "    <tr>\n",
       "      <th>34803</th>\n",
       "      <td>2024-08-01 17:54:00</td>\n",
       "      <td>AMAZONAS</td>\n",
       "      <td>APUÍ</td>\n",
       "      <td>POINT (-59.14380 -6.69096)</td>\n",
       "    </tr>\n",
       "    <tr>\n",
       "      <th>34804</th>\n",
       "      <td>2024-08-01 16:18:00</td>\n",
       "      <td>PERNAMBUCO</td>\n",
       "      <td>SANTA TEREZINHA</td>\n",
       "      <td>POINT (-37.49661 -7.41935)</td>\n",
       "    </tr>\n",
       "  </tbody>\n",
       "</table>\n",
       "</div>"
      ],
      "text/plain": [
       "                timestamp      Estado        Municipio  \\\n",
       "34800 2024-08-01 17:54:00    AMAZONAS             APUÍ   \n",
       "34801 2024-08-01 17:54:00    AMAZONAS             APUÍ   \n",
       "34802 2024-08-01 17:54:00    AMAZONAS             APUÍ   \n",
       "34803 2024-08-01 17:54:00    AMAZONAS             APUÍ   \n",
       "34804 2024-08-01 16:18:00  PERNAMBUCO  SANTA TEREZINHA   \n",
       "\n",
       "                         geometry  \n",
       "34800  POINT (-59.40308 -6.72610)  \n",
       "34801  POINT (-59.42051 -6.71668)  \n",
       "34802  POINT (-59.40479 -6.71457)  \n",
       "34803  POINT (-59.14380 -6.69096)  \n",
       "34804  POINT (-37.49661 -7.41935)  "
      ]
     },
     "execution_count": 66,
     "metadata": {},
     "output_type": "execute_result"
    }
   ],
   "source": [
    "focos[\"timestamp\"] = pd.to_datetime(focos[\"DataHora\"])\n",
    "focos_agosto = focos[focos.timestamp.dt.month == 8]\n",
    "focos_agosto = focos_agosto[[\"timestamp\", \"Estado\", \"Municipio\", \"geometry\"]]\n",
    "focos_agosto.head()"
   ]
  },
  {
   "cell_type": "markdown",
   "metadata": {},
   "source": [
    "## 4. Vamos agrupar os focos por UF. Dentre as diversas formas de fazer isso, vou mostrar abaixo 2 alternativas:"
   ]
  },
  {
   "cell_type": "markdown",
   "metadata": {},
   "source": [
    "### 4.1. Alternativa 1. Agrupar o nosso DataFrame pandas pela coluna \"Estado\" para obter a contagem de focos por UF e depois mergear com o GeoDataFrame geopandas chamado 'ufs' para obter a geometria de cada UF"
   ]
  },
  {
   "cell_type": "code",
   "execution_count": 120,
   "metadata": {
    "execution": {
     "iopub.execute_input": "2025-05-14T17:37:28.061183Z",
     "iopub.status.busy": "2025-05-14T17:37:28.060197Z",
     "iopub.status.idle": "2025-05-14T17:37:28.366076Z",
     "shell.execute_reply": "2025-05-14T17:37:28.365474Z",
     "shell.execute_reply.started": "2025-05-14T17:37:28.061153Z"
    }
   },
   "outputs": [
    {
     "data": {
      "text/html": [
       "<div>\n",
       "<style scoped>\n",
       "    .dataframe tbody tr th:only-of-type {\n",
       "        vertical-align: middle;\n",
       "    }\n",
       "\n",
       "    .dataframe tbody tr th {\n",
       "        vertical-align: top;\n",
       "    }\n",
       "\n",
       "    .dataframe thead th {\n",
       "        text-align: right;\n",
       "    }\n",
       "</style>\n",
       "<table border=\"1\" class=\"dataframe\">\n",
       "  <thead>\n",
       "    <tr style=\"text-align: right;\">\n",
       "      <th></th>\n",
       "      <th>SIGLA</th>\n",
       "      <th>geometry</th>\n",
       "      <th>num_focos</th>\n",
       "    </tr>\n",
       "  </thead>\n",
       "  <tbody>\n",
       "    <tr>\n",
       "      <th>15</th>\n",
       "      <td>MT</td>\n",
       "      <td>POLYGON ((-60.38233 -13.99242, -60.38206 -13.9...</td>\n",
       "      <td>14617</td>\n",
       "    </tr>\n",
       "    <tr>\n",
       "      <th>25</th>\n",
       "      <td>PA</td>\n",
       "      <td>MULTIPOLYGON (((-46.31362 -0.95914, -46.31382 ...</td>\n",
       "      <td>13803</td>\n",
       "    </tr>\n",
       "    <tr>\n",
       "      <th>3</th>\n",
       "      <td>AM</td>\n",
       "      <td>POLYGON ((-69.61341 -2.44025, -69.53446 -2.000...</td>\n",
       "      <td>10328</td>\n",
       "    </tr>\n",
       "    <tr>\n",
       "      <th>14</th>\n",
       "      <td>MS</td>\n",
       "      <td>POLYGON ((-57.51683 -22.17363, -57.51741 -22.1...</td>\n",
       "      <td>4648</td>\n",
       "    </tr>\n",
       "    <tr>\n",
       "      <th>22</th>\n",
       "      <td>RO</td>\n",
       "      <td>POLYGON ((-62.89216 -12.85884, -62.89371 -12.8...</td>\n",
       "      <td>4522</td>\n",
       "    </tr>\n",
       "  </tbody>\n",
       "</table>\n",
       "</div>"
      ],
      "text/plain": [
       "   SIGLA                                           geometry  num_focos\n",
       "15    MT  POLYGON ((-60.38233 -13.99242, -60.38206 -13.9...      14617\n",
       "25    PA  MULTIPOLYGON (((-46.31362 -0.95914, -46.31382 ...      13803\n",
       "3     AM  POLYGON ((-69.61341 -2.44025, -69.53446 -2.000...      10328\n",
       "14    MS  POLYGON ((-57.51683 -22.17363, -57.51741 -22.1...       4648\n",
       "22    RO  POLYGON ((-62.89216 -12.85884, -62.89371 -12.8...       4522"
      ]
     },
     "execution_count": 120,
     "metadata": {},
     "output_type": "execute_result"
    }
   ],
   "source": [
    "# Iremos agrupar o nosso dataframe pela coluna \"Estado\"\n",
    "focos_agosto_por_uf = focos_agosto.groupby('Estado').Estado.count()\n",
    "# Nesse momento do código, 'focos_agosto_por_uf' é um pandas.Series. Vamos criar um DataFrame com isso.\n",
    "focos_agosto_por_uf_pddf = pd.DataFrame({\n",
    "    'Estado': focos_agosto_por_uf.index,\n",
    "    'num_focos': focos_agosto_por_uf.values\n",
    "})\n",
    "# Para mesclar esse pandas.DataFrame com o nosso geopandas.GeoDataFrame chamado \"ufs\" para obter a geometria de cada UF, vamos usar a função \n",
    "# ... merge. Só usaríamos a função 'sjoin' quando queremos computar operações espaciais (intersection/within..) entre 2 geopandas.GeoDataFrame.\n",
    "num_focos_estado = ufs.merge(focos_agosto_por_uf_pddf, left_on='NOME', right_on='Estado', how='left')\n",
    "num_focos_estado = num_focos_estado[[\"SIGLA\", \"geometry\", \"num_focos\"]]\n",
    "num_focos_estado = num_focos_estado.sort_values(by='num_focos', ascending=False)\n",
    "num_focos_estado.head()"
   ]
  },
  {
   "cell_type": "markdown",
   "metadata": {},
   "source": [
    "### 4.2. Alternativa 2. Juntar o nosso DataFrame pandas com o GeoDataFrame 'ufs' para termos a coluna \"SIGLA\", agrupar por \"SIGLA\" e depois mergear com o ufs por \"SIGLA\" pra obter a geometria do estado\n",
    "\n",
    "**Obs.:** Essa abordagem permite que a gente faça o merge utilizando a coluna 'SIGLA', que contém valores como \"SP\", \"RJ\", etc. Esse merge é mais confiável do que mergear pela coluna \"Estado\" que contém nomes com acentos e símbolos."
   ]
  },
  {
   "cell_type": "code",
   "execution_count": 122,
   "metadata": {
    "execution": {
     "iopub.execute_input": "2025-05-14T17:53:27.028631Z",
     "iopub.status.busy": "2025-05-14T17:53:27.027737Z",
     "iopub.status.idle": "2025-05-14T17:53:27.641789Z",
     "shell.execute_reply": "2025-05-14T17:53:27.641141Z",
     "shell.execute_reply.started": "2025-05-14T17:53:27.028603Z"
    }
   },
   "outputs": [
    {
     "data": {
      "text/html": [
       "<div>\n",
       "<style scoped>\n",
       "    .dataframe tbody tr th:only-of-type {\n",
       "        vertical-align: middle;\n",
       "    }\n",
       "\n",
       "    .dataframe tbody tr th {\n",
       "        vertical-align: top;\n",
       "    }\n",
       "\n",
       "    .dataframe thead th {\n",
       "        text-align: right;\n",
       "    }\n",
       "</style>\n",
       "<table border=\"1\" class=\"dataframe\">\n",
       "  <thead>\n",
       "    <tr style=\"text-align: right;\">\n",
       "      <th></th>\n",
       "      <th>SIGLA</th>\n",
       "      <th>geometry</th>\n",
       "      <th>num_focos</th>\n",
       "    </tr>\n",
       "  </thead>\n",
       "  <tbody>\n",
       "    <tr>\n",
       "      <th>12</th>\n",
       "      <td>MT</td>\n",
       "      <td>POLYGON ((-60.38233 -13.99242, -60.38206 -13.9...</td>\n",
       "      <td>14617</td>\n",
       "    </tr>\n",
       "    <tr>\n",
       "      <th>13</th>\n",
       "      <td>PA</td>\n",
       "      <td>MULTIPOLYGON (((-46.31362 -0.95914, -46.31382 ...</td>\n",
       "      <td>13803</td>\n",
       "    </tr>\n",
       "    <tr>\n",
       "      <th>2</th>\n",
       "      <td>AM</td>\n",
       "      <td>POLYGON ((-69.61341 -2.44025, -69.53446 -2.000...</td>\n",
       "      <td>10328</td>\n",
       "    </tr>\n",
       "    <tr>\n",
       "      <th>11</th>\n",
       "      <td>MS</td>\n",
       "      <td>POLYGON ((-57.51683 -22.17363, -57.51741 -22.1...</td>\n",
       "      <td>4648</td>\n",
       "    </tr>\n",
       "    <tr>\n",
       "      <th>20</th>\n",
       "      <td>RO</td>\n",
       "      <td>POLYGON ((-62.89216 -12.85884, -62.89371 -12.8...</td>\n",
       "      <td>4522</td>\n",
       "    </tr>\n",
       "  </tbody>\n",
       "</table>\n",
       "</div>"
      ],
      "text/plain": [
       "   SIGLA                                           geometry  num_focos\n",
       "12    MT  POLYGON ((-60.38233 -13.99242, -60.38206 -13.9...      14617\n",
       "13    PA  MULTIPOLYGON (((-46.31362 -0.95914, -46.31382 ...      13803\n",
       "2     AM  POLYGON ((-69.61341 -2.44025, -69.53446 -2.000...      10328\n",
       "11    MS  POLYGON ((-57.51683 -22.17363, -57.51741 -22.1...       4648\n",
       "20    RO  POLYGON ((-62.89216 -12.85884, -62.89371 -12.8...       4522"
      ]
     },
     "execution_count": 122,
     "metadata": {},
     "output_type": "execute_result"
    }
   ],
   "source": [
    "# Primeiro convertemos os focos para a mesma CRS das ufs\n",
    "focos_agosto_crs = focos_agosto.to_crs(ufs.crs)\n",
    "# Computamos quais UFs que 'contains' os focos\n",
    "focos_estados = gpd.sjoin(ufs, focos_agosto_crs, how='inner', predicate='contains')\n",
    "# Agrupamos por 'SIGLA'. Para cada grupo (linha), o valor da coluna 'geometry' será o primeiro (pois a geometria de \n",
    "# ...cada grupo (UF) é a mesma. Além disso, para cada grupo, vamos contar quantos valores tem na coluna \"ID\".\n",
    "num_focos_estado = focos_estados.groupby('SIGLA', as_index=False).agg({\n",
    "   'geometry': 'first',\n",
    "   'ID': 'count'\n",
    "})\n",
    "# Por fim, vamos somente renomear 'ID' para 'num_focos'\n",
    "num_focos_estado.columns = [\"SIGLA\", \"geometry\", \"num_focos\"]\n",
    "num_focos_estado = num_focos_estado.sort_values(by='num_focos', ascending=False)\n",
    "num_focos_estado.head()"
   ]
  },
  {
   "cell_type": "markdown",
   "metadata": {},
   "source": [
    "## 5. Agora que temos o GeoDataFrame com o número de focos por UF, vamos criar a coluna 'ranking' e ordenar nosso GeoDataFrame com base nela"
   ]
  },
  {
   "cell_type": "code",
   "execution_count": 123,
   "metadata": {
    "execution": {
     "iopub.execute_input": "2025-05-14T17:53:32.136308Z",
     "iopub.status.busy": "2025-05-14T17:53:32.135995Z",
     "iopub.status.idle": "2025-05-14T17:53:32.416989Z",
     "shell.execute_reply": "2025-05-14T17:53:32.416388Z",
     "shell.execute_reply.started": "2025-05-14T17:53:32.136285Z"
    }
   },
   "outputs": [
    {
     "data": {
      "text/html": [
       "<div>\n",
       "<style scoped>\n",
       "    .dataframe tbody tr th:only-of-type {\n",
       "        vertical-align: middle;\n",
       "    }\n",
       "\n",
       "    .dataframe tbody tr th {\n",
       "        vertical-align: top;\n",
       "    }\n",
       "\n",
       "    .dataframe thead th {\n",
       "        text-align: right;\n",
       "    }\n",
       "</style>\n",
       "<table border=\"1\" class=\"dataframe\">\n",
       "  <thead>\n",
       "    <tr style=\"text-align: right;\">\n",
       "      <th></th>\n",
       "      <th>SIGLA</th>\n",
       "      <th>geometry</th>\n",
       "      <th>num_focos</th>\n",
       "      <th>ranking</th>\n",
       "    </tr>\n",
       "  </thead>\n",
       "  <tbody>\n",
       "    <tr>\n",
       "      <th>12</th>\n",
       "      <td>MT</td>\n",
       "      <td>POLYGON ((-60.38233 -13.99242, -60.38206 -13.9...</td>\n",
       "      <td>14617</td>\n",
       "      <td>1</td>\n",
       "    </tr>\n",
       "    <tr>\n",
       "      <th>13</th>\n",
       "      <td>PA</td>\n",
       "      <td>MULTIPOLYGON (((-46.31362 -0.95914, -46.31382 ...</td>\n",
       "      <td>13803</td>\n",
       "      <td>2</td>\n",
       "    </tr>\n",
       "    <tr>\n",
       "      <th>2</th>\n",
       "      <td>AM</td>\n",
       "      <td>POLYGON ((-69.61341 -2.44025, -69.53446 -2.000...</td>\n",
       "      <td>10328</td>\n",
       "      <td>3</td>\n",
       "    </tr>\n",
       "    <tr>\n",
       "      <th>11</th>\n",
       "      <td>MS</td>\n",
       "      <td>POLYGON ((-57.51683 -22.17363, -57.51741 -22.1...</td>\n",
       "      <td>4648</td>\n",
       "      <td>4</td>\n",
       "    </tr>\n",
       "    <tr>\n",
       "      <th>20</th>\n",
       "      <td>RO</td>\n",
       "      <td>POLYGON ((-62.89216 -12.85884, -62.89371 -12.8...</td>\n",
       "      <td>4522</td>\n",
       "      <td>5</td>\n",
       "    </tr>\n",
       "  </tbody>\n",
       "</table>\n",
       "</div>"
      ],
      "text/plain": [
       "   SIGLA                                           geometry  num_focos  \\\n",
       "12    MT  POLYGON ((-60.38233 -13.99242, -60.38206 -13.9...      14617   \n",
       "13    PA  MULTIPOLYGON (((-46.31362 -0.95914, -46.31382 ...      13803   \n",
       "2     AM  POLYGON ((-69.61341 -2.44025, -69.53446 -2.000...      10328   \n",
       "11    MS  POLYGON ((-57.51683 -22.17363, -57.51741 -22.1...       4648   \n",
       "20    RO  POLYGON ((-62.89216 -12.85884, -62.89371 -12.8...       4522   \n",
       "\n",
       "    ranking  \n",
       "12        1  \n",
       "13        2  \n",
       "2         3  \n",
       "11        4  \n",
       "20        5  "
      ]
     },
     "execution_count": 123,
     "metadata": {},
     "output_type": "execute_result"
    }
   ],
   "source": [
    "num_focos_estado['ranking'] = num_focos_estado['num_focos'].rank(ascending=False).astype(int)\n",
    "num_focos_estado = num_focos_estado.sort_values(by='ranking', ascending=True)\n",
    "num_focos_estado.head()"
   ]
  },
  {
   "cell_type": "markdown",
   "metadata": {},
   "source": [
    "## 6. Vamos plotar o nosso GeoDataFrame"
   ]
  },
  {
   "cell_type": "code",
   "execution_count": 124,
   "metadata": {
    "execution": {
     "iopub.execute_input": "2025-05-14T17:53:36.562059Z",
     "iopub.status.busy": "2025-05-14T17:53:36.561754Z",
     "iopub.status.idle": "2025-05-14T17:53:37.183916Z",
     "shell.execute_reply": "2025-05-14T17:53:37.183365Z",
     "shell.execute_reply.started": "2025-05-14T17:53:36.562036Z"
    }
   },
   "outputs": [
    {
     "data": {
      "image/png": "[encoded data removed]",
      "text/plain": [
       "<Figure size 800x600 with 2 Axes>"
      ]
     },
     "metadata": {},
     "output_type": "display_data"
    }
   ],
   "source": [
    "fig, ax = plt.subplots(figsize=(8, 6))\n",
    "estados_focos.plot( column='ranking', \n",
    "                    cmap='coolwarm_r', # OU 'viridis', 'plasma', ...\n",
    "                    ax=ax,\n",
    "                    legend=True)\n",
    "ax.set_title('Classificação dos estados em relação ao número de focos ocorridos no mês de agosto de 2024', fontsize=12)\n",
    "\n",
    "# Se quisermos, podemos iterar cada feição (UF) e plotarmos o valor de \"ranking\" no centroide de cada feição\n",
    "for idx, row in estados_focos.iterrows():\n",
    "    ax.text(row.geometry.centroid.x, \n",
    "            row.geometry.centroid.y, \n",
    "            str(row['ranking']), \n",
    "            fontsize=12, \n",
    "            ha='center', \n",
    "            color='white')\n",
    "# Plot\n",
    "plt.show()"
   ]
  },
  {
   "cell_type": "code",
   "execution_count": null,
   "metadata": {},
   "outputs": [],
   "source": []
  }
 ],
 "metadata": {
  "kernelspec": {
   "display_name": "Python (Geospatial)",
   "language": "python",
   "name": "geospatial"
  },
  "language_info": {
   "codemirror_mode": {
    "name": "ipython",
    "version": 3
   },
   "file_extension": ".py",
   "mimetype": "text/x-python",
   "name": "python",
   "nbconvert_exporter": "python",
   "pygments_lexer": "ipython3",
   "version": "3.11.6"
  },
  "toc": {
   "base_numbering": 1,
   "nav_menu": {},
   "number_sections": false,
   "sideBar": true,
   "skip_h1_title": false,
   "title_cell": "Table of Contents",
   "title_sidebar": "Contents",
   "toc_cell": false,
   "toc_position": {},
   "toc_section_display": true,
   "toc_window_display": false
  }
 },
 "nbformat": 4,
 "nbformat_minor": 4
}
