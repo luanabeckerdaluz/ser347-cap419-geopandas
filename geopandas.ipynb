{
 "cells": [
  {
   "cell_type": "markdown",
   "metadata": {
    "slideshow": {
     "slide_type": "slide"
    }
   },
   "source": [
    "# <span style=\"color:#336699\">SER-347/CAP-419 - Introdução à Programação com Dados Geoespaciais</span>\n",
    "<hr style=\"border:2px solid #0077b9;\">\n",
    "\n",
    "# <span style=\"color:#336699\">Análise de Dados Geoespaciais - Python</span>\n",
    "\n",
    "- Gilberto Ribeiro de Queiroz\n",
    "- Thales Sehn Körting\n",
    "- Fabiano Morelli"
   ]
  },
  {
   "cell_type": "markdown",
   "metadata": {
    "slideshow": {
     "slide_type": "slide"
    }
   },
   "source": [
    "# 1. Pandas e GeoPandas: análise de dados em Python\n",
    "<hr style=\"border:1px solid #0077b9;\">\n",
    "\n",
    "<table>\n",
    "    <tr>\n",
    "        <td><img src=\"https://upload.wikimedia.org/wikipedia/commons/thumb/e/ed/Pandas_logo.svg/2560px-Pandas_logo.svg.png\" alt=\"Python Data Analysis Library\" width=\"300;\"/></td>\n",
    "        <td><img src=\"https://geopandas.org/en/stable/_images/geopandas_logo.png\" alt=\"Python Geospatial Data Analysis Library\" width=\"200\"/></td>\n",
    "    </tr>\n",
    "</table>"
   ]
  },
  {
   "cell_type": "markdown",
   "metadata": {},
   "source": [
    "## Pandas\n",
    "\n",
    "Fornece duas estruturas de dados básicas: `Series` e `DataFrame`. Para estas estruturas, existem diversas operações de alto nível disponíveis, tais como: agregação de valores e visualização básica através da matplotlib.\n",
    "\n",
    "Um objeto do tipo `Series` representa um vetor (ou array unidimensional) capaz de armazenar qualquer tipo de dado, como números inteiros, strings ou objetos como data e hora. Possui um eixo (*axis*) usado para rotular cada valor do vetor. Esses rótulos funcionam como um índice para os valores da série.\n",
    "\n",
    "<table>\n",
    "  <caption style=\"font-size: 20px;text-align: center\">Series</caption>\n",
    "  <tbody>\n",
    "    <tr>\n",
    "      <td style=\"font-weight: bold;text-align: center\"></td>\n",
    "      <td style=\"font-weight: bold;text-align: center\">municipio</td>    \n",
    "    </tr>\n",
    "    <tr>\n",
    "      <td style=\"text-align: center\">0</td>\n",
    "      <td style=\"text-align: left\">Sítio Novo Do Tocantins</td>\n",
    "    </tr>\n",
    "    <tr>\n",
    "      <td style=\"text-align: center\">1</td>\n",
    "      <td style=\"text-align: left\">Ouro Preto</td>\n",
    "    </tr>\n",
    "    <tr>\n",
    "      <td style=\"text-align: center\">2</td>\n",
    "      <td style=\"text-align: left\">Mariana</td>\n",
    "    </tr>\n",
    "    <tr>\n",
    "      <td style=\"text-align: center\">3</td>\n",
    "      <td style=\"text-align: left\">Araxá</td>\n",
    "    </tr>\n",
    "    <tr>\n",
    "      <td style=\"text-align: center\">4</td>\n",
    "      <td style=\"text-align: left\">Belo Horizonte</td>\n",
    "    </tr>\n",
    "  </tbody>\n",
    "</table>"
   ]
  },
  {
   "cell_type": "markdown",
   "metadata": {
    "slideshow": {
     "slide_type": "subslide"
    }
   },
   "source": [
    "Um objeto do tipo `DataFrame` representa um tabela bidimensional com os eixos rotulados (linhas e colunas).\n",
    "\n",
    "<table>\n",
    "  <caption style=\"font-size: 20px;text-align: center\">DataFrame</caption>\n",
    "  <tbody>\n",
    "    <tr>\n",
    "      <td style=\"font-weight: bold;text-align: center\"></td>\n",
    "      <td style=\"font-weight: bold;text-align: center\">municipio</td>    \n",
    "      <td style=\"font-weight: bold;text-align: center\">estado</td>\n",
    "      <td style=\"font-weight: bold;text-align: center\">regiao</td>\n",
    "      <td style=\"font-weight: bold;text-align: center\">pais</td>\n",
    "      <td style=\"font-weight: bold;text-align: center\">satelite</td>\n",
    "      <td style=\"font-weight: bold;text-align: center\">bioma</td>\n",
    "      <td style=\"font-weight: bold;text-align: center\">timestamp</td>\n",
    "      <td style=\"font-weight: bold;text-align: center\">satelite_r</td>\n",
    "    </tr>\n",
    "    <tr>\n",
    "      <td style=\"text-align: center\">0</td>\n",
    "      <td style=\"text-align: center\">Sítio Novo Do Tocantins</td>\n",
    "      <td style=\"text-align: center\">Tocantins</td>\n",
    "      <td style=\"text-align: center\">N</td>\n",
    "      <td style=\"text-align: center\">Brazil</td>\n",
    "      <td style=\"text-align: center\">NPP_375</td>\n",
    "      <td style=\"text-align: center\">Cerrado</td>\n",
    "      <td style=\"text-align: center\">2016/02/12 17:05:45</td>\n",
    "      <td style=\"text-align: center\">f</td>\n",
    "    </tr>\n",
    "    <tr>\n",
    "      <td style=\"text-align: center\">1</td>\n",
    "      <td style=\"text-align: center\">Sítio Novo Do Tocantins</td>\n",
    "      <td style=\"text-align: center\">Tocantins</td>\n",
    "      <td style=\"text-align: center\">N</td>\n",
    "      <td style=\"text-align: center\">Brazil</td>\n",
    "      <td style=\"text-align: center\">NPP_375</td>\n",
    "      <td style=\"text-align: center\">Cerrado</td>\n",
    "      <td style=\"text-align: center\">2016/07/17 04:00:00</td>\n",
    "      <td style=\"text-align: center\">f</td>\n",
    "    </tr>\n",
    "    <tr>\n",
    "      <td style=\"text-align: center\">2</td>\n",
    "      <td style=\"text-align: center\">Sítio Novo Do Tocantins</td>\n",
    "      <td style=\"text-align: center\">Tocantins</td>\n",
    "      <td style=\"text-align: center\">N</td>\n",
    "      <td style=\"text-align: center\">Brazil</td>\n",
    "      <td style=\"text-align: center\">AQUA_M-T</td>\n",
    "      <td style=\"text-align: center\">Cerrado</td>\n",
    "      <td style=\"text-align: center\">2016/01/15 16:40:14</td>\n",
    "      <td style=\"text-align: center\">t</td>\n",
    "    </tr>\n",
    "    <tr>\n",
    "      <td style=\"text-align: center\">3</td>\n",
    "      <td style=\"text-align: center\">Sítio Novo Do Tocantins</td>\n",
    "      <td style=\"text-align: center\">Tocantins</td>\n",
    "      <td style=\"text-align: center\">N</td>\n",
    "      <td style=\"text-align: center\">Brazil</td>\n",
    "      <td style=\"text-align: center\">NPP_375</td>\n",
    "      <td style=\"text-align: center\">Cerrado</td>\n",
    "      <td style=\"text-align: center\">2016/07/17 04:00:00</td>\n",
    "      <td style=\"text-align: center\">f</td>\n",
    "    </tr>\n",
    "    <tr>\n",
    "      <td style=\"text-align: center\">4</td>\n",
    "      <td style=\"text-align: center\">Sítio Novo Do Tocantins</td>\n",
    "      <td style=\"text-align: center\">Tocantins</td>\n",
    "      <td style=\"text-align: center\">N</td>\n",
    "      <td style=\"text-align: center\">Brazil</td>\n",
    "      <td style=\"text-align: center\">NPP_375</td>\n",
    "      <td style=\"text-align: center\">Cerrado</td>\n",
    "      <td style=\"text-align: center\">2016/02/12 17:05:45</td>\n",
    "      <td style=\"text-align: center\">f</td>\n",
    "    </tr>\n",
    "  </tbody>\n",
    "</table>"
   ]
  },
  {
   "cell_type": "markdown",
   "metadata": {
    "slideshow": {
     "slide_type": "subslide"
    }
   },
   "source": [
    "## GeoPandas\n",
    "\n",
    "Possui facilidades para tratar colunas com dados geométricos, incluindo visualização.\n",
    "\n",
    "As duas estruturas fornecidas são:\n",
    "- `GeoSeries`: um vetor contendo uma representação geométrica em conformidade com os tipos da *OGC Simple Feature*: `Point`, `LineString`, `Polygon`, `MultiPoint`, `MultiLineString`, `MultiPolygon`. Essa estrutura possui as mesmas operações da classe `Series` do Pandas além de operações espaciais como cálculo de área, perímetro, distâncias, entre outras.\n",
    "\n",
    "<table>\n",
    "  <caption style=\"font-size: 20px;text-align: center\">GeoSeries</caption>\n",
    "  <tbody>\n",
    "    <tr>\n",
    "      <td style=\"font-weight: bold;text-align: center\"></td>\n",
    "      <td style=\"font-weight: bold;text-align: center\">municipio</td>    \n",
    "    </tr>\n",
    "    <tr>\n",
    "      <td style=\"text-align: center\">0</td>\n",
    "      <td style=\"text-align: left\">POINT (-47.607 -5.673)</td>\n",
    "    </tr>\n",
    "    <tr>\n",
    "      <td style=\"text-align: center\">1</td>\n",
    "      <td style=\"text-align: left\">POINT (-47.606 -5.581)</td>\n",
    "    </tr>\n",
    "    <tr>\n",
    "      <td style=\"text-align: center\">2</td>\n",
    "      <td style=\"text-align: left\">POINT (-47.734 -5.562)</td>\n",
    "    </tr>\n",
    "    <tr>\n",
    "      <td style=\"text-align: center\">3</td>\n",
    "      <td style=\"text-align: left\">POINT (-47.605 -5.58)</td>\n",
    "    </tr>\n",
    "    <tr>\n",
    "      <td style=\"text-align: center\">4</td>\n",
    "      <td style=\"text-align: left\">POINT (-47.606 -5.677)</td>\n",
    "    </tr>\n",
    "  </tbody>\n",
    "</table>"
   ]
  },
  {
   "cell_type": "markdown",
   "metadata": {},
   "source": [
    "- `GeoDataFrame`: tabela com uma coluna geométrica.\n",
    "\n",
    "<table>\n",
    "  <caption style=\"font-size: 20px;text-align: center\">GeoDataFrame</caption>\n",
    "  <tbody>\n",
    "    <tr>\n",
    "      <td style=\"font-weight: bold;text-align: center\"></td>\n",
    "      <td style=\"font-weight: bold;text-align: center\">municipio</td>    \n",
    "      <td style=\"font-weight: bold;text-align: center\">estado</td>\n",
    "      <td style=\"font-weight: bold;text-align: center\">regiao</td>\n",
    "      <td style=\"font-weight: bold;text-align: center\">pais</td>\n",
    "      <td style=\"font-weight: bold;text-align: center\">satelite</td>\n",
    "      <td style=\"font-weight: bold;text-align: center\">bioma</td>\n",
    "      <td style=\"font-weight: bold;text-align: center\">timestamp</td>\n",
    "      <td style=\"font-weight: bold;text-align: center\">satelite_r</td>\n",
    "      <td style=\"font-weight: bold;text-align: center\">geometry</td>\n",
    "    </tr>\n",
    "    <tr>\n",
    "      <td style=\"text-align: center\">0</td>\n",
    "      <td style=\"text-align: center\">Sítio Novo Do Tocantins</td>\n",
    "      <td style=\"text-align: center\">Tocantins</td>\n",
    "      <td style=\"text-align: center\">N</td>\n",
    "      <td style=\"text-align: center\">Brazil</td>\n",
    "      <td style=\"text-align: center\">NPP_375</td>\n",
    "      <td style=\"text-align: center\">Cerrado</td>\n",
    "      <td style=\"text-align: center\">2016/02/12 17:05:45</td>\n",
    "      <td style=\"text-align: center\">f</td>\n",
    "      <td style=\"text-align: left\">POINT (-47.607 -5.673)</td>\n",
    "    </tr>\n",
    "    <tr>\n",
    "      <td style=\"text-align: center\">1</td>\n",
    "      <td style=\"text-align: center\">Sítio Novo Do Tocantins</td>\n",
    "      <td style=\"text-align: center\">Tocantins</td>\n",
    "      <td style=\"text-align: center\">N</td>\n",
    "      <td style=\"text-align: center\">Brazil</td>\n",
    "      <td style=\"text-align: center\">NPP_375</td>\n",
    "      <td style=\"text-align: center\">Cerrado</td>\n",
    "      <td style=\"text-align: center\">2016/07/17 04:00:00</td>\n",
    "      <td style=\"text-align: center\">f</td>\n",
    "      <td style=\"text-align: left\">POINT (-47.606 -5.581)</td>\n",
    "    </tr>\n",
    "    <tr>\n",
    "      <td style=\"text-align: center\">2</td>\n",
    "      <td style=\"text-align: center\">Sítio Novo Do Tocantins</td>\n",
    "      <td style=\"text-align: center\">Tocantins</td>\n",
    "      <td style=\"text-align: center\">N</td>\n",
    "      <td style=\"text-align: center\">Brazil</td>\n",
    "      <td style=\"text-align: center\">AQUA_M-T</td>\n",
    "      <td style=\"text-align: center\">Cerrado</td>\n",
    "      <td style=\"text-align: center\">2016/01/15 16:40:14</td>\n",
    "      <td style=\"text-align: center\">t</td>\n",
    "      <td style=\"text-align: left\">POINT (-47.734 -5.562)</td>\n",
    "    </tr>\n",
    "    <tr>\n",
    "      <td style=\"text-align: center\">3</td>\n",
    "      <td style=\"text-align: center\">Sítio Novo Do Tocantins</td>\n",
    "      <td style=\"text-align: center\">Tocantins</td>\n",
    "      <td style=\"text-align: center\">N</td>\n",
    "      <td style=\"text-align: center\">Brazil</td>\n",
    "      <td style=\"text-align: center\">NPP_375</td>\n",
    "      <td style=\"text-align: center\">Cerrado</td>\n",
    "      <td style=\"text-align: center\">2016/07/17 04:00:00</td>\n",
    "      <td style=\"text-align: center\">f</td>\n",
    "      <td style=\"text-align: left\">POINT (-47.605 -5.58)</td>\n",
    "    </tr>\n",
    "    <tr>\n",
    "      <td style=\"text-align: center\">4</td>\n",
    "      <td style=\"text-align: center\">Sítio Novo Do Tocantins</td>\n",
    "      <td style=\"text-align: center\">Tocantins</td>\n",
    "      <td style=\"text-align: center\">N</td>\n",
    "      <td style=\"text-align: center\">Brazil</td>\n",
    "      <td style=\"text-align: center\">NPP_375</td>\n",
    "      <td style=\"text-align: center\">Cerrado</td>\n",
    "      <td style=\"text-align: center\">2016/02/12 17:05:45</td>\n",
    "      <td style=\"text-align: center\">f</td>\n",
    "      <td style=\"text-align: left\">POINT (-47.606 -5.677)</td>\n",
    "    </tr>\n",
    "  </tbody>\n",
    "</table>"
   ]
  },
  {
   "cell_type": "markdown",
   "metadata": {
    "slideshow": {
     "slide_type": "slide"
    }
   },
   "source": [
    "# 2. GeoPandas\n",
    "<hr style=\"border:1px solid #0077b9;\">"
   ]
  },
  {
   "cell_type": "markdown",
   "metadata": {
    "slideshow": {
     "slide_type": "-"
    }
   },
   "source": [
    "Vamos importar as bibliotecas `pandas`, `geopandas` e `matplotlib` para podermos manipular os dados com focos de queimada usando um `GeoDataFrame`:"
   ]
  },
  {
   "cell_type": "code",
   "execution_count": 1,
   "metadata": {
    "execution": {
     "iopub.execute_input": "2025-05-14T11:57:18.787442Z",
     "iopub.status.busy": "2025-05-14T11:57:18.787001Z",
     "iopub.status.idle": "2025-05-14T11:57:19.864487Z",
     "shell.execute_reply": "2025-05-14T11:57:19.863758Z",
     "shell.execute_reply.started": "2025-05-14T11:57:18.787415Z"
    },
    "slideshow": {
     "slide_type": "fragment"
    }
   },
   "outputs": [],
   "source": [
    "import pandas as pd\n",
    "import geopandas as gpd\n",
    "import matplotlib.pyplot as plt"
   ]
  },
  {
   "cell_type": "markdown",
   "metadata": {},
   "source": [
    "# 2.1. Abrindo shapefiles como `GeoDataFrame`:\n",
    "<hr style=\"border:0.25px solid #0077b9;\">"
   ]
  },
  {
   "cell_type": "markdown",
   "metadata": {},
   "source": [
    "### Abrindo uf_2018.shp:"
   ]
  },
  {
   "cell_type": "code",
   "execution_count": 2,
   "metadata": {
    "execution": {
     "iopub.execute_input": "2025-05-14T11:57:21.406833Z",
     "iopub.status.busy": "2025-05-14T11:57:21.406031Z",
     "iopub.status.idle": "2025-05-14T11:57:23.050811Z",
     "shell.execute_reply": "2025-05-14T11:57:23.050246Z",
     "shell.execute_reply.started": "2025-05-14T11:57:21.406809Z"
    }
   },
   "outputs": [
    {
     "name": "stderr",
     "output_type": "stream",
     "text": [
      "ERROR 1: PROJ: proj_create_from_database: Open of /opt/conda/envs/geospatial/share/proj failed\n"
     ]
    }
   ],
   "source": [
    "ufs = gpd.read_file(\"uf_2018/uf_2018.shp\")"
   ]
  },
  {
   "cell_type": "code",
   "execution_count": 3,
   "metadata": {
    "execution": {
     "iopub.execute_input": "2025-05-14T11:57:23.052248Z",
     "iopub.status.busy": "2025-05-14T11:57:23.051761Z",
     "iopub.status.idle": "2025-05-14T11:57:23.372732Z",
     "shell.execute_reply": "2025-05-14T11:57:23.372217Z",
     "shell.execute_reply.started": "2025-05-14T11:57:23.052225Z"
    }
   },
   "outputs": [
    {
     "data": {
      "text/html": [
       "<div>\n",
       "<style scoped>\n",
       "    .dataframe tbody tr th:only-of-type {\n",
       "        vertical-align: middle;\n",
       "    }\n",
       "\n",
       "    .dataframe tbody tr th {\n",
       "        vertical-align: top;\n",
       "    }\n",
       "\n",
       "    .dataframe thead th {\n",
       "        text-align: right;\n",
       "    }\n",
       "</style>\n",
       "<table border=\"1\" class=\"dataframe\">\n",
       "  <thead>\n",
       "    <tr style=\"text-align: right;\">\n",
       "      <th></th>\n",
       "      <th>ID</th>\n",
       "      <th>NOME</th>\n",
       "      <th>SIGLA</th>\n",
       "      <th>GEOCODIGO</th>\n",
       "      <th>REGIAO</th>\n",
       "      <th>REGIAO_SIG</th>\n",
       "      <th>geometry</th>\n",
       "    </tr>\n",
       "  </thead>\n",
       "  <tbody>\n",
       "    <tr>\n",
       "      <th>0</th>\n",
       "      <td>1</td>\n",
       "      <td>SERGIPE</td>\n",
       "      <td>SE</td>\n",
       "      <td>28</td>\n",
       "      <td>NORDESTE</td>\n",
       "      <td>NE</td>\n",
       "      <td>MULTIPOLYGON (((-37.98248 -11.34818, -37.98253...</td>\n",
       "    </tr>\n",
       "    <tr>\n",
       "      <th>1</th>\n",
       "      <td>2</td>\n",
       "      <td>MARANHÃO</td>\n",
       "      <td>MA</td>\n",
       "      <td>21</td>\n",
       "      <td>NORDESTE</td>\n",
       "      <td>NE</td>\n",
       "      <td>MULTIPOLYGON (((-44.48155 -2.72660, -44.47867 ...</td>\n",
       "    </tr>\n",
       "    <tr>\n",
       "      <th>2</th>\n",
       "      <td>3</td>\n",
       "      <td>ESPÍRITO SANTO</td>\n",
       "      <td>ES</td>\n",
       "      <td>32</td>\n",
       "      <td>SUDESTE</td>\n",
       "      <td>SE</td>\n",
       "      <td>MULTIPOLYGON (((-29.33711 -20.48802, -29.33686...</td>\n",
       "    </tr>\n",
       "    <tr>\n",
       "      <th>3</th>\n",
       "      <td>4</td>\n",
       "      <td>AMAZONAS</td>\n",
       "      <td>AM</td>\n",
       "      <td>13</td>\n",
       "      <td>NORTE</td>\n",
       "      <td>N</td>\n",
       "      <td>POLYGON ((-69.61341 -2.44025, -69.53446 -2.000...</td>\n",
       "    </tr>\n",
       "    <tr>\n",
       "      <th>4</th>\n",
       "      <td>5</td>\n",
       "      <td>RORAIMA</td>\n",
       "      <td>RR</td>\n",
       "      <td>14</td>\n",
       "      <td>NORTE</td>\n",
       "      <td>N</td>\n",
       "      <td>POLYGON ((-63.97805 2.46754, -63.97871 2.46840...</td>\n",
       "    </tr>\n",
       "  </tbody>\n",
       "</table>\n",
       "</div>"
      ],
      "text/plain": [
       "   ID            NOME SIGLA GEOCODIGO    REGIAO REGIAO_SIG  \\\n",
       "0   1         SERGIPE    SE        28  NORDESTE         NE   \n",
       "1   2        MARANHÃO    MA        21  NORDESTE         NE   \n",
       "2   3  ESPÍRITO SANTO    ES        32   SUDESTE         SE   \n",
       "3   4        AMAZONAS    AM        13     NORTE          N   \n",
       "4   5         RORAIMA    RR        14     NORTE          N   \n",
       "\n",
       "                                            geometry  \n",
       "0  MULTIPOLYGON (((-37.98248 -11.34818, -37.98253...  \n",
       "1  MULTIPOLYGON (((-44.48155 -2.72660, -44.47867 ...  \n",
       "2  MULTIPOLYGON (((-29.33711 -20.48802, -29.33686...  \n",
       "3  POLYGON ((-69.61341 -2.44025, -69.53446 -2.000...  \n",
       "4  POLYGON ((-63.97805 2.46754, -63.97871 2.46840...  "
      ]
     },
     "execution_count": 3,
     "metadata": {},
     "output_type": "execute_result"
    }
   ],
   "source": [
    "ufs.head()"
   ]
  },
  {
   "cell_type": "code",
   "execution_count": 4,
   "metadata": {
    "execution": {
     "iopub.execute_input": "2025-05-14T11:57:23.373796Z",
     "iopub.status.busy": "2025-05-14T11:57:23.373367Z",
     "iopub.status.idle": "2025-05-14T11:57:23.377312Z",
     "shell.execute_reply": "2025-05-14T11:57:23.376820Z",
     "shell.execute_reply.started": "2025-05-14T11:57:23.373775Z"
    }
   },
   "outputs": [
    {
     "data": {
      "text/plain": [
       "27"
      ]
     },
     "execution_count": 4,
     "metadata": {},
     "output_type": "execute_result"
    }
   ],
   "source": [
    "len(ufs)"
   ]
  },
  {
   "cell_type": "code",
   "execution_count": 5,
   "metadata": {
    "execution": {
     "iopub.execute_input": "2025-05-14T11:57:23.378640Z",
     "iopub.status.busy": "2025-05-14T11:57:23.378232Z",
     "iopub.status.idle": "2025-05-14T11:57:23.383610Z",
     "shell.execute_reply": "2025-05-14T11:57:23.383131Z",
     "shell.execute_reply.started": "2025-05-14T11:57:23.378620Z"
    }
   },
   "outputs": [
    {
     "data": {
      "text/plain": [
       "0     MultiPolygon\n",
       "1     MultiPolygon\n",
       "2     MultiPolygon\n",
       "3          Polygon\n",
       "4          Polygon\n",
       "5          Polygon\n",
       "6     MultiPolygon\n",
       "7     MultiPolygon\n",
       "8     MultiPolygon\n",
       "9          Polygon\n",
       "10    MultiPolygon\n",
       "11    MultiPolygon\n",
       "12    MultiPolygon\n",
       "13    MultiPolygon\n",
       "14         Polygon\n",
       "15         Polygon\n",
       "16    MultiPolygon\n",
       "17         Polygon\n",
       "18    MultiPolygon\n",
       "19    MultiPolygon\n",
       "20    MultiPolygon\n",
       "21    MultiPolygon\n",
       "22         Polygon\n",
       "23         Polygon\n",
       "24         Polygon\n",
       "25    MultiPolygon\n",
       "26         Polygon\n",
       "dtype: object"
      ]
     },
     "execution_count": 5,
     "metadata": {},
     "output_type": "execute_result"
    }
   ],
   "source": [
    "ufs.geometry.geom_type"
   ]
  },
  {
   "cell_type": "markdown",
   "metadata": {
    "jp-MarkdownHeadingCollapsed": true
   },
   "source": [
    "### Abrindo biomas.shp:"
   ]
  },
  {
   "cell_type": "code",
   "execution_count": 21,
   "metadata": {
    "execution": {
     "iopub.execute_input": "2025-05-14T12:00:41.120367Z",
     "iopub.status.busy": "2025-05-14T12:00:41.119741Z",
     "iopub.status.idle": "2025-05-14T12:00:45.124261Z",
     "shell.execute_reply": "2025-05-14T12:00:45.123296Z",
     "shell.execute_reply.started": "2025-05-14T12:00:41.120339Z"
    }
   },
   "outputs": [],
   "source": [
    "biomas = gpd.read_file(\"biomas/biomas.shp\")"
   ]
  },
  {
   "cell_type": "code",
   "execution_count": 22,
   "metadata": {
    "execution": {
     "iopub.execute_input": "2025-05-14T12:00:45.125593Z",
     "iopub.status.busy": "2025-05-14T12:00:45.125380Z",
     "iopub.status.idle": "2025-05-14T12:00:49.943301Z",
     "shell.execute_reply": "2025-05-14T12:00:49.942666Z",
     "shell.execute_reply.started": "2025-05-14T12:00:45.125575Z"
    }
   },
   "outputs": [
    {
     "data": {
      "text/html": [
       "<div>\n",
       "<style scoped>\n",
       "    .dataframe tbody tr th:only-of-type {\n",
       "        vertical-align: middle;\n",
       "    }\n",
       "\n",
       "    .dataframe tbody tr th {\n",
       "        vertical-align: top;\n",
       "    }\n",
       "\n",
       "    .dataframe thead th {\n",
       "        text-align: right;\n",
       "    }\n",
       "</style>\n",
       "<table border=\"1\" class=\"dataframe\">\n",
       "  <thead>\n",
       "    <tr style=\"text-align: right;\">\n",
       "      <th></th>\n",
       "      <th>Bioma</th>\n",
       "      <th>CD_Bioma</th>\n",
       "      <th>geometry</th>\n",
       "    </tr>\n",
       "  </thead>\n",
       "  <tbody>\n",
       "    <tr>\n",
       "      <th>0</th>\n",
       "      <td>Amazônia</td>\n",
       "      <td>1</td>\n",
       "      <td>MULTIPOLYGON (((-44.08515 -2.41669, -44.08560 ...</td>\n",
       "    </tr>\n",
       "    <tr>\n",
       "      <th>1</th>\n",
       "      <td>Caatinga</td>\n",
       "      <td>2</td>\n",
       "      <td>POLYGON ((-41.74080 -2.80826, -41.73673 -2.809...</td>\n",
       "    </tr>\n",
       "    <tr>\n",
       "      <th>2</th>\n",
       "      <td>Cerrado</td>\n",
       "      <td>3</td>\n",
       "      <td>POLYGON ((-43.39009 -2.33937, -43.38741 -2.342...</td>\n",
       "    </tr>\n",
       "    <tr>\n",
       "      <th>3</th>\n",
       "      <td>Mata Atlântica</td>\n",
       "      <td>4</td>\n",
       "      <td>MULTIPOLYGON (((-48.70814 -28.44851, -48.70994...</td>\n",
       "    </tr>\n",
       "    <tr>\n",
       "      <th>4</th>\n",
       "      <td>Pampa</td>\n",
       "      <td>5</td>\n",
       "      <td>POLYGON ((-52.82472 -27.46295, -52.81558 -27.4...</td>\n",
       "    </tr>\n",
       "    <tr>\n",
       "      <th>5</th>\n",
       "      <td>Pantanal</td>\n",
       "      <td>6</td>\n",
       "      <td>POLYGON ((-57.75946 -15.72779, -57.75659 -15.7...</td>\n",
       "    </tr>\n",
       "  </tbody>\n",
       "</table>\n",
       "</div>"
      ],
      "text/plain": [
       "            Bioma  CD_Bioma                                           geometry\n",
       "0        Amazônia         1  MULTIPOLYGON (((-44.08515 -2.41669, -44.08560 ...\n",
       "1        Caatinga         2  POLYGON ((-41.74080 -2.80826, -41.73673 -2.809...\n",
       "2         Cerrado         3  POLYGON ((-43.39009 -2.33937, -43.38741 -2.342...\n",
       "3  Mata Atlântica         4  MULTIPOLYGON (((-48.70814 -28.44851, -48.70994...\n",
       "4           Pampa         5  POLYGON ((-52.82472 -27.46295, -52.81558 -27.4...\n",
       "5        Pantanal         6  POLYGON ((-57.75946 -15.72779, -57.75659 -15.7..."
      ]
     },
     "execution_count": 22,
     "metadata": {},
     "output_type": "execute_result"
    }
   ],
   "source": [
    "biomas.head(10)"
   ]
  },
  {
   "cell_type": "code",
   "execution_count": 23,
   "metadata": {
    "execution": {
     "iopub.execute_input": "2025-05-14T12:00:49.944447Z",
     "iopub.status.busy": "2025-05-14T12:00:49.944227Z",
     "iopub.status.idle": "2025-05-14T12:00:49.948236Z",
     "shell.execute_reply": "2025-05-14T12:00:49.947655Z",
     "shell.execute_reply.started": "2025-05-14T12:00:49.944430Z"
    }
   },
   "outputs": [
    {
     "data": {
      "text/plain": [
       "6"
      ]
     },
     "execution_count": 23,
     "metadata": {},
     "output_type": "execute_result"
    }
   ],
   "source": [
    "len(biomas)"
   ]
  },
  {
   "cell_type": "code",
   "execution_count": 24,
   "metadata": {
    "execution": {
     "iopub.execute_input": "2025-05-14T12:00:49.949671Z",
     "iopub.status.busy": "2025-05-14T12:00:49.949262Z",
     "iopub.status.idle": "2025-05-14T12:00:49.955199Z",
     "shell.execute_reply": "2025-05-14T12:00:49.954484Z",
     "shell.execute_reply.started": "2025-05-14T12:00:49.949651Z"
    }
   },
   "outputs": [
    {
     "data": {
      "text/plain": [
       "0    MultiPolygon\n",
       "1         Polygon\n",
       "2         Polygon\n",
       "3    MultiPolygon\n",
       "4         Polygon\n",
       "5         Polygon\n",
       "dtype: object"
      ]
     },
     "execution_count": 24,
     "metadata": {},
     "output_type": "execute_result"
    }
   ],
   "source": [
    "biomas.geometry.geom_type"
   ]
  },
  {
   "cell_type": "markdown",
   "metadata": {
    "jp-MarkdownHeadingCollapsed": true
   },
   "source": [
    "### Abrindo focos_2024_br.shp:"
   ]
  },
  {
   "cell_type": "code",
   "execution_count": 6,
   "metadata": {
    "execution": {
     "iopub.execute_input": "2025-05-14T11:57:29.261666Z",
     "iopub.status.busy": "2025-05-14T11:57:29.261364Z",
     "iopub.status.idle": "2025-05-14T11:58:15.998044Z",
     "shell.execute_reply": "2025-05-14T11:58:15.997373Z",
     "shell.execute_reply.started": "2025-05-14T11:57:29.261644Z"
    }
   },
   "outputs": [],
   "source": [
    "focos = gpd.read_file(\"focos_2024_br/focos_2024_br.shp\")"
   ]
  },
  {
   "cell_type": "code",
   "execution_count": 7,
   "metadata": {
    "execution": {
     "iopub.execute_input": "2025-05-14T11:58:15.999820Z",
     "iopub.status.busy": "2025-05-14T11:58:15.999091Z",
     "iopub.status.idle": "2025-05-14T11:58:16.012997Z",
     "shell.execute_reply": "2025-05-14T11:58:16.012510Z",
     "shell.execute_reply.started": "2025-05-14T11:58:15.999797Z"
    }
   },
   "outputs": [
    {
     "data": {
      "text/html": [
       "<div>\n",
       "<style scoped>\n",
       "    .dataframe tbody tr th:only-of-type {\n",
       "        vertical-align: middle;\n",
       "    }\n",
       "\n",
       "    .dataframe tbody tr th {\n",
       "        vertical-align: top;\n",
       "    }\n",
       "\n",
       "    .dataframe thead th {\n",
       "        text-align: right;\n",
       "    }\n",
       "</style>\n",
       "<table border=\"1\" class=\"dataframe\">\n",
       "  <thead>\n",
       "    <tr style=\"text-align: right;\">\n",
       "      <th></th>\n",
       "      <th>DataHora</th>\n",
       "      <th>Satelite</th>\n",
       "      <th>Pais</th>\n",
       "      <th>Estado</th>\n",
       "      <th>Municipio</th>\n",
       "      <th>Bioma</th>\n",
       "      <th>DiaSemChuv</th>\n",
       "      <th>Precipitac</th>\n",
       "      <th>RiscoFogo</th>\n",
       "      <th>Latitude</th>\n",
       "      <th>Longitude</th>\n",
       "      <th>FRP</th>\n",
       "      <th>geometry</th>\n",
       "    </tr>\n",
       "  </thead>\n",
       "  <tbody>\n",
       "    <tr>\n",
       "      <th>0</th>\n",
       "      <td>2024/05/01 17:34:00</td>\n",
       "      <td>AQUA_M-T</td>\n",
       "      <td>Brasil</td>\n",
       "      <td>SÃO PAULO</td>\n",
       "      <td>PEREIRAS</td>\n",
       "      <td>Mata Atlântica</td>\n",
       "      <td>14.0</td>\n",
       "      <td>0.0</td>\n",
       "      <td>1.00</td>\n",
       "      <td>-23.07218</td>\n",
       "      <td>-47.99586</td>\n",
       "      <td>8.0</td>\n",
       "      <td>POINT (-47.99586 -23.07218)</td>\n",
       "    </tr>\n",
       "    <tr>\n",
       "      <th>1</th>\n",
       "      <td>2024/05/01 17:37:00</td>\n",
       "      <td>AQUA_M-T</td>\n",
       "      <td>Brasil</td>\n",
       "      <td>PIAUÍ</td>\n",
       "      <td>GILBUÉS</td>\n",
       "      <td>Cerrado</td>\n",
       "      <td>3.0</td>\n",
       "      <td>0.0</td>\n",
       "      <td>0.21</td>\n",
       "      <td>-9.54904</td>\n",
       "      <td>-45.35360</td>\n",
       "      <td>13.7</td>\n",
       "      <td>POINT (-45.35360 -9.54904)</td>\n",
       "    </tr>\n",
       "    <tr>\n",
       "      <th>2</th>\n",
       "      <td>2024/05/01 17:37:00</td>\n",
       "      <td>AQUA_M-T</td>\n",
       "      <td>Brasil</td>\n",
       "      <td>PIAUÍ</td>\n",
       "      <td>BAIXA GRANDE DO RIBEIRO</td>\n",
       "      <td>Cerrado</td>\n",
       "      <td>3.0</td>\n",
       "      <td>0.0</td>\n",
       "      <td>0.19</td>\n",
       "      <td>-8.53773</td>\n",
       "      <td>-45.05117</td>\n",
       "      <td>52.6</td>\n",
       "      <td>POINT (-45.05117 -8.53773)</td>\n",
       "    </tr>\n",
       "    <tr>\n",
       "      <th>3</th>\n",
       "      <td>2024/05/01 17:37:00</td>\n",
       "      <td>AQUA_M-T</td>\n",
       "      <td>Brasil</td>\n",
       "      <td>PIAUÍ</td>\n",
       "      <td>BAIXA GRANDE DO RIBEIRO</td>\n",
       "      <td>Cerrado</td>\n",
       "      <td>3.0</td>\n",
       "      <td>0.0</td>\n",
       "      <td>0.20</td>\n",
       "      <td>-8.53765</td>\n",
       "      <td>-45.04380</td>\n",
       "      <td>74.8</td>\n",
       "      <td>POINT (-45.04380 -8.53765)</td>\n",
       "    </tr>\n",
       "    <tr>\n",
       "      <th>4</th>\n",
       "      <td>2024/05/01 17:37:00</td>\n",
       "      <td>AQUA_M-T</td>\n",
       "      <td>Brasil</td>\n",
       "      <td>PIAUÍ</td>\n",
       "      <td>BAIXA GRANDE DO RIBEIRO</td>\n",
       "      <td>Cerrado</td>\n",
       "      <td>3.0</td>\n",
       "      <td>0.0</td>\n",
       "      <td>0.22</td>\n",
       "      <td>-8.53456</td>\n",
       "      <td>-45.03149</td>\n",
       "      <td>23.1</td>\n",
       "      <td>POINT (-45.03149 -8.53456)</td>\n",
       "    </tr>\n",
       "  </tbody>\n",
       "</table>\n",
       "</div>"
      ],
      "text/plain": [
       "              DataHora  Satelite    Pais     Estado                Municipio  \\\n",
       "0  2024/05/01 17:34:00  AQUA_M-T  Brasil  SÃO PAULO                 PEREIRAS   \n",
       "1  2024/05/01 17:37:00  AQUA_M-T  Brasil      PIAUÍ                  GILBUÉS   \n",
       "2  2024/05/01 17:37:00  AQUA_M-T  Brasil      PIAUÍ  BAIXA GRANDE DO RIBEIRO   \n",
       "3  2024/05/01 17:37:00  AQUA_M-T  Brasil      PIAUÍ  BAIXA GRANDE DO RIBEIRO   \n",
       "4  2024/05/01 17:37:00  AQUA_M-T  Brasil      PIAUÍ  BAIXA GRANDE DO RIBEIRO   \n",
       "\n",
       "            Bioma  DiaSemChuv  Precipitac  RiscoFogo  Latitude  Longitude  \\\n",
       "0  Mata Atlântica        14.0         0.0       1.00 -23.07218  -47.99586   \n",
       "1         Cerrado         3.0         0.0       0.21  -9.54904  -45.35360   \n",
       "2         Cerrado         3.0         0.0       0.19  -8.53773  -45.05117   \n",
       "3         Cerrado         3.0         0.0       0.20  -8.53765  -45.04380   \n",
       "4         Cerrado         3.0         0.0       0.22  -8.53456  -45.03149   \n",
       "\n",
       "    FRP                     geometry  \n",
       "0   8.0  POINT (-47.99586 -23.07218)  \n",
       "1  13.7   POINT (-45.35360 -9.54904)  \n",
       "2  52.6   POINT (-45.05117 -8.53773)  \n",
       "3  74.8   POINT (-45.04380 -8.53765)  \n",
       "4  23.1   POINT (-45.03149 -8.53456)  "
      ]
     },
     "execution_count": 7,
     "metadata": {},
     "output_type": "execute_result"
    }
   ],
   "source": [
    "focos.head()"
   ]
  },
  {
   "cell_type": "code",
   "execution_count": 8,
   "metadata": {
    "execution": {
     "iopub.execute_input": "2025-05-14T11:58:16.013794Z",
     "iopub.status.busy": "2025-05-14T11:58:16.013595Z",
     "iopub.status.idle": "2025-05-14T11:58:16.017539Z",
     "shell.execute_reply": "2025-05-14T11:58:16.017070Z",
     "shell.execute_reply.started": "2025-05-14T11:58:16.013777Z"
    }
   },
   "outputs": [
    {
     "data": {
      "text/plain": [
       "261117"
      ]
     },
     "execution_count": 8,
     "metadata": {},
     "output_type": "execute_result"
    }
   ],
   "source": [
    "len(focos)"
   ]
  },
  {
   "cell_type": "code",
   "execution_count": 9,
   "metadata": {
    "execution": {
     "iopub.execute_input": "2025-05-14T11:58:16.019097Z",
     "iopub.status.busy": "2025-05-14T11:58:16.018620Z",
     "iopub.status.idle": "2025-05-14T11:58:16.052150Z",
     "shell.execute_reply": "2025-05-14T11:58:16.051646Z",
     "shell.execute_reply.started": "2025-05-14T11:58:16.019079Z"
    }
   },
   "outputs": [
    {
     "data": {
      "text/plain": [
       "0         Point\n",
       "1         Point\n",
       "2         Point\n",
       "3         Point\n",
       "4         Point\n",
       "          ...  \n",
       "261112    Point\n",
       "261113    Point\n",
       "261114    Point\n",
       "261115    Point\n",
       "261116    Point\n",
       "Length: 261117, dtype: object"
      ]
     },
     "execution_count": 9,
     "metadata": {},
     "output_type": "execute_result"
    }
   ],
   "source": [
    "focos.geometry.geom_type"
   ]
  },
  {
   "cell_type": "markdown",
   "metadata": {
    "jp-MarkdownHeadingCollapsed": true,
    "slideshow": {
     "slide_type": "subslide"
    }
   },
   "source": [
    "## Pré processando os Focos de Queimadas\n",
    "<hr style=\"border:0.25px solid #0077b9;\">"
   ]
  },
  {
   "cell_type": "markdown",
   "metadata": {
    "slideshow": {
     "slide_type": "subslide"
    }
   },
   "source": [
    "Podemos descobrir os tipos de dados das colunas do `GeoDataFrame` através do atributo `dtypes`: "
   ]
  },
  {
   "cell_type": "code",
   "execution_count": 11,
   "metadata": {
    "execution": {
     "iopub.execute_input": "2025-05-14T11:58:16.067371Z",
     "iopub.status.busy": "2025-05-14T11:58:16.067168Z",
     "iopub.status.idle": "2025-05-14T11:58:16.072780Z",
     "shell.execute_reply": "2025-05-14T11:58:16.072074Z",
     "shell.execute_reply.started": "2025-05-14T11:58:16.067355Z"
    },
    "slideshow": {
     "slide_type": "fragment"
    }
   },
   "outputs": [
    {
     "data": {
      "text/plain": [
       "DataHora        object\n",
       "Satelite        object\n",
       "Pais            object\n",
       "Estado          object\n",
       "Municipio       object\n",
       "Bioma           object\n",
       "DiaSemChuv     float64\n",
       "Precipitac     float64\n",
       "RiscoFogo      float64\n",
       "Latitude       float64\n",
       "Longitude      float64\n",
       "FRP            float64\n",
       "geometry      geometry\n",
       "dtype: object"
      ]
     },
     "execution_count": 11,
     "metadata": {},
     "output_type": "execute_result"
    }
   ],
   "source": [
    "focos.dtypes"
   ]
  },
  {
   "cell_type": "markdown",
   "metadata": {},
   "source": [
    "Vamos selecionar apenas algumas colunas"
   ]
  },
  {
   "cell_type": "code",
   "execution_count": 12,
   "metadata": {
    "execution": {
     "iopub.execute_input": "2025-05-14T11:58:16.073575Z",
     "iopub.status.busy": "2025-05-14T11:58:16.073397Z",
     "iopub.status.idle": "2025-05-14T11:58:16.114512Z",
     "shell.execute_reply": "2025-05-14T11:58:16.114014Z",
     "shell.execute_reply.started": "2025-05-14T11:58:16.073559Z"
    }
   },
   "outputs": [
    {
     "data": {
      "text/html": [
       "<div>\n",
       "<style scoped>\n",
       "    .dataframe tbody tr th:only-of-type {\n",
       "        vertical-align: middle;\n",
       "    }\n",
       "\n",
       "    .dataframe tbody tr th {\n",
       "        vertical-align: top;\n",
       "    }\n",
       "\n",
       "    .dataframe thead th {\n",
       "        text-align: right;\n",
       "    }\n",
       "</style>\n",
       "<table border=\"1\" class=\"dataframe\">\n",
       "  <thead>\n",
       "    <tr style=\"text-align: right;\">\n",
       "      <th></th>\n",
       "      <th>DataHora</th>\n",
       "      <th>Estado</th>\n",
       "      <th>Municipio</th>\n",
       "      <th>geometry</th>\n",
       "    </tr>\n",
       "  </thead>\n",
       "  <tbody>\n",
       "    <tr>\n",
       "      <th>0</th>\n",
       "      <td>2024/05/01 17:34:00</td>\n",
       "      <td>SÃO PAULO</td>\n",
       "      <td>PEREIRAS</td>\n",
       "      <td>POINT (-47.99586 -23.07218)</td>\n",
       "    </tr>\n",
       "    <tr>\n",
       "      <th>1</th>\n",
       "      <td>2024/05/01 17:37:00</td>\n",
       "      <td>PIAUÍ</td>\n",
       "      <td>GILBUÉS</td>\n",
       "      <td>POINT (-45.35360 -9.54904)</td>\n",
       "    </tr>\n",
       "    <tr>\n",
       "      <th>2</th>\n",
       "      <td>2024/05/01 17:37:00</td>\n",
       "      <td>PIAUÍ</td>\n",
       "      <td>BAIXA GRANDE DO RIBEIRO</td>\n",
       "      <td>POINT (-45.05117 -8.53773)</td>\n",
       "    </tr>\n",
       "    <tr>\n",
       "      <th>3</th>\n",
       "      <td>2024/05/01 17:37:00</td>\n",
       "      <td>PIAUÍ</td>\n",
       "      <td>BAIXA GRANDE DO RIBEIRO</td>\n",
       "      <td>POINT (-45.04380 -8.53765)</td>\n",
       "    </tr>\n",
       "    <tr>\n",
       "      <th>4</th>\n",
       "      <td>2024/05/01 17:37:00</td>\n",
       "      <td>PIAUÍ</td>\n",
       "      <td>BAIXA GRANDE DO RIBEIRO</td>\n",
       "      <td>POINT (-45.03149 -8.53456)</td>\n",
       "    </tr>\n",
       "  </tbody>\n",
       "</table>\n",
       "</div>"
      ],
      "text/plain": [
       "              DataHora     Estado                Municipio  \\\n",
       "0  2024/05/01 17:34:00  SÃO PAULO                 PEREIRAS   \n",
       "1  2024/05/01 17:37:00      PIAUÍ                  GILBUÉS   \n",
       "2  2024/05/01 17:37:00      PIAUÍ  BAIXA GRANDE DO RIBEIRO   \n",
       "3  2024/05/01 17:37:00      PIAUÍ  BAIXA GRANDE DO RIBEIRO   \n",
       "4  2024/05/01 17:37:00      PIAUÍ  BAIXA GRANDE DO RIBEIRO   \n",
       "\n",
       "                      geometry  \n",
       "0  POINT (-47.99586 -23.07218)  \n",
       "1   POINT (-45.35360 -9.54904)  \n",
       "2   POINT (-45.05117 -8.53773)  \n",
       "3   POINT (-45.04380 -8.53765)  \n",
       "4   POINT (-45.03149 -8.53456)  "
      ]
     },
     "execution_count": 12,
     "metadata": {},
     "output_type": "execute_result"
    }
   ],
   "source": [
    "focos = focos[[\"DataHora\", \"Estado\", \"Municipio\", \"geometry\"]]\n",
    "# focos = focos.columns(\"DataHora\", \"Estado\", \"Municipio\", \"geometry\")\n",
    "focos.head()"
   ]
  },
  {
   "cell_type": "markdown",
   "metadata": {
    "slideshow": {
     "slide_type": "slide"
    }
   },
   "source": [
    "Visualizar os focos de queimada em um mapa."
   ]
  },
  {
   "cell_type": "code",
   "execution_count": 13,
   "metadata": {
    "execution": {
     "iopub.execute_input": "2025-05-14T11:58:16.115288Z",
     "iopub.status.busy": "2025-05-14T11:58:16.115070Z",
     "iopub.status.idle": "2025-05-14T11:58:24.689882Z",
     "shell.execute_reply": "2025-05-14T11:58:24.689377Z",
     "shell.execute_reply.started": "2025-05-14T11:58:16.115262Z"
    },
    "slideshow": {
     "slide_type": "fragment"
    }
   },
   "outputs": [
    {
     "data": {
      "text/plain": [
       "<Axes: >"
      ]
     },
     "execution_count": 13,
     "metadata": {},
     "output_type": "execute_result"
    },
    {
     "data": {
      "image/png": "[encoded data removed]",
      "text/plain": [
       "<Figure size 640x480 with 1 Axes>"
      ]
     },
     "metadata": {},
     "output_type": "display_data"
    }
   ],
   "source": [
    "focos.plot(marker='x', color='red', markersize=1)"
   ]
  },
  {
   "cell_type": "markdown",
   "metadata": {
    "slideshow": {
     "slide_type": "slide"
    }
   },
   "source": [
    "Alterar o formato da coluna `timestamp` para o tipo `datetime` para facilitar a manipulação dos dados desta coluna:"
   ]
  },
  {
   "cell_type": "code",
   "execution_count": 14,
   "metadata": {
    "execution": {
     "iopub.execute_input": "2025-05-14T11:58:24.690682Z",
     "iopub.status.busy": "2025-05-14T11:58:24.690487Z",
     "iopub.status.idle": "2025-05-14T11:58:24.751258Z",
     "shell.execute_reply": "2025-05-14T11:58:24.750718Z",
     "shell.execute_reply.started": "2025-05-14T11:58:24.690664Z"
    },
    "slideshow": {
     "slide_type": "fragment"
    }
   },
   "outputs": [
    {
     "data": {
      "text/plain": [
       "DataHora             object\n",
       "Estado               object\n",
       "Municipio            object\n",
       "geometry           geometry\n",
       "timestamp    datetime64[ns]\n",
       "dtype: object"
      ]
     },
     "execution_count": 14,
     "metadata": {},
     "output_type": "execute_result"
    }
   ],
   "source": [
    "focos[\"timestamp\"] = pd.to_datetime(focos[\"DataHora\"])\n",
    "focos.dtypes"
   ]
  },
  {
   "cell_type": "code",
   "execution_count": 15,
   "metadata": {
    "execution": {
     "iopub.execute_input": "2025-05-14T11:58:24.753207Z",
     "iopub.status.busy": "2025-05-14T11:58:24.752717Z",
     "iopub.status.idle": "2025-05-14T11:58:24.761327Z",
     "shell.execute_reply": "2025-05-14T11:58:24.760769Z",
     "shell.execute_reply.started": "2025-05-14T11:58:24.753185Z"
    },
    "slideshow": {
     "slide_type": "fragment"
    }
   },
   "outputs": [
    {
     "data": {
      "text/html": [
       "<div>\n",
       "<style scoped>\n",
       "    .dataframe tbody tr th:only-of-type {\n",
       "        vertical-align: middle;\n",
       "    }\n",
       "\n",
       "    .dataframe tbody tr th {\n",
       "        vertical-align: top;\n",
       "    }\n",
       "\n",
       "    .dataframe thead th {\n",
       "        text-align: right;\n",
       "    }\n",
       "</style>\n",
       "<table border=\"1\" class=\"dataframe\">\n",
       "  <thead>\n",
       "    <tr style=\"text-align: right;\">\n",
       "      <th></th>\n",
       "      <th>DataHora</th>\n",
       "      <th>Estado</th>\n",
       "      <th>Municipio</th>\n",
       "      <th>geometry</th>\n",
       "      <th>timestamp</th>\n",
       "    </tr>\n",
       "  </thead>\n",
       "  <tbody>\n",
       "    <tr>\n",
       "      <th>0</th>\n",
       "      <td>2024/05/01 17:34:00</td>\n",
       "      <td>SÃO PAULO</td>\n",
       "      <td>PEREIRAS</td>\n",
       "      <td>POINT (-47.99586 -23.07218)</td>\n",
       "      <td>2024-05-01 17:34:00</td>\n",
       "    </tr>\n",
       "    <tr>\n",
       "      <th>1</th>\n",
       "      <td>2024/05/01 17:37:00</td>\n",
       "      <td>PIAUÍ</td>\n",
       "      <td>GILBUÉS</td>\n",
       "      <td>POINT (-45.35360 -9.54904)</td>\n",
       "      <td>2024-05-01 17:37:00</td>\n",
       "    </tr>\n",
       "    <tr>\n",
       "      <th>2</th>\n",
       "      <td>2024/05/01 17:37:00</td>\n",
       "      <td>PIAUÍ</td>\n",
       "      <td>BAIXA GRANDE DO RIBEIRO</td>\n",
       "      <td>POINT (-45.05117 -8.53773)</td>\n",
       "      <td>2024-05-01 17:37:00</td>\n",
       "    </tr>\n",
       "    <tr>\n",
       "      <th>3</th>\n",
       "      <td>2024/05/01 17:37:00</td>\n",
       "      <td>PIAUÍ</td>\n",
       "      <td>BAIXA GRANDE DO RIBEIRO</td>\n",
       "      <td>POINT (-45.04380 -8.53765)</td>\n",
       "      <td>2024-05-01 17:37:00</td>\n",
       "    </tr>\n",
       "    <tr>\n",
       "      <th>4</th>\n",
       "      <td>2024/05/01 17:37:00</td>\n",
       "      <td>PIAUÍ</td>\n",
       "      <td>BAIXA GRANDE DO RIBEIRO</td>\n",
       "      <td>POINT (-45.03149 -8.53456)</td>\n",
       "      <td>2024-05-01 17:37:00</td>\n",
       "    </tr>\n",
       "  </tbody>\n",
       "</table>\n",
       "</div>"
      ],
      "text/plain": [
       "              DataHora     Estado                Municipio  \\\n",
       "0  2024/05/01 17:34:00  SÃO PAULO                 PEREIRAS   \n",
       "1  2024/05/01 17:37:00      PIAUÍ                  GILBUÉS   \n",
       "2  2024/05/01 17:37:00      PIAUÍ  BAIXA GRANDE DO RIBEIRO   \n",
       "3  2024/05/01 17:37:00      PIAUÍ  BAIXA GRANDE DO RIBEIRO   \n",
       "4  2024/05/01 17:37:00      PIAUÍ  BAIXA GRANDE DO RIBEIRO   \n",
       "\n",
       "                      geometry           timestamp  \n",
       "0  POINT (-47.99586 -23.07218) 2024-05-01 17:34:00  \n",
       "1   POINT (-45.35360 -9.54904) 2024-05-01 17:37:00  \n",
       "2   POINT (-45.05117 -8.53773) 2024-05-01 17:37:00  \n",
       "3   POINT (-45.04380 -8.53765) 2024-05-01 17:37:00  \n",
       "4   POINT (-45.03149 -8.53456) 2024-05-01 17:37:00  "
      ]
     },
     "execution_count": 15,
     "metadata": {},
     "output_type": "execute_result"
    }
   ],
   "source": [
    "focos.head()"
   ]
  },
  {
   "cell_type": "markdown",
   "metadata": {
    "execution": {
     "iopub.execute_input": "2025-05-12T00:47:52.135391Z",
     "iopub.status.busy": "2025-05-12T00:47:52.134621Z",
     "iopub.status.idle": "2025-05-12T00:47:52.147619Z",
     "shell.execute_reply": "2025-05-12T00:47:52.145446Z",
     "shell.execute_reply.started": "2025-05-12T00:47:52.135333Z"
    }
   },
   "source": [
    "Veja que sem transformar para timestamp não conseguimos trabalhar com datas e horários:"
   ]
  },
  {
   "cell_type": "code",
   "execution_count": 16,
   "metadata": {
    "execution": {
     "iopub.execute_input": "2025-05-14T11:58:24.762416Z",
     "iopub.status.busy": "2025-05-14T11:58:24.761944Z",
     "iopub.status.idle": "2025-05-14T11:58:24.837815Z",
     "shell.execute_reply": "2025-05-14T11:58:24.837297Z",
     "shell.execute_reply.started": "2025-05-14T11:58:24.762395Z"
    }
   },
   "outputs": [
    {
     "data": {
      "text/html": [
       "<div>\n",
       "<style scoped>\n",
       "    .dataframe tbody tr th:only-of-type {\n",
       "        vertical-align: middle;\n",
       "    }\n",
       "\n",
       "    .dataframe tbody tr th {\n",
       "        vertical-align: top;\n",
       "    }\n",
       "\n",
       "    .dataframe thead th {\n",
       "        text-align: right;\n",
       "    }\n",
       "</style>\n",
       "<table border=\"1\" class=\"dataframe\">\n",
       "  <thead>\n",
       "    <tr style=\"text-align: right;\">\n",
       "      <th></th>\n",
       "      <th>DataHora</th>\n",
       "      <th>Estado</th>\n",
       "      <th>Municipio</th>\n",
       "      <th>geometry</th>\n",
       "      <th>timestamp</th>\n",
       "    </tr>\n",
       "  </thead>\n",
       "  <tbody>\n",
       "    <tr>\n",
       "      <th>34800</th>\n",
       "      <td>2024/08/01 17:54:00</td>\n",
       "      <td>AMAZONAS</td>\n",
       "      <td>APUÍ</td>\n",
       "      <td>POINT (-59.40308 -6.72610)</td>\n",
       "      <td>2024-08-01 17:54:00</td>\n",
       "    </tr>\n",
       "    <tr>\n",
       "      <th>34801</th>\n",
       "      <td>2024/08/01 17:54:00</td>\n",
       "      <td>AMAZONAS</td>\n",
       "      <td>APUÍ</td>\n",
       "      <td>POINT (-59.42051 -6.71668)</td>\n",
       "      <td>2024-08-01 17:54:00</td>\n",
       "    </tr>\n",
       "    <tr>\n",
       "      <th>34802</th>\n",
       "      <td>2024/08/01 17:54:00</td>\n",
       "      <td>AMAZONAS</td>\n",
       "      <td>APUÍ</td>\n",
       "      <td>POINT (-59.40479 -6.71457)</td>\n",
       "      <td>2024-08-01 17:54:00</td>\n",
       "    </tr>\n",
       "    <tr>\n",
       "      <th>34803</th>\n",
       "      <td>2024/08/01 17:54:00</td>\n",
       "      <td>AMAZONAS</td>\n",
       "      <td>APUÍ</td>\n",
       "      <td>POINT (-59.14380 -6.69096)</td>\n",
       "      <td>2024-08-01 17:54:00</td>\n",
       "    </tr>\n",
       "    <tr>\n",
       "      <th>34804</th>\n",
       "      <td>2024/08/01 16:18:00</td>\n",
       "      <td>PERNAMBUCO</td>\n",
       "      <td>SANTA TEREZINHA</td>\n",
       "      <td>POINT (-37.49661 -7.41935)</td>\n",
       "      <td>2024-08-01 16:18:00</td>\n",
       "    </tr>\n",
       "    <tr>\n",
       "      <th>...</th>\n",
       "      <td>...</td>\n",
       "      <td>...</td>\n",
       "      <td>...</td>\n",
       "      <td>...</td>\n",
       "      <td>...</td>\n",
       "    </tr>\n",
       "    <tr>\n",
       "      <th>261112</th>\n",
       "      <td>2024/12/31 17:49:00</td>\n",
       "      <td>TOCANTINS</td>\n",
       "      <td>FORMOSO DO ARAGUAIA</td>\n",
       "      <td>POINT (-49.48899 -11.95043)</td>\n",
       "      <td>2024-12-31 17:49:00</td>\n",
       "    </tr>\n",
       "    <tr>\n",
       "      <th>261113</th>\n",
       "      <td>2024/12/31 17:49:00</td>\n",
       "      <td>MINAS GERAIS</td>\n",
       "      <td>SANTA VITÓRIA</td>\n",
       "      <td>POINT (-50.07574 -18.83764)</td>\n",
       "      <td>2024-12-31 17:49:00</td>\n",
       "    </tr>\n",
       "    <tr>\n",
       "      <th>261114</th>\n",
       "      <td>2024/12/31 17:47:00</td>\n",
       "      <td>SÃO PAULO</td>\n",
       "      <td>CASA BRANCA</td>\n",
       "      <td>POINT (-47.15528 -21.91783)</td>\n",
       "      <td>2024-12-31 17:47:00</td>\n",
       "    </tr>\n",
       "    <tr>\n",
       "      <th>261115</th>\n",
       "      <td>2024/12/31 17:47:00</td>\n",
       "      <td>PARANÁ</td>\n",
       "      <td>TAPEJARA</td>\n",
       "      <td>POINT (-52.86879 -23.73668)</td>\n",
       "      <td>2024-12-31 17:47:00</td>\n",
       "    </tr>\n",
       "    <tr>\n",
       "      <th>261116</th>\n",
       "      <td>2024/12/31 17:49:00</td>\n",
       "      <td>MATO GROSSO DO SUL</td>\n",
       "      <td>RIO VERDE DE MATO GROSSO</td>\n",
       "      <td>POINT (-54.88804 -18.79676)</td>\n",
       "      <td>2024-12-31 17:49:00</td>\n",
       "    </tr>\n",
       "  </tbody>\n",
       "</table>\n",
       "<p>219883 rows × 5 columns</p>\n",
       "</div>"
      ],
      "text/plain": [
       "                   DataHora              Estado                 Municipio  \\\n",
       "34800   2024/08/01 17:54:00            AMAZONAS                      APUÍ   \n",
       "34801   2024/08/01 17:54:00            AMAZONAS                      APUÍ   \n",
       "34802   2024/08/01 17:54:00            AMAZONAS                      APUÍ   \n",
       "34803   2024/08/01 17:54:00            AMAZONAS                      APUÍ   \n",
       "34804   2024/08/01 16:18:00          PERNAMBUCO           SANTA TEREZINHA   \n",
       "...                     ...                 ...                       ...   \n",
       "261112  2024/12/31 17:49:00           TOCANTINS       FORMOSO DO ARAGUAIA   \n",
       "261113  2024/12/31 17:49:00        MINAS GERAIS             SANTA VITÓRIA   \n",
       "261114  2024/12/31 17:47:00           SÃO PAULO               CASA BRANCA   \n",
       "261115  2024/12/31 17:47:00              PARANÁ                  TAPEJARA   \n",
       "261116  2024/12/31 17:49:00  MATO GROSSO DO SUL  RIO VERDE DE MATO GROSSO   \n",
       "\n",
       "                           geometry           timestamp  \n",
       "34800    POINT (-59.40308 -6.72610) 2024-08-01 17:54:00  \n",
       "34801    POINT (-59.42051 -6.71668) 2024-08-01 17:54:00  \n",
       "34802    POINT (-59.40479 -6.71457) 2024-08-01 17:54:00  \n",
       "34803    POINT (-59.14380 -6.69096) 2024-08-01 17:54:00  \n",
       "34804    POINT (-37.49661 -7.41935) 2024-08-01 16:18:00  \n",
       "...                             ...                 ...  \n",
       "261112  POINT (-49.48899 -11.95043) 2024-12-31 17:49:00  \n",
       "261113  POINT (-50.07574 -18.83764) 2024-12-31 17:49:00  \n",
       "261114  POINT (-47.15528 -21.91783) 2024-12-31 17:47:00  \n",
       "261115  POINT (-52.86879 -23.73668) 2024-12-31 17:47:00  \n",
       "261116  POINT (-54.88804 -18.79676) 2024-12-31 17:49:00  \n",
       "\n",
       "[219883 rows x 5 columns]"
      ]
     },
     "execution_count": 16,
     "metadata": {},
     "output_type": "execute_result"
    }
   ],
   "source": [
    "# focos[focos[\"DataHora\"] > \"2024-08-01\"]   #===> ERRO\n",
    "focos[focos[\"timestamp\"] > \"2024-08-01\"]  #===> OK"
   ]
  },
  {
   "cell_type": "markdown",
   "metadata": {},
   "source": [
    "Adicionando uma coluna de mês"
   ]
  },
  {
   "cell_type": "code",
   "execution_count": 17,
   "metadata": {
    "execution": {
     "iopub.execute_input": "2025-05-14T11:58:24.838645Z",
     "iopub.status.busy": "2025-05-14T11:58:24.838439Z",
     "iopub.status.idle": "2025-05-14T11:58:24.853372Z",
     "shell.execute_reply": "2025-05-14T11:58:24.852889Z",
     "shell.execute_reply.started": "2025-05-14T11:58:24.838627Z"
    }
   },
   "outputs": [
    {
     "data": {
      "text/html": [
       "<div>\n",
       "<style scoped>\n",
       "    .dataframe tbody tr th:only-of-type {\n",
       "        vertical-align: middle;\n",
       "    }\n",
       "\n",
       "    .dataframe tbody tr th {\n",
       "        vertical-align: top;\n",
       "    }\n",
       "\n",
       "    .dataframe thead th {\n",
       "        text-align: right;\n",
       "    }\n",
       "</style>\n",
       "<table border=\"1\" class=\"dataframe\">\n",
       "  <thead>\n",
       "    <tr style=\"text-align: right;\">\n",
       "      <th></th>\n",
       "      <th>DataHora</th>\n",
       "      <th>Estado</th>\n",
       "      <th>Municipio</th>\n",
       "      <th>geometry</th>\n",
       "      <th>timestamp</th>\n",
       "      <th>mes</th>\n",
       "    </tr>\n",
       "  </thead>\n",
       "  <tbody>\n",
       "    <tr>\n",
       "      <th>0</th>\n",
       "      <td>2024/05/01 17:34:00</td>\n",
       "      <td>SÃO PAULO</td>\n",
       "      <td>PEREIRAS</td>\n",
       "      <td>POINT (-47.99586 -23.07218)</td>\n",
       "      <td>2024-05-01 17:34:00</td>\n",
       "      <td>5</td>\n",
       "    </tr>\n",
       "    <tr>\n",
       "      <th>1</th>\n",
       "      <td>2024/05/01 17:37:00</td>\n",
       "      <td>PIAUÍ</td>\n",
       "      <td>GILBUÉS</td>\n",
       "      <td>POINT (-45.35360 -9.54904)</td>\n",
       "      <td>2024-05-01 17:37:00</td>\n",
       "      <td>5</td>\n",
       "    </tr>\n",
       "    <tr>\n",
       "      <th>2</th>\n",
       "      <td>2024/05/01 17:37:00</td>\n",
       "      <td>PIAUÍ</td>\n",
       "      <td>BAIXA GRANDE DO RIBEIRO</td>\n",
       "      <td>POINT (-45.05117 -8.53773)</td>\n",
       "      <td>2024-05-01 17:37:00</td>\n",
       "      <td>5</td>\n",
       "    </tr>\n",
       "    <tr>\n",
       "      <th>3</th>\n",
       "      <td>2024/05/01 17:37:00</td>\n",
       "      <td>PIAUÍ</td>\n",
       "      <td>BAIXA GRANDE DO RIBEIRO</td>\n",
       "      <td>POINT (-45.04380 -8.53765)</td>\n",
       "      <td>2024-05-01 17:37:00</td>\n",
       "      <td>5</td>\n",
       "    </tr>\n",
       "    <tr>\n",
       "      <th>4</th>\n",
       "      <td>2024/05/01 17:37:00</td>\n",
       "      <td>PIAUÍ</td>\n",
       "      <td>BAIXA GRANDE DO RIBEIRO</td>\n",
       "      <td>POINT (-45.03149 -8.53456)</td>\n",
       "      <td>2024-05-01 17:37:00</td>\n",
       "      <td>5</td>\n",
       "    </tr>\n",
       "  </tbody>\n",
       "</table>\n",
       "</div>"
      ],
      "text/plain": [
       "              DataHora     Estado                Municipio  \\\n",
       "0  2024/05/01 17:34:00  SÃO PAULO                 PEREIRAS   \n",
       "1  2024/05/01 17:37:00      PIAUÍ                  GILBUÉS   \n",
       "2  2024/05/01 17:37:00      PIAUÍ  BAIXA GRANDE DO RIBEIRO   \n",
       "3  2024/05/01 17:37:00      PIAUÍ  BAIXA GRANDE DO RIBEIRO   \n",
       "4  2024/05/01 17:37:00      PIAUÍ  BAIXA GRANDE DO RIBEIRO   \n",
       "\n",
       "                      geometry           timestamp  mes  \n",
       "0  POINT (-47.99586 -23.07218) 2024-05-01 17:34:00    5  \n",
       "1   POINT (-45.35360 -9.54904) 2024-05-01 17:37:00    5  \n",
       "2   POINT (-45.05117 -8.53773) 2024-05-01 17:37:00    5  \n",
       "3   POINT (-45.04380 -8.53765) 2024-05-01 17:37:00    5  \n",
       "4   POINT (-45.03149 -8.53456) 2024-05-01 17:37:00    5  "
      ]
     },
     "execution_count": 17,
     "metadata": {},
     "output_type": "execute_result"
    }
   ],
   "source": [
    "focos[\"mes\"] = focos[\"timestamp\"].dt.month\n",
    "focos.head()"
   ]
  },
  {
   "cell_type": "markdown",
   "metadata": {},
   "source": [
    "Adicionando uma coluna com o nome do mês"
   ]
  },
  {
   "cell_type": "code",
   "execution_count": 18,
   "metadata": {
    "execution": {
     "iopub.execute_input": "2025-05-14T11:58:24.854266Z",
     "iopub.status.busy": "2025-05-14T11:58:24.854072Z",
     "iopub.status.idle": "2025-05-14T11:58:25.390584Z",
     "shell.execute_reply": "2025-05-14T11:58:25.390079Z",
     "shell.execute_reply.started": "2025-05-14T11:58:24.854248Z"
    }
   },
   "outputs": [
    {
     "data": {
      "text/html": [
       "<div>\n",
       "<style scoped>\n",
       "    .dataframe tbody tr th:only-of-type {\n",
       "        vertical-align: middle;\n",
       "    }\n",
       "\n",
       "    .dataframe tbody tr th {\n",
       "        vertical-align: top;\n",
       "    }\n",
       "\n",
       "    .dataframe thead th {\n",
       "        text-align: right;\n",
       "    }\n",
       "</style>\n",
       "<table border=\"1\" class=\"dataframe\">\n",
       "  <thead>\n",
       "    <tr style=\"text-align: right;\">\n",
       "      <th></th>\n",
       "      <th>DataHora</th>\n",
       "      <th>Estado</th>\n",
       "      <th>Municipio</th>\n",
       "      <th>geometry</th>\n",
       "      <th>timestamp</th>\n",
       "      <th>mes</th>\n",
       "      <th>nome_mes</th>\n",
       "    </tr>\n",
       "  </thead>\n",
       "  <tbody>\n",
       "    <tr>\n",
       "      <th>0</th>\n",
       "      <td>2024/05/01 17:34:00</td>\n",
       "      <td>SÃO PAULO</td>\n",
       "      <td>PEREIRAS</td>\n",
       "      <td>POINT (-47.99586 -23.07218)</td>\n",
       "      <td>2024-05-01 17:34:00</td>\n",
       "      <td>5</td>\n",
       "      <td>May</td>\n",
       "    </tr>\n",
       "    <tr>\n",
       "      <th>1</th>\n",
       "      <td>2024/05/01 17:37:00</td>\n",
       "      <td>PIAUÍ</td>\n",
       "      <td>GILBUÉS</td>\n",
       "      <td>POINT (-45.35360 -9.54904)</td>\n",
       "      <td>2024-05-01 17:37:00</td>\n",
       "      <td>5</td>\n",
       "      <td>May</td>\n",
       "    </tr>\n",
       "    <tr>\n",
       "      <th>2</th>\n",
       "      <td>2024/05/01 17:37:00</td>\n",
       "      <td>PIAUÍ</td>\n",
       "      <td>BAIXA GRANDE DO RIBEIRO</td>\n",
       "      <td>POINT (-45.05117 -8.53773)</td>\n",
       "      <td>2024-05-01 17:37:00</td>\n",
       "      <td>5</td>\n",
       "      <td>May</td>\n",
       "    </tr>\n",
       "    <tr>\n",
       "      <th>3</th>\n",
       "      <td>2024/05/01 17:37:00</td>\n",
       "      <td>PIAUÍ</td>\n",
       "      <td>BAIXA GRANDE DO RIBEIRO</td>\n",
       "      <td>POINT (-45.04380 -8.53765)</td>\n",
       "      <td>2024-05-01 17:37:00</td>\n",
       "      <td>5</td>\n",
       "      <td>May</td>\n",
       "    </tr>\n",
       "    <tr>\n",
       "      <th>4</th>\n",
       "      <td>2024/05/01 17:37:00</td>\n",
       "      <td>PIAUÍ</td>\n",
       "      <td>BAIXA GRANDE DO RIBEIRO</td>\n",
       "      <td>POINT (-45.03149 -8.53456)</td>\n",
       "      <td>2024-05-01 17:37:00</td>\n",
       "      <td>5</td>\n",
       "      <td>May</td>\n",
       "    </tr>\n",
       "  </tbody>\n",
       "</table>\n",
       "</div>"
      ],
      "text/plain": [
       "              DataHora     Estado                Municipio  \\\n",
       "0  2024/05/01 17:34:00  SÃO PAULO                 PEREIRAS   \n",
       "1  2024/05/01 17:37:00      PIAUÍ                  GILBUÉS   \n",
       "2  2024/05/01 17:37:00      PIAUÍ  BAIXA GRANDE DO RIBEIRO   \n",
       "3  2024/05/01 17:37:00      PIAUÍ  BAIXA GRANDE DO RIBEIRO   \n",
       "4  2024/05/01 17:37:00      PIAUÍ  BAIXA GRANDE DO RIBEIRO   \n",
       "\n",
       "                      geometry           timestamp  mes nome_mes  \n",
       "0  POINT (-47.99586 -23.07218) 2024-05-01 17:34:00    5      May  \n",
       "1   POINT (-45.35360 -9.54904) 2024-05-01 17:37:00    5      May  \n",
       "2   POINT (-45.05117 -8.53773) 2024-05-01 17:37:00    5      May  \n",
       "3   POINT (-45.04380 -8.53765) 2024-05-01 17:37:00    5      May  \n",
       "4   POINT (-45.03149 -8.53456) 2024-05-01 17:37:00    5      May  "
      ]
     },
     "execution_count": 18,
     "metadata": {},
     "output_type": "execute_result"
    }
   ],
   "source": [
    "import calendar\n",
    "focos[\"nome_mes\"] = focos[\"timestamp\"].dt.month.map(lambda x: calendar.month_abbr[x])\n",
    "focos.head()"
   ]
  },
  {
   "cell_type": "markdown",
   "metadata": {
    "jp-MarkdownHeadingCollapsed": true,
    "slideshow": {
     "slide_type": "slide"
    }
   },
   "source": [
    "## Qual a distribuição dos focos ao longo dos meses do ano em 2024?\n",
    "<hr style=\"border:0.25px solid #0077b9;\">"
   ]
  },
  {
   "cell_type": "markdown",
   "metadata": {
    "slideshow": {
     "slide_type": "fragment"
    }
   },
   "source": [
    "Para responder esta pergunta podemos utilizar o operador de agregação (sumarização) `groupby`, disponível em um `DataFrame`.  \n",
    "\n",
    "Neste caso, precisaremos informar:\n",
    "* O critério da agregação: a parte contendo o número do mês na coluna com a data e hora da detecção do foco (coluna `timestamp`).\n",
    "* Utilizar uma das colunas para realizar a contagem através do operador `count`."
   ]
  },
  {
   "cell_type": "code",
   "execution_count": 47,
   "metadata": {
    "execution": {
     "iopub.execute_input": "2025-05-12T12:21:21.839157Z",
     "iopub.status.busy": "2025-05-12T12:21:21.838333Z",
     "iopub.status.idle": "2025-05-12T12:21:21.917893Z",
     "shell.execute_reply": "2025-05-12T12:21:21.916950Z",
     "shell.execute_reply.started": "2025-05-12T12:21:21.839101Z"
    },
    "slideshow": {
     "slide_type": "fragment"
    }
   },
   "outputs": [
    {
     "data": {
      "text/plain": [
       "nome_mes\n",
       "Aug    68635\n",
       "Dec    12075\n",
       "Jul    22478\n",
       "Jun    12432\n",
       "May     6324\n",
       "Nov    22663\n",
       "Oct    33356\n",
       "Sep    83154\n",
       "Name: nome_mes, dtype: int64"
      ]
     },
     "execution_count": 47,
     "metadata": {},
     "output_type": "execute_result"
    }
   ],
   "source": [
    "focos_mes = focos.groupby(focos.nome_mes).nome_mes.count()\n",
    "focos_mes"
   ]
  },
  {
   "cell_type": "markdown",
   "metadata": {
    "slideshow": {
     "slide_type": "fragment"
    }
   },
   "source": [
    "O objeto `focos_mes` retornado na operação acima corresponderá um `pandas.core.series.Series`:"
   ]
  },
  {
   "cell_type": "code",
   "execution_count": 48,
   "metadata": {
    "execution": {
     "iopub.execute_input": "2025-05-12T12:22:24.471633Z",
     "iopub.status.busy": "2025-05-12T12:22:24.470948Z",
     "iopub.status.idle": "2025-05-12T12:22:24.482690Z",
     "shell.execute_reply": "2025-05-12T12:22:24.481100Z",
     "shell.execute_reply.started": "2025-05-12T12:22:24.471575Z"
    },
    "slideshow": {
     "slide_type": "fragment"
    }
   },
   "outputs": [
    {
     "data": {
      "text/plain": [
       "pandas.core.series.Series"
      ]
     },
     "execution_count": 48,
     "metadata": {},
     "output_type": "execute_result"
    }
   ],
   "source": [
    "type(focos_mes)"
   ]
  },
  {
   "cell_type": "markdown",
   "metadata": {
    "slideshow": {
     "slide_type": "fragment"
    }
   },
   "source": [
    "Na saída acima podemos notar o seguinte:\n",
    "* O nome da série é `Estado`, por conta da coluna usada para realizar a contagem.\n",
    "* Os índices da série correspondem aos índices numéricos dos meses do ano."
   ]
  },
  {
   "cell_type": "code",
   "execution_count": 49,
   "metadata": {
    "execution": {
     "iopub.execute_input": "2025-05-12T12:22:46.534737Z",
     "iopub.status.busy": "2025-05-12T12:22:46.534083Z",
     "iopub.status.idle": "2025-05-12T12:22:46.740895Z",
     "shell.execute_reply": "2025-05-12T12:22:46.740042Z",
     "shell.execute_reply.started": "2025-05-12T12:22:46.534684Z"
    }
   },
   "outputs": [
    {
     "data": {
      "text/plain": [
       "<Axes: xlabel='nome_mes'>"
      ]
     },
     "execution_count": 49,
     "metadata": {},
     "output_type": "execute_result"
    },
    {
     "data": {
      "image/png": "[encoded data removed]",
      "text/plain": [
       "<Figure size 640x480 with 1 Axes>"
      ]
     },
     "metadata": {},
     "output_type": "display_data"
    }
   ],
   "source": [
    "focos_mes.plot.bar(legend=True, fontsize=10)"
   ]
  },
  {
   "cell_type": "markdown",
   "metadata": {
    "slideshow": {
     "slide_type": "fragment"
    }
   },
   "source": [
    "Podemos ajustar o nome da série e o rótulo do índice:"
   ]
  },
  {
   "cell_type": "code",
   "execution_count": 50,
   "metadata": {
    "execution": {
     "iopub.execute_input": "2025-05-12T12:23:59.389604Z",
     "iopub.status.busy": "2025-05-12T12:23:59.388846Z",
     "iopub.status.idle": "2025-05-12T12:23:59.403392Z",
     "shell.execute_reply": "2025-05-12T12:23:59.401867Z",
     "shell.execute_reply.started": "2025-05-12T12:23:59.389551Z"
    },
    "slideshow": {
     "slide_type": "fragment"
    }
   },
   "outputs": [
    {
     "data": {
      "text/plain": [
       "Mês\n",
       "Aug    68635\n",
       "Dec    12075\n",
       "Jul    22478\n",
       "Jun    12432\n",
       "May     6324\n",
       "Nov    22663\n",
       "Oct    33356\n",
       "Sep    83154\n",
       "Name: Número Focos/Mês, dtype: int64"
      ]
     },
     "execution_count": 50,
     "metadata": {},
     "output_type": "execute_result"
    }
   ],
   "source": [
    "focos_mes.name=\"Número Focos/Mês\"\n",
    "focos_mes.index.name=\"Mês\"\n",
    "focos_mes"
   ]
  },
  {
   "cell_type": "markdown",
   "metadata": {
    "slideshow": {
     "slide_type": "subslide"
    }
   },
   "source": [
    "Podemos apresentar um gráfico de barras com o total de focos por mês:"
   ]
  },
  {
   "cell_type": "code",
   "execution_count": 51,
   "metadata": {
    "execution": {
     "iopub.execute_input": "2025-05-12T12:24:03.079435Z",
     "iopub.status.busy": "2025-05-12T12:24:03.076295Z",
     "iopub.status.idle": "2025-05-12T12:24:03.283129Z",
     "shell.execute_reply": "2025-05-12T12:24:03.282017Z",
     "shell.execute_reply.started": "2025-05-12T12:24:03.078851Z"
    },
    "slideshow": {
     "slide_type": "fragment"
    }
   },
   "outputs": [
    {
     "data": {
      "text/plain": [
       "<Axes: xlabel='Mês'>"
      ]
     },
     "execution_count": 51,
     "metadata": {},
     "output_type": "execute_result"
    },
    {
     "data": {
      "image/png": "[encoded data removed]",
      "text/plain": [
       "<Figure size 640x480 with 1 Axes>"
      ]
     },
     "metadata": {},
     "output_type": "display_data"
    }
   ],
   "source": [
    "focos_mes.plot.bar(legend=True, fontsize=10)"
   ]
  },
  {
   "cell_type": "markdown",
   "metadata": {
    "slideshow": {
     "slide_type": "subslide"
    }
   },
   "source": [
    "Podemos melhorar nosso gráfico controlando as diversas opções de plotagem fornecidas pela Matplotlib:"
   ]
  },
  {
   "cell_type": "code",
   "execution_count": 52,
   "metadata": {
    "execution": {
     "iopub.execute_input": "2025-05-12T12:24:16.724618Z",
     "iopub.status.busy": "2025-05-12T12:24:16.723971Z",
     "iopub.status.idle": "2025-05-12T12:24:17.064112Z",
     "shell.execute_reply": "2025-05-12T12:24:17.063211Z",
     "shell.execute_reply.started": "2025-05-12T12:24:16.724566Z"
    },
    "slideshow": {
     "slide_type": "fragment"
    }
   },
   "outputs": [
    {
     "data": {
      "image/png": "[encoded data removed]",
      "text/plain": [
       "<Figure size 2000x1000 with 1 Axes>"
      ]
     },
     "metadata": {},
     "output_type": "display_data"
    }
   ],
   "source": [
    "ax = focos_mes.plot(kind=\"bar\", legend=True, fontsize=20, figsize=(20,10));\n",
    "ax.set_title(\"Focos Mensal - 2024\", fontsize=28);\n",
    "ax.set_xlabel(\"Mes\", fontsize=24);\n",
    "ax.set_ylabel(\"Focos\", fontsize=24);\n",
    "ax.legend(loc=2, prop={'size': 20});"
   ]
  },
  {
   "cell_type": "markdown",
   "metadata": {
    "slideshow": {
     "slide_type": "subslide"
    }
   },
   "source": [
    "Podemos salvar a figura do gráfico gerado:"
   ]
  },
  {
   "cell_type": "code",
   "execution_count": 53,
   "metadata": {
    "execution": {
     "iopub.execute_input": "2025-05-12T12:24:45.014625Z",
     "iopub.status.busy": "2025-05-12T12:24:45.013968Z",
     "iopub.status.idle": "2025-05-12T12:24:45.175593Z",
     "shell.execute_reply": "2025-05-12T12:24:45.174066Z",
     "shell.execute_reply.started": "2025-05-12T12:24:45.014574Z"
    },
    "slideshow": {
     "slide_type": "fragment"
    }
   },
   "outputs": [],
   "source": [
    "ax.figure.savefig(\"chart-focos-meses-2024.png\", dpi=100, format=\"png\")"
   ]
  },
  {
   "cell_type": "markdown",
   "metadata": {
    "jp-MarkdownHeadingCollapsed": true
   },
   "source": [
    "## Qual a distribuição dos focos por estado?\n",
    "<hr style=\"border:0.25px solid #0077b9;\">"
   ]
  },
  {
   "cell_type": "code",
   "execution_count": 54,
   "metadata": {
    "execution": {
     "iopub.execute_input": "2025-05-12T12:26:49.731960Z",
     "iopub.status.busy": "2025-05-12T12:26:49.731336Z",
     "iopub.status.idle": "2025-05-12T12:26:49.825293Z",
     "shell.execute_reply": "2025-05-12T12:26:49.824202Z",
     "shell.execute_reply.started": "2025-05-12T12:26:49.731909Z"
    }
   },
   "outputs": [
    {
     "data": {
      "text/plain": [
       "Estado\n",
       "ACRE                    8633\n",
       "ALAGOAS                  166\n",
       "AMAPÁ                   2008\n",
       "AMAZONAS               25131\n",
       "BAHIA                   8165\n",
       "CEARÁ                   6762\n",
       "DISTRITO FEDERAL         339\n",
       "ESPÍRITO SANTO           598\n",
       "GOIÁS                   5782\n",
       "MARANHÃO               22070\n",
       "MATO GROSSO            46420\n",
       "MATO GROSSO DO SUL     12080\n",
       "MINAS GERAIS           11293\n",
       "PARANÁ                  2425\n",
       "PARAÍBA                 1006\n",
       "PARÁ                   55012\n",
       "PERNAMBUCO              1860\n",
       "PIAUÍ                  10213\n",
       "RIO DE JANEIRO          1142\n",
       "RIO GRANDE DO NORTE      556\n",
       "RIO GRANDE DO SUL       1425\n",
       "RONDÔNIA               10478\n",
       "RORAIMA                  749\n",
       "SANTA CATARINA          1605\n",
       "SERGIPE                  127\n",
       "SÃO PAULO               8343\n",
       "TOCANTINS              16729\n",
       "Name: Estado, dtype: int64"
      ]
     },
     "execution_count": 54,
     "metadata": {},
     "output_type": "execute_result"
    }
   ],
   "source": [
    "focos_estados = focos.groupby(focos.Estado).Estado.count()\n",
    "focos_estados"
   ]
  },
  {
   "cell_type": "markdown",
   "metadata": {},
   "source": [
    "Vamos plotar a contagem de focos por estado em 2024"
   ]
  },
  {
   "cell_type": "code",
   "execution_count": 57,
   "metadata": {
    "execution": {
     "iopub.execute_input": "2025-05-12T12:27:21.970731Z",
     "iopub.status.busy": "2025-05-12T12:27:21.969350Z",
     "iopub.status.idle": "2025-05-12T12:27:22.321502Z",
     "shell.execute_reply": "2025-05-12T12:27:22.320122Z",
     "shell.execute_reply.started": "2025-05-12T12:27:21.970673Z"
    }
   },
   "outputs": [
    {
     "data": {
      "text/plain": [
       "<Axes: xlabel='Estado'>"
      ]
     },
     "execution_count": 57,
     "metadata": {},
     "output_type": "execute_result"
    },
    {
     "data": {
      "image/png": "[encoded data removed]",
      "text/plain": [
       "<Figure size 640x480 with 1 Axes>"
      ]
     },
     "metadata": {},
     "output_type": "display_data"
    }
   ],
   "source": [
    "focos_estados.plot.bar(legend=True, fontsize=10)"
   ]
  },
  {
   "cell_type": "markdown",
   "metadata": {
    "execution": {
     "iopub.execute_input": "2025-05-12T01:16:17.512778Z",
     "iopub.status.busy": "2025-05-12T01:16:17.511952Z",
     "iopub.status.idle": "2025-05-12T01:16:17.530208Z",
     "shell.execute_reply": "2025-05-12T01:16:17.528618Z",
     "shell.execute_reply.started": "2025-05-12T01:16:17.512718Z"
    }
   },
   "source": [
    "Podemos ordenar essa série por quantidade de focos?"
   ]
  },
  {
   "cell_type": "code",
   "execution_count": 60,
   "metadata": {
    "execution": {
     "iopub.execute_input": "2025-05-12T12:28:23.407151Z",
     "iopub.status.busy": "2025-05-12T12:28:23.406458Z",
     "iopub.status.idle": "2025-05-12T12:28:23.416430Z",
     "shell.execute_reply": "2025-05-12T12:28:23.414670Z",
     "shell.execute_reply.started": "2025-05-12T12:28:23.407099Z"
    }
   },
   "outputs": [],
   "source": [
    "focos_estados.sort_values(ascending = False, inplace = True)\n",
    "# inplace=True"
   ]
  },
  {
   "cell_type": "code",
   "execution_count": 61,
   "metadata": {
    "execution": {
     "iopub.execute_input": "2025-05-12T12:28:34.881985Z",
     "iopub.status.busy": "2025-05-12T12:28:34.881282Z",
     "iopub.status.idle": "2025-05-12T12:28:35.233299Z",
     "shell.execute_reply": "2025-05-12T12:28:35.232382Z",
     "shell.execute_reply.started": "2025-05-12T12:28:34.881904Z"
    }
   },
   "outputs": [
    {
     "data": {
      "text/plain": [
       "<Axes: xlabel='Estado'>"
      ]
     },
     "execution_count": 61,
     "metadata": {},
     "output_type": "execute_result"
    },
    {
     "data": {
      "image/png": "[encoded data removed]",
      "text/plain": [
       "<Figure size 640x480 with 1 Axes>"
      ]
     },
     "metadata": {},
     "output_type": "display_data"
    }
   ],
   "source": [
    "focos_estados.plot.bar(legend=True, fontsize=10)"
   ]
  },
  {
   "cell_type": "markdown",
   "metadata": {
    "jp-MarkdownHeadingCollapsed": true,
    "slideshow": {
     "slide_type": "slide"
    }
   },
   "source": [
    "## Como filtrar os focos de queimada do estado do PARÁ?\n",
    "<hr style=\"border:0.25px solid #0077b9;\">"
   ]
  },
  {
   "cell_type": "code",
   "execution_count": 62,
   "metadata": {
    "execution": {
     "iopub.execute_input": "2025-05-12T12:29:27.623147Z",
     "iopub.status.busy": "2025-05-12T12:29:27.622444Z",
     "iopub.status.idle": "2025-05-12T12:29:27.711199Z",
     "shell.execute_reply": "2025-05-12T12:29:27.710332Z",
     "shell.execute_reply.started": "2025-05-12T12:29:27.623095Z"
    },
    "slideshow": {
     "slide_type": "fragment"
    }
   },
   "outputs": [
    {
     "data": {
      "text/html": [
       "<div>\n",
       "<style scoped>\n",
       "    .dataframe tbody tr th:only-of-type {\n",
       "        vertical-align: middle;\n",
       "    }\n",
       "\n",
       "    .dataframe tbody tr th {\n",
       "        vertical-align: top;\n",
       "    }\n",
       "\n",
       "    .dataframe thead th {\n",
       "        text-align: right;\n",
       "    }\n",
       "</style>\n",
       "<table border=\"1\" class=\"dataframe\">\n",
       "  <thead>\n",
       "    <tr style=\"text-align: right;\">\n",
       "      <th></th>\n",
       "      <th>DataHora</th>\n",
       "      <th>Estado</th>\n",
       "      <th>Municipio</th>\n",
       "      <th>geometry</th>\n",
       "      <th>timestamp</th>\n",
       "      <th>mes</th>\n",
       "      <th>nome_mes</th>\n",
       "    </tr>\n",
       "  </thead>\n",
       "  <tbody>\n",
       "    <tr>\n",
       "      <th>96</th>\n",
       "      <td>2024/05/01 17:37:00</td>\n",
       "      <td>PARÁ</td>\n",
       "      <td>SANTANA DO ARAGUAIA</td>\n",
       "      <td>POINT (-50.72586 -9.43763)</td>\n",
       "      <td>2024-05-01 17:37:00</td>\n",
       "      <td>5</td>\n",
       "      <td>May</td>\n",
       "    </tr>\n",
       "    <tr>\n",
       "      <th>99</th>\n",
       "      <td>2024/05/01 17:37:00</td>\n",
       "      <td>PARÁ</td>\n",
       "      <td>SÃO FÉLIX DO XINGU</td>\n",
       "      <td>POINT (-51.93761 -9.20679)</td>\n",
       "      <td>2024-05-01 17:37:00</td>\n",
       "      <td>5</td>\n",
       "      <td>May</td>\n",
       "    </tr>\n",
       "    <tr>\n",
       "      <th>100</th>\n",
       "      <td>2024/05/01 17:37:00</td>\n",
       "      <td>PARÁ</td>\n",
       "      <td>SANTANA DO ARAGUAIA</td>\n",
       "      <td>POINT (-51.03996 -9.08585)</td>\n",
       "      <td>2024-05-01 17:37:00</td>\n",
       "      <td>5</td>\n",
       "      <td>May</td>\n",
       "    </tr>\n",
       "    <tr>\n",
       "      <th>103</th>\n",
       "      <td>2024/05/01 17:37:00</td>\n",
       "      <td>PARÁ</td>\n",
       "      <td>CUMARU DO NORTE</td>\n",
       "      <td>POINT (-51.40793 -8.66107)</td>\n",
       "      <td>2024-05-01 17:37:00</td>\n",
       "      <td>5</td>\n",
       "      <td>May</td>\n",
       "    </tr>\n",
       "    <tr>\n",
       "      <th>104</th>\n",
       "      <td>2024/05/01 17:37:00</td>\n",
       "      <td>PARÁ</td>\n",
       "      <td>CONCEIÇÃO DO ARAGUAIA</td>\n",
       "      <td>POINT (-49.76634 -8.15143)</td>\n",
       "      <td>2024-05-01 17:37:00</td>\n",
       "      <td>5</td>\n",
       "      <td>May</td>\n",
       "    </tr>\n",
       "  </tbody>\n",
       "</table>\n",
       "</div>"
      ],
      "text/plain": [
       "                DataHora Estado              Municipio  \\\n",
       "96   2024/05/01 17:37:00   PARÁ    SANTANA DO ARAGUAIA   \n",
       "99   2024/05/01 17:37:00   PARÁ     SÃO FÉLIX DO XINGU   \n",
       "100  2024/05/01 17:37:00   PARÁ    SANTANA DO ARAGUAIA   \n",
       "103  2024/05/01 17:37:00   PARÁ        CUMARU DO NORTE   \n",
       "104  2024/05/01 17:37:00   PARÁ  CONCEIÇÃO DO ARAGUAIA   \n",
       "\n",
       "                       geometry           timestamp  mes nome_mes  \n",
       "96   POINT (-50.72586 -9.43763) 2024-05-01 17:37:00    5      May  \n",
       "99   POINT (-51.93761 -9.20679) 2024-05-01 17:37:00    5      May  \n",
       "100  POINT (-51.03996 -9.08585) 2024-05-01 17:37:00    5      May  \n",
       "103  POINT (-51.40793 -8.66107) 2024-05-01 17:37:00    5      May  \n",
       "104  POINT (-49.76634 -8.15143) 2024-05-01 17:37:00    5      May  "
      ]
     },
     "execution_count": 62,
     "metadata": {},
     "output_type": "execute_result"
    }
   ],
   "source": [
    "focos_para = focos[focos.Estado == 'PARÁ']\n",
    "focos_para.head()"
   ]
  },
  {
   "cell_type": "markdown",
   "metadata": {},
   "source": [
    "Vamos plotar esses dados filtrados:"
   ]
  },
  {
   "cell_type": "code",
   "execution_count": 63,
   "metadata": {
    "execution": {
     "iopub.execute_input": "2025-05-12T12:30:14.090093Z",
     "iopub.status.busy": "2025-05-12T12:30:14.089431Z",
     "iopub.status.idle": "2025-05-12T12:30:15.889378Z",
     "shell.execute_reply": "2025-05-12T12:30:15.888034Z",
     "shell.execute_reply.started": "2025-05-12T12:30:14.090040Z"
    }
   },
   "outputs": [
    {
     "data": {
      "text/plain": [
       "<Axes: >"
      ]
     },
     "execution_count": 63,
     "metadata": {},
     "output_type": "execute_result"
    },
    {
     "data": {
      "image/png": "[encoded data removed]",
      "text/plain": [
       "<Figure size 640x480 with 1 Axes>"
      ]
     },
     "metadata": {},
     "output_type": "display_data"
    }
   ],
   "source": [
    "focos_para.plot(marker='x', color='red', markersize=5)"
   ]
  },
  {
   "cell_type": "markdown",
   "metadata": {
    "execution": {
     "iopub.execute_input": "2025-05-12T01:04:41.048336Z",
     "iopub.status.busy": "2025-05-12T01:04:41.047534Z",
     "iopub.status.idle": "2025-05-12T01:04:41.059930Z",
     "shell.execute_reply": "2025-05-12T01:04:41.058208Z",
     "shell.execute_reply.started": "2025-05-12T01:04:41.048270Z"
    }
   },
   "source": [
    "Podemos também plotar juntamente com a shape do Brasil:"
   ]
  },
  {
   "cell_type": "code",
   "execution_count": 66,
   "metadata": {
    "execution": {
     "iopub.execute_input": "2025-05-12T12:32:04.764432Z",
     "iopub.status.busy": "2025-05-12T12:32:04.763742Z",
     "iopub.status.idle": "2025-05-12T12:32:06.645822Z",
     "shell.execute_reply": "2025-05-12T12:32:06.644785Z",
     "shell.execute_reply.started": "2025-05-12T12:32:04.764379Z"
    }
   },
   "outputs": [
    {
     "data": {
      "image/png": "[encoded data removed]",
      "text/plain": [
       "<Figure size 640x480 with 1 Axes>"
      ]
     },
     "metadata": {},
     "output_type": "display_data"
    }
   ],
   "source": [
    "fig, ax = plt.subplots()\n",
    "focos_para.plot(marker='x', color='red', markersize=5, ax=ax)\n",
    "ufs[ufs.SIGLA == \"PA\"].plot(edgecolor='black', facecolor='none', ax=ax)\n",
    "plt.show()"
   ]
  },
  {
   "cell_type": "markdown",
   "metadata": {
    "jp-MarkdownHeadingCollapsed": true
   },
   "source": [
    "## Além de filtrar para PARÁ, como podemos filtrar somente para um mês (e.g. setembro)?\n",
    "<hr style=\"border:0.25px solid #0077b9;\">"
   ]
  },
  {
   "cell_type": "code",
   "execution_count": 67,
   "metadata": {
    "execution": {
     "iopub.execute_input": "2025-05-12T12:32:56.782341Z",
     "iopub.status.busy": "2025-05-12T12:32:56.781648Z",
     "iopub.status.idle": "2025-05-12T12:32:56.852500Z",
     "shell.execute_reply": "2025-05-12T12:32:56.851606Z",
     "shell.execute_reply.started": "2025-05-12T12:32:56.782283Z"
    },
    "slideshow": {
     "slide_type": "fragment"
    }
   },
   "outputs": [
    {
     "data": {
      "text/html": [
       "<div>\n",
       "<style scoped>\n",
       "    .dataframe tbody tr th:only-of-type {\n",
       "        vertical-align: middle;\n",
       "    }\n",
       "\n",
       "    .dataframe tbody tr th {\n",
       "        vertical-align: top;\n",
       "    }\n",
       "\n",
       "    .dataframe thead th {\n",
       "        text-align: right;\n",
       "    }\n",
       "</style>\n",
       "<table border=\"1\" class=\"dataframe\">\n",
       "  <thead>\n",
       "    <tr style=\"text-align: right;\">\n",
       "      <th></th>\n",
       "      <th>DataHora</th>\n",
       "      <th>Estado</th>\n",
       "      <th>Municipio</th>\n",
       "      <th>geometry</th>\n",
       "      <th>timestamp</th>\n",
       "      <th>mes</th>\n",
       "      <th>nome_mes</th>\n",
       "    </tr>\n",
       "  </thead>\n",
       "  <tbody>\n",
       "    <tr>\n",
       "      <th>97139</th>\n",
       "      <td>2024/09/02 18:13:00</td>\n",
       "      <td>PARÁ</td>\n",
       "      <td>AVEIRO</td>\n",
       "      <td>POINT (-56.33116 -3.49490)</td>\n",
       "      <td>2024-09-02 18:13:00</td>\n",
       "      <td>9</td>\n",
       "      <td>Sep</td>\n",
       "    </tr>\n",
       "    <tr>\n",
       "      <th>97140</th>\n",
       "      <td>2024/09/02 18:13:00</td>\n",
       "      <td>PARÁ</td>\n",
       "      <td>AVEIRO</td>\n",
       "      <td>POINT (-56.32045 -3.49332)</td>\n",
       "      <td>2024-09-02 18:13:00</td>\n",
       "      <td>9</td>\n",
       "      <td>Sep</td>\n",
       "    </tr>\n",
       "    <tr>\n",
       "      <th>97141</th>\n",
       "      <td>2024/09/02 18:13:00</td>\n",
       "      <td>PARÁ</td>\n",
       "      <td>JURUTI</td>\n",
       "      <td>POINT (-56.62276 -3.13990)</td>\n",
       "      <td>2024-09-02 18:13:00</td>\n",
       "      <td>9</td>\n",
       "      <td>Sep</td>\n",
       "    </tr>\n",
       "    <tr>\n",
       "      <th>97142</th>\n",
       "      <td>2024/09/02 18:13:00</td>\n",
       "      <td>PARÁ</td>\n",
       "      <td>TRAIRÃO</td>\n",
       "      <td>POINT (-56.04163 -5.11134)</td>\n",
       "      <td>2024-09-02 18:13:00</td>\n",
       "      <td>9</td>\n",
       "      <td>Sep</td>\n",
       "    </tr>\n",
       "    <tr>\n",
       "      <th>97143</th>\n",
       "      <td>2024/09/02 18:13:00</td>\n",
       "      <td>PARÁ</td>\n",
       "      <td>TRAIRÃO</td>\n",
       "      <td>POINT (-56.23505 -4.97514)</td>\n",
       "      <td>2024-09-02 18:13:00</td>\n",
       "      <td>9</td>\n",
       "      <td>Sep</td>\n",
       "    </tr>\n",
       "  </tbody>\n",
       "</table>\n",
       "</div>"
      ],
      "text/plain": [
       "                  DataHora Estado Municipio                    geometry  \\\n",
       "97139  2024/09/02 18:13:00   PARÁ    AVEIRO  POINT (-56.33116 -3.49490)   \n",
       "97140  2024/09/02 18:13:00   PARÁ    AVEIRO  POINT (-56.32045 -3.49332)   \n",
       "97141  2024/09/02 18:13:00   PARÁ    JURUTI  POINT (-56.62276 -3.13990)   \n",
       "97142  2024/09/02 18:13:00   PARÁ   TRAIRÃO  POINT (-56.04163 -5.11134)   \n",
       "97143  2024/09/02 18:13:00   PARÁ   TRAIRÃO  POINT (-56.23505 -4.97514)   \n",
       "\n",
       "                timestamp  mes nome_mes  \n",
       "97139 2024-09-02 18:13:00    9      Sep  \n",
       "97140 2024-09-02 18:13:00    9      Sep  \n",
       "97141 2024-09-02 18:13:00    9      Sep  \n",
       "97142 2024-09-02 18:13:00    9      Sep  \n",
       "97143 2024-09-02 18:13:00    9      Sep  "
      ]
     },
     "execution_count": 67,
     "metadata": {},
     "output_type": "execute_result"
    }
   ],
   "source": [
    "focos_para_sep = focos[(focos.Estado == 'PARÁ') & (focos.timestamp.dt.month == 9)]\n",
    "focos_para_sep.head()"
   ]
  },
  {
   "cell_type": "code",
   "execution_count": 68,
   "metadata": {
    "execution": {
     "iopub.execute_input": "2025-05-12T12:34:04.027220Z",
     "iopub.status.busy": "2025-05-12T12:34:04.026592Z",
     "iopub.status.idle": "2025-05-12T12:34:04.702337Z",
     "shell.execute_reply": "2025-05-12T12:34:04.701481Z",
     "shell.execute_reply.started": "2025-05-12T12:34:04.027168Z"
    }
   },
   "outputs": [
    {
     "data": {
      "image/png": "[encoded data removed]",
      "text/plain": [
       "<Figure size 640x480 with 1 Axes>"
      ]
     },
     "metadata": {},
     "output_type": "display_data"
    }
   ],
   "source": [
    "fig, ax = plt.subplots()\n",
    "ufs[ufs.SIGLA == \"PA\"].plot(facecolor='none', ax=ax)\n",
    "focos_para_sep.plot(marker='x', color='red', markersize=5, ax=ax)\n",
    "plt.show()"
   ]
  },
  {
   "cell_type": "markdown",
   "metadata": {
    "slideshow": {
     "slide_type": "slide"
    }
   },
   "source": [
    "## Como podemos mesclar os focos com os biomas?"
   ]
  },
  {
   "cell_type": "code",
   "execution_count": 25,
   "metadata": {
    "execution": {
     "iopub.execute_input": "2025-05-14T12:00:58.841512Z",
     "iopub.status.busy": "2025-05-14T12:00:58.841195Z",
     "iopub.status.idle": "2025-05-14T12:00:58.852112Z",
     "shell.execute_reply": "2025-05-14T12:00:58.851421Z",
     "shell.execute_reply.started": "2025-05-14T12:00:58.841491Z"
    }
   },
   "outputs": [
    {
     "data": {
      "text/html": [
       "<div>\n",
       "<style scoped>\n",
       "    .dataframe tbody tr th:only-of-type {\n",
       "        vertical-align: middle;\n",
       "    }\n",
       "\n",
       "    .dataframe tbody tr th {\n",
       "        vertical-align: top;\n",
       "    }\n",
       "\n",
       "    .dataframe thead th {\n",
       "        text-align: right;\n",
       "    }\n",
       "</style>\n",
       "<table border=\"1\" class=\"dataframe\">\n",
       "  <thead>\n",
       "    <tr style=\"text-align: right;\">\n",
       "      <th></th>\n",
       "      <th>DataHora</th>\n",
       "      <th>Estado</th>\n",
       "      <th>Municipio</th>\n",
       "      <th>geometry</th>\n",
       "      <th>timestamp</th>\n",
       "      <th>mes</th>\n",
       "      <th>nome_mes</th>\n",
       "    </tr>\n",
       "  </thead>\n",
       "  <tbody>\n",
       "    <tr>\n",
       "      <th>0</th>\n",
       "      <td>2024/05/01 17:34:00</td>\n",
       "      <td>SÃO PAULO</td>\n",
       "      <td>PEREIRAS</td>\n",
       "      <td>POINT (-47.99586 -23.07218)</td>\n",
       "      <td>2024-05-01 17:34:00</td>\n",
       "      <td>5</td>\n",
       "      <td>May</td>\n",
       "    </tr>\n",
       "    <tr>\n",
       "      <th>1</th>\n",
       "      <td>2024/05/01 17:37:00</td>\n",
       "      <td>PIAUÍ</td>\n",
       "      <td>GILBUÉS</td>\n",
       "      <td>POINT (-45.35360 -9.54904)</td>\n",
       "      <td>2024-05-01 17:37:00</td>\n",
       "      <td>5</td>\n",
       "      <td>May</td>\n",
       "    </tr>\n",
       "    <tr>\n",
       "      <th>2</th>\n",
       "      <td>2024/05/01 17:37:00</td>\n",
       "      <td>PIAUÍ</td>\n",
       "      <td>BAIXA GRANDE DO RIBEIRO</td>\n",
       "      <td>POINT (-45.05117 -8.53773)</td>\n",
       "      <td>2024-05-01 17:37:00</td>\n",
       "      <td>5</td>\n",
       "      <td>May</td>\n",
       "    </tr>\n",
       "    <tr>\n",
       "      <th>3</th>\n",
       "      <td>2024/05/01 17:37:00</td>\n",
       "      <td>PIAUÍ</td>\n",
       "      <td>BAIXA GRANDE DO RIBEIRO</td>\n",
       "      <td>POINT (-45.04380 -8.53765)</td>\n",
       "      <td>2024-05-01 17:37:00</td>\n",
       "      <td>5</td>\n",
       "      <td>May</td>\n",
       "    </tr>\n",
       "    <tr>\n",
       "      <th>4</th>\n",
       "      <td>2024/05/01 17:37:00</td>\n",
       "      <td>PIAUÍ</td>\n",
       "      <td>BAIXA GRANDE DO RIBEIRO</td>\n",
       "      <td>POINT (-45.03149 -8.53456)</td>\n",
       "      <td>2024-05-01 17:37:00</td>\n",
       "      <td>5</td>\n",
       "      <td>May</td>\n",
       "    </tr>\n",
       "  </tbody>\n",
       "</table>\n",
       "</div>"
      ],
      "text/plain": [
       "              DataHora     Estado                Municipio  \\\n",
       "0  2024/05/01 17:34:00  SÃO PAULO                 PEREIRAS   \n",
       "1  2024/05/01 17:37:00      PIAUÍ                  GILBUÉS   \n",
       "2  2024/05/01 17:37:00      PIAUÍ  BAIXA GRANDE DO RIBEIRO   \n",
       "3  2024/05/01 17:37:00      PIAUÍ  BAIXA GRANDE DO RIBEIRO   \n",
       "4  2024/05/01 17:37:00      PIAUÍ  BAIXA GRANDE DO RIBEIRO   \n",
       "\n",
       "                      geometry           timestamp  mes nome_mes  \n",
       "0  POINT (-47.99586 -23.07218) 2024-05-01 17:34:00    5      May  \n",
       "1   POINT (-45.35360 -9.54904) 2024-05-01 17:37:00    5      May  \n",
       "2   POINT (-45.05117 -8.53773) 2024-05-01 17:37:00    5      May  \n",
       "3   POINT (-45.04380 -8.53765) 2024-05-01 17:37:00    5      May  \n",
       "4   POINT (-45.03149 -8.53456) 2024-05-01 17:37:00    5      May  "
      ]
     },
     "execution_count": 25,
     "metadata": {},
     "output_type": "execute_result"
    }
   ],
   "source": [
    "focos.head()"
   ]
  },
  {
   "cell_type": "code",
   "execution_count": 26,
   "metadata": {
    "execution": {
     "iopub.execute_input": "2025-05-14T12:00:59.381717Z",
     "iopub.status.busy": "2025-05-14T12:00:59.381190Z",
     "iopub.status.idle": "2025-05-14T12:01:04.042107Z",
     "shell.execute_reply": "2025-05-14T12:01:04.041204Z",
     "shell.execute_reply.started": "2025-05-14T12:00:59.381696Z"
    }
   },
   "outputs": [
    {
     "data": {
      "text/html": [
       "<div>\n",
       "<style scoped>\n",
       "    .dataframe tbody tr th:only-of-type {\n",
       "        vertical-align: middle;\n",
       "    }\n",
       "\n",
       "    .dataframe tbody tr th {\n",
       "        vertical-align: top;\n",
       "    }\n",
       "\n",
       "    .dataframe thead th {\n",
       "        text-align: right;\n",
       "    }\n",
       "</style>\n",
       "<table border=\"1\" class=\"dataframe\">\n",
       "  <thead>\n",
       "    <tr style=\"text-align: right;\">\n",
       "      <th></th>\n",
       "      <th>Bioma</th>\n",
       "      <th>CD_Bioma</th>\n",
       "      <th>geometry</th>\n",
       "    </tr>\n",
       "  </thead>\n",
       "  <tbody>\n",
       "    <tr>\n",
       "      <th>0</th>\n",
       "      <td>Amazônia</td>\n",
       "      <td>1</td>\n",
       "      <td>MULTIPOLYGON (((-44.08515 -2.41669, -44.08560 ...</td>\n",
       "    </tr>\n",
       "    <tr>\n",
       "      <th>1</th>\n",
       "      <td>Caatinga</td>\n",
       "      <td>2</td>\n",
       "      <td>POLYGON ((-41.74080 -2.80826, -41.73673 -2.809...</td>\n",
       "    </tr>\n",
       "    <tr>\n",
       "      <th>2</th>\n",
       "      <td>Cerrado</td>\n",
       "      <td>3</td>\n",
       "      <td>POLYGON ((-43.39009 -2.33937, -43.38741 -2.342...</td>\n",
       "    </tr>\n",
       "    <tr>\n",
       "      <th>3</th>\n",
       "      <td>Mata Atlântica</td>\n",
       "      <td>4</td>\n",
       "      <td>MULTIPOLYGON (((-48.70814 -28.44851, -48.70994...</td>\n",
       "    </tr>\n",
       "    <tr>\n",
       "      <th>4</th>\n",
       "      <td>Pampa</td>\n",
       "      <td>5</td>\n",
       "      <td>POLYGON ((-52.82472 -27.46295, -52.81558 -27.4...</td>\n",
       "    </tr>\n",
       "  </tbody>\n",
       "</table>\n",
       "</div>"
      ],
      "text/plain": [
       "            Bioma  CD_Bioma                                           geometry\n",
       "0        Amazônia         1  MULTIPOLYGON (((-44.08515 -2.41669, -44.08560 ...\n",
       "1        Caatinga         2  POLYGON ((-41.74080 -2.80826, -41.73673 -2.809...\n",
       "2         Cerrado         3  POLYGON ((-43.39009 -2.33937, -43.38741 -2.342...\n",
       "3  Mata Atlântica         4  MULTIPOLYGON (((-48.70814 -28.44851, -48.70994...\n",
       "4           Pampa         5  POLYGON ((-52.82472 -27.46295, -52.81558 -27.4..."
      ]
     },
     "execution_count": 26,
     "metadata": {},
     "output_type": "execute_result"
    }
   ],
   "source": [
    "biomas.head()"
   ]
  },
  {
   "attachments": {},
   "cell_type": "markdown",
   "metadata": {},
   "source": [
    "Vamos usar a função **sjoin** do GeoPands para combinar os focos com os biomas:\n",
    "- how:\n",
    "  - \"left\": mantém todos os focos2 — mesmo se não houver interseção com os biomas\n",
    "  - \"inner\": mantém apenas as linhas que têm correspondência espacial\n",
    "- predicate\n",
    "  - \"intersects\"\n",
    "  - \"contains\"\n",
    "  - \"within\"\n",
    "  - \"touches\"\n",
    "  - \"crosses\"\n",
    "  - \"overlaps\"\n",
    "  - ...\n",
    "  - \"equals\"\n",
    "\n",
    "<table>\n",
    "  <tr>\n",
    "    <td><img src=\"https://prog-geo.github.io/_images/op-within-1.png\" width=\"200\" height=\"200\"></td>\n",
    "    <td><img src=\"https://prog-geo.github.io/_images/op-cross-2.png\" width=\"200\" height=\"200\"></td>\n",
    "    <td><img src=\"https://prog-geo.github.io/_images/op-touch-2.png\" width=\"200\" height=\"200\"></td>\n",
    "    <td><img src=\"https://prog-geo.github.io/_images/op-disjoint-2.png\" width=\"200\" height=\"200\"></td>\n",
    "  </tr>\n",
    "</table>\n",
    "\n",
    "Antes, precisamos converter as geometrias para a mesma projeção. Veja abaixo que os objetos GeoPandas possuem diferentes projeções:"
   ]
  },
  {
   "cell_type": "code",
   "execution_count": 27,
   "metadata": {
    "execution": {
     "iopub.execute_input": "2025-05-14T12:01:04.043346Z",
     "iopub.status.busy": "2025-05-14T12:01:04.043105Z",
     "iopub.status.idle": "2025-05-14T12:01:04.047448Z",
     "shell.execute_reply": "2025-05-14T12:01:04.046726Z",
     "shell.execute_reply.started": "2025-05-14T12:01:04.043327Z"
    }
   },
   "outputs": [
    {
     "name": "stdout",
     "output_type": "stream",
     "text": [
      "EPSG:4326\n",
      "EPSG:4674\n"
     ]
    }
   ],
   "source": [
    "print(focos.crs)\n",
    "print(biomas.crs)"
   ]
  },
  {
   "cell_type": "markdown",
   "metadata": {},
   "source": [
    "Vamos usar a função **to_crs** para converter os pontos para a mesma projeção da shape dos biomas:"
   ]
  },
  {
   "cell_type": "code",
   "execution_count": 28,
   "metadata": {
    "execution": {
     "iopub.execute_input": "2025-05-14T12:01:04.048619Z",
     "iopub.status.busy": "2025-05-14T12:01:04.048406Z",
     "iopub.status.idle": "2025-05-14T12:01:05.116329Z",
     "shell.execute_reply": "2025-05-14T12:01:05.115619Z",
     "shell.execute_reply.started": "2025-05-14T12:01:04.048603Z"
    }
   },
   "outputs": [
    {
     "data": {
      "text/html": [
       "<div>\n",
       "<style scoped>\n",
       "    .dataframe tbody tr th:only-of-type {\n",
       "        vertical-align: middle;\n",
       "    }\n",
       "\n",
       "    .dataframe tbody tr th {\n",
       "        vertical-align: top;\n",
       "    }\n",
       "\n",
       "    .dataframe thead th {\n",
       "        text-align: right;\n",
       "    }\n",
       "</style>\n",
       "<table border=\"1\" class=\"dataframe\">\n",
       "  <thead>\n",
       "    <tr style=\"text-align: right;\">\n",
       "      <th></th>\n",
       "      <th>DataHora</th>\n",
       "      <th>Estado</th>\n",
       "      <th>Municipio</th>\n",
       "      <th>geometry</th>\n",
       "      <th>timestamp</th>\n",
       "      <th>mes</th>\n",
       "      <th>nome_mes</th>\n",
       "    </tr>\n",
       "  </thead>\n",
       "  <tbody>\n",
       "    <tr>\n",
       "      <th>0</th>\n",
       "      <td>2024/05/01 17:34:00</td>\n",
       "      <td>SÃO PAULO</td>\n",
       "      <td>PEREIRAS</td>\n",
       "      <td>POINT (-47.99586 -23.07218)</td>\n",
       "      <td>2024-05-01 17:34:00</td>\n",
       "      <td>5</td>\n",
       "      <td>May</td>\n",
       "    </tr>\n",
       "    <tr>\n",
       "      <th>1</th>\n",
       "      <td>2024/05/01 17:37:00</td>\n",
       "      <td>PIAUÍ</td>\n",
       "      <td>GILBUÉS</td>\n",
       "      <td>POINT (-45.35360 -9.54904)</td>\n",
       "      <td>2024-05-01 17:37:00</td>\n",
       "      <td>5</td>\n",
       "      <td>May</td>\n",
       "    </tr>\n",
       "    <tr>\n",
       "      <th>2</th>\n",
       "      <td>2024/05/01 17:37:00</td>\n",
       "      <td>PIAUÍ</td>\n",
       "      <td>BAIXA GRANDE DO RIBEIRO</td>\n",
       "      <td>POINT (-45.05117 -8.53773)</td>\n",
       "      <td>2024-05-01 17:37:00</td>\n",
       "      <td>5</td>\n",
       "      <td>May</td>\n",
       "    </tr>\n",
       "    <tr>\n",
       "      <th>3</th>\n",
       "      <td>2024/05/01 17:37:00</td>\n",
       "      <td>PIAUÍ</td>\n",
       "      <td>BAIXA GRANDE DO RIBEIRO</td>\n",
       "      <td>POINT (-45.04380 -8.53765)</td>\n",
       "      <td>2024-05-01 17:37:00</td>\n",
       "      <td>5</td>\n",
       "      <td>May</td>\n",
       "    </tr>\n",
       "    <tr>\n",
       "      <th>4</th>\n",
       "      <td>2024/05/01 17:37:00</td>\n",
       "      <td>PIAUÍ</td>\n",
       "      <td>BAIXA GRANDE DO RIBEIRO</td>\n",
       "      <td>POINT (-45.03149 -8.53456)</td>\n",
       "      <td>2024-05-01 17:37:00</td>\n",
       "      <td>5</td>\n",
       "      <td>May</td>\n",
       "    </tr>\n",
       "  </tbody>\n",
       "</table>\n",
       "</div>"
      ],
      "text/plain": [
       "              DataHora     Estado                Municipio  \\\n",
       "0  2024/05/01 17:34:00  SÃO PAULO                 PEREIRAS   \n",
       "1  2024/05/01 17:37:00      PIAUÍ                  GILBUÉS   \n",
       "2  2024/05/01 17:37:00      PIAUÍ  BAIXA GRANDE DO RIBEIRO   \n",
       "3  2024/05/01 17:37:00      PIAUÍ  BAIXA GRANDE DO RIBEIRO   \n",
       "4  2024/05/01 17:37:00      PIAUÍ  BAIXA GRANDE DO RIBEIRO   \n",
       "\n",
       "                      geometry           timestamp  mes nome_mes  \n",
       "0  POINT (-47.99586 -23.07218) 2024-05-01 17:34:00    5      May  \n",
       "1   POINT (-45.35360 -9.54904) 2024-05-01 17:37:00    5      May  \n",
       "2   POINT (-45.05117 -8.53773) 2024-05-01 17:37:00    5      May  \n",
       "3   POINT (-45.04380 -8.53765) 2024-05-01 17:37:00    5      May  \n",
       "4   POINT (-45.03149 -8.53456) 2024-05-01 17:37:00    5      May  "
      ]
     },
     "execution_count": 28,
     "metadata": {},
     "output_type": "execute_result"
    }
   ],
   "source": [
    "focos_crs = focos.to_crs(biomas.crs)\n",
    "focos_crs.head()"
   ]
  },
  {
   "cell_type": "markdown",
   "metadata": {},
   "source": [
    "Veja que agora as projeções são iguais:"
   ]
  },
  {
   "cell_type": "code",
   "execution_count": 29,
   "metadata": {
    "execution": {
     "iopub.execute_input": "2025-05-14T12:01:05.117684Z",
     "iopub.status.busy": "2025-05-14T12:01:05.117472Z",
     "iopub.status.idle": "2025-05-14T12:01:05.121620Z",
     "shell.execute_reply": "2025-05-14T12:01:05.120953Z",
     "shell.execute_reply.started": "2025-05-14T12:01:05.117666Z"
    }
   },
   "outputs": [
    {
     "name": "stdout",
     "output_type": "stream",
     "text": [
      "EPSG:4674\n",
      "EPSG:4674\n"
     ]
    }
   ],
   "source": [
    "print(focos_crs.crs)\n",
    "print(biomas.crs)"
   ]
  },
  {
   "cell_type": "markdown",
   "metadata": {},
   "source": [
    "Agora rodando a função **sjoin**, iremos juntar as informações de biomas nos focos:"
   ]
  },
  {
   "cell_type": "code",
   "execution_count": 30,
   "metadata": {
    "execution": {
     "iopub.execute_input": "2025-05-14T12:01:05.122759Z",
     "iopub.status.busy": "2025-05-14T12:01:05.122532Z",
     "iopub.status.idle": "2025-05-14T12:01:06.445226Z",
     "shell.execute_reply": "2025-05-14T12:01:06.444322Z",
     "shell.execute_reply.started": "2025-05-14T12:01:05.122742Z"
    },
    "slideshow": {
     "slide_type": "fragment"
    }
   },
   "outputs": [
    {
     "data": {
      "text/html": [
       "<div>\n",
       "<style scoped>\n",
       "    .dataframe tbody tr th:only-of-type {\n",
       "        vertical-align: middle;\n",
       "    }\n",
       "\n",
       "    .dataframe tbody tr th {\n",
       "        vertical-align: top;\n",
       "    }\n",
       "\n",
       "    .dataframe thead th {\n",
       "        text-align: right;\n",
       "    }\n",
       "</style>\n",
       "<table border=\"1\" class=\"dataframe\">\n",
       "  <thead>\n",
       "    <tr style=\"text-align: right;\">\n",
       "      <th></th>\n",
       "      <th>DataHora</th>\n",
       "      <th>Estado</th>\n",
       "      <th>Municipio</th>\n",
       "      <th>geometry</th>\n",
       "      <th>timestamp</th>\n",
       "      <th>mes</th>\n",
       "      <th>nome_mes</th>\n",
       "      <th>index_right</th>\n",
       "      <th>Bioma</th>\n",
       "      <th>CD_Bioma</th>\n",
       "    </tr>\n",
       "  </thead>\n",
       "  <tbody>\n",
       "    <tr>\n",
       "      <th>0</th>\n",
       "      <td>2024/05/01 17:34:00</td>\n",
       "      <td>SÃO PAULO</td>\n",
       "      <td>PEREIRAS</td>\n",
       "      <td>POINT (-47.99586 -23.07218)</td>\n",
       "      <td>2024-05-01 17:34:00</td>\n",
       "      <td>5</td>\n",
       "      <td>May</td>\n",
       "      <td>3</td>\n",
       "      <td>Mata Atlântica</td>\n",
       "      <td>4</td>\n",
       "    </tr>\n",
       "    <tr>\n",
       "      <th>1</th>\n",
       "      <td>2024/05/01 17:37:00</td>\n",
       "      <td>PIAUÍ</td>\n",
       "      <td>GILBUÉS</td>\n",
       "      <td>POINT (-45.35360 -9.54904)</td>\n",
       "      <td>2024-05-01 17:37:00</td>\n",
       "      <td>5</td>\n",
       "      <td>May</td>\n",
       "      <td>2</td>\n",
       "      <td>Cerrado</td>\n",
       "      <td>3</td>\n",
       "    </tr>\n",
       "    <tr>\n",
       "      <th>2</th>\n",
       "      <td>2024/05/01 17:37:00</td>\n",
       "      <td>PIAUÍ</td>\n",
       "      <td>BAIXA GRANDE DO RIBEIRO</td>\n",
       "      <td>POINT (-45.05117 -8.53773)</td>\n",
       "      <td>2024-05-01 17:37:00</td>\n",
       "      <td>5</td>\n",
       "      <td>May</td>\n",
       "      <td>2</td>\n",
       "      <td>Cerrado</td>\n",
       "      <td>3</td>\n",
       "    </tr>\n",
       "    <tr>\n",
       "      <th>3</th>\n",
       "      <td>2024/05/01 17:37:00</td>\n",
       "      <td>PIAUÍ</td>\n",
       "      <td>BAIXA GRANDE DO RIBEIRO</td>\n",
       "      <td>POINT (-45.04380 -8.53765)</td>\n",
       "      <td>2024-05-01 17:37:00</td>\n",
       "      <td>5</td>\n",
       "      <td>May</td>\n",
       "      <td>2</td>\n",
       "      <td>Cerrado</td>\n",
       "      <td>3</td>\n",
       "    </tr>\n",
       "    <tr>\n",
       "      <th>4</th>\n",
       "      <td>2024/05/01 17:37:00</td>\n",
       "      <td>PIAUÍ</td>\n",
       "      <td>BAIXA GRANDE DO RIBEIRO</td>\n",
       "      <td>POINT (-45.03149 -8.53456)</td>\n",
       "      <td>2024-05-01 17:37:00</td>\n",
       "      <td>5</td>\n",
       "      <td>May</td>\n",
       "      <td>2</td>\n",
       "      <td>Cerrado</td>\n",
       "      <td>3</td>\n",
       "    </tr>\n",
       "  </tbody>\n",
       "</table>\n",
       "</div>"
      ],
      "text/plain": [
       "              DataHora     Estado                Municipio  \\\n",
       "0  2024/05/01 17:34:00  SÃO PAULO                 PEREIRAS   \n",
       "1  2024/05/01 17:37:00      PIAUÍ                  GILBUÉS   \n",
       "2  2024/05/01 17:37:00      PIAUÍ  BAIXA GRANDE DO RIBEIRO   \n",
       "3  2024/05/01 17:37:00      PIAUÍ  BAIXA GRANDE DO RIBEIRO   \n",
       "4  2024/05/01 17:37:00      PIAUÍ  BAIXA GRANDE DO RIBEIRO   \n",
       "\n",
       "                      geometry           timestamp  mes nome_mes  index_right  \\\n",
       "0  POINT (-47.99586 -23.07218) 2024-05-01 17:34:00    5      May            3   \n",
       "1   POINT (-45.35360 -9.54904) 2024-05-01 17:37:00    5      May            2   \n",
       "2   POINT (-45.05117 -8.53773) 2024-05-01 17:37:00    5      May            2   \n",
       "3   POINT (-45.04380 -8.53765) 2024-05-01 17:37:00    5      May            2   \n",
       "4   POINT (-45.03149 -8.53456) 2024-05-01 17:37:00    5      May            2   \n",
       "\n",
       "            Bioma  CD_Bioma  \n",
       "0  Mata Atlântica         4  \n",
       "1         Cerrado         3  \n",
       "2         Cerrado         3  \n",
       "3         Cerrado         3  \n",
       "4         Cerrado         3  "
      ]
     },
     "execution_count": 30,
     "metadata": {},
     "output_type": "execute_result"
    }
   ],
   "source": [
    "focos_biomas = gpd.sjoin(focos_crs, biomas, how='inner', predicate='within')\n",
    "focos_biomas.head()"
   ]
  },
  {
   "cell_type": "markdown",
   "metadata": {
    "jp-MarkdownHeadingCollapsed": true
   },
   "source": [
    "## Exercício: Plote a quantidade de focos agrupado por bioma\n",
    "- **Eixo x:** biomas\n",
    "- **Eixo y:** Quantidade de focos"
   ]
  },
  {
   "cell_type": "code",
   "execution_count": 92,
   "metadata": {
    "execution": {
     "iopub.execute_input": "2025-05-12T12:50:24.035476Z",
     "iopub.status.busy": "2025-05-12T12:50:24.034760Z",
     "iopub.status.idle": "2025-05-12T12:50:24.042461Z",
     "shell.execute_reply": "2025-05-12T12:50:24.040613Z",
     "shell.execute_reply.started": "2025-05-12T12:50:24.035419Z"
    }
   },
   "outputs": [],
   "source": [
    "# focos_biomas2 = focos_biomas.groupby(focos_biomas.Bioma).Bioma.count()\n",
    "# focos_biomas2"
   ]
  },
  {
   "cell_type": "markdown",
   "metadata": {
    "jp-MarkdownHeadingCollapsed": true,
    "slideshow": {
     "slide_type": "slide"
    }
   },
   "source": [
    "## Qual a frequência mensal de queimadas por bioma?"
   ]
  },
  {
   "cell_type": "markdown",
   "metadata": {
    "slideshow": {
     "slide_type": "subslide"
    }
   },
   "source": [
    "Vamos apresentar as informações em uma `pivot_table`:"
   ]
  },
  {
   "cell_type": "code",
   "execution_count": 94,
   "metadata": {
    "execution": {
     "iopub.execute_input": "2025-05-12T12:51:21.116101Z",
     "iopub.status.busy": "2025-05-12T12:51:21.115423Z",
     "iopub.status.idle": "2025-05-12T12:51:21.199416Z",
     "shell.execute_reply": "2025-05-12T12:51:21.198349Z",
     "shell.execute_reply.started": "2025-05-12T12:51:21.116047Z"
    },
    "slideshow": {
     "slide_type": "fragment"
    }
   },
   "outputs": [
    {
     "data": {
      "text/html": [
       "<div>\n",
       "<style scoped>\n",
       "    .dataframe tbody tr th:only-of-type {\n",
       "        vertical-align: middle;\n",
       "    }\n",
       "\n",
       "    .dataframe tbody tr th {\n",
       "        vertical-align: top;\n",
       "    }\n",
       "\n",
       "    .dataframe thead th {\n",
       "        text-align: right;\n",
       "    }\n",
       "</style>\n",
       "<table border=\"1\" class=\"dataframe\">\n",
       "  <thead>\n",
       "    <tr style=\"text-align: right;\">\n",
       "      <th></th>\n",
       "      <th>May</th>\n",
       "      <th>Jun</th>\n",
       "      <th>Jul</th>\n",
       "      <th>Aug</th>\n",
       "      <th>Sep</th>\n",
       "      <th>Oct</th>\n",
       "      <th>Nov</th>\n",
       "      <th>Dec</th>\n",
       "    </tr>\n",
       "    <tr>\n",
       "      <th>Bioma</th>\n",
       "      <th></th>\n",
       "      <th></th>\n",
       "      <th></th>\n",
       "      <th></th>\n",
       "      <th></th>\n",
       "      <th></th>\n",
       "      <th></th>\n",
       "      <th></th>\n",
       "    </tr>\n",
       "  </thead>\n",
       "  <tbody>\n",
       "    <tr>\n",
       "      <th>Amazônia</th>\n",
       "      <td>38085</td>\n",
       "      <td>5350</td>\n",
       "      <td>11327</td>\n",
       "      <td>2812</td>\n",
       "      <td>1664</td>\n",
       "      <td>14106</td>\n",
       "      <td>16126</td>\n",
       "      <td>41374</td>\n",
       "    </tr>\n",
       "    <tr>\n",
       "      <th>Caatinga</th>\n",
       "      <td>1074</td>\n",
       "      <td>4066</td>\n",
       "      <td>484</td>\n",
       "      <td>342</td>\n",
       "      <td>232</td>\n",
       "      <td>4377</td>\n",
       "      <td>4695</td>\n",
       "      <td>2942</td>\n",
       "    </tr>\n",
       "    <tr>\n",
       "      <th>Cerrado</th>\n",
       "      <td>17588</td>\n",
       "      <td>2143</td>\n",
       "      <td>7474</td>\n",
       "      <td>5034</td>\n",
       "      <td>3328</td>\n",
       "      <td>3491</td>\n",
       "      <td>7978</td>\n",
       "      <td>29126</td>\n",
       "    </tr>\n",
       "    <tr>\n",
       "      <th>Mata Atlântica</th>\n",
       "      <td>7069</td>\n",
       "      <td>487</td>\n",
       "      <td>1848</td>\n",
       "      <td>1450</td>\n",
       "      <td>827</td>\n",
       "      <td>484</td>\n",
       "      <td>2088</td>\n",
       "      <td>7111</td>\n",
       "    </tr>\n",
       "    <tr>\n",
       "      <th>Pampa</th>\n",
       "      <td>98</td>\n",
       "      <td>13</td>\n",
       "      <td>80</td>\n",
       "      <td>28</td>\n",
       "      <td>8</td>\n",
       "      <td>13</td>\n",
       "      <td>34</td>\n",
       "      <td>56</td>\n",
       "    </tr>\n",
       "    <tr>\n",
       "      <th>Pantanal</th>\n",
       "      <td>4719</td>\n",
       "      <td>15</td>\n",
       "      <td>1263</td>\n",
       "      <td>2766</td>\n",
       "      <td>265</td>\n",
       "      <td>189</td>\n",
       "      <td>2426</td>\n",
       "      <td>2542</td>\n",
       "    </tr>\n",
       "  </tbody>\n",
       "</table>\n",
       "</div>"
      ],
      "text/plain": [
       "                  May   Jun    Jul   Aug   Sep    Oct    Nov    Dec\n",
       "Bioma                                                              \n",
       "Amazônia        38085  5350  11327  2812  1664  14106  16126  41374\n",
       "Caatinga         1074  4066    484   342   232   4377   4695   2942\n",
       "Cerrado         17588  2143   7474  5034  3328   3491   7978  29126\n",
       "Mata Atlântica   7069   487   1848  1450   827    484   2088   7111\n",
       "Pampa              98    13     80    28     8     13     34     56\n",
       "Pantanal         4719    15   1263  2766   265    189   2426   2542"
      ]
     },
     "execution_count": 94,
     "metadata": {},
     "output_type": "execute_result"
    }
   ],
   "source": [
    "pvt = pd.pivot_table(focos_biomas, values=\"geometry\", index=[\"Bioma\"],\n",
    "                     columns=[\"nome_mes\"], aggfunc=\"count\",\n",
    "                     fill_value=0, margins=False)\n",
    "pvt.columns=[\"May\", \"Jun\", \"Jul\", \"Aug\", \"Sep\", \"Oct\", \"Nov\", \"Dec\"]\n",
    "pvt"
   ]
  },
  {
   "cell_type": "markdown",
   "metadata": {
    "execution": {
     "iopub.execute_input": "2025-05-12T03:06:46.006014Z",
     "iopub.status.busy": "2025-05-12T03:06:46.004903Z",
     "iopub.status.idle": "2025-05-12T03:06:46.017518Z",
     "shell.execute_reply": "2025-05-12T03:06:46.015707Z",
     "shell.execute_reply.started": "2025-05-12T03:06:46.005950Z"
    }
   },
   "source": [
    "Podemos gerar um gráfico de barras agrupado"
   ]
  },
  {
   "cell_type": "code",
   "execution_count": 95,
   "metadata": {
    "execution": {
     "iopub.execute_input": "2025-05-12T12:51:56.857434Z",
     "iopub.status.busy": "2025-05-12T12:51:56.856746Z",
     "iopub.status.idle": "2025-05-12T12:51:57.180979Z",
     "shell.execute_reply": "2025-05-12T12:51:57.180075Z",
     "shell.execute_reply.started": "2025-05-12T12:51:56.857376Z"
    }
   },
   "outputs": [
    {
     "data": {
      "image/png": "[encoded data removed]",
      "text/plain": [
       "<Figure size 1000x600 with 1 Axes>"
      ]
     },
     "metadata": {},
     "output_type": "display_data"
    }
   ],
   "source": [
    "pvt.T.plot(\n",
    "    kind=\"bar\", \n",
    "    figsize=(10, 6), \n",
    "    xlabel = \"Mês\", \n",
    "    ylabel = \"Número de Focos\", \n",
    "    title = \"Focos por Mês e Bioma\")\n",
    "plt.legend(title=\"Bioma\", bbox_to_anchor=(1.05, 1), loc=\"upper left\")\n",
    "plt.show()"
   ]
  },
  {
   "cell_type": "markdown",
   "metadata": {
    "execution": {
     "iopub.execute_input": "2025-05-12T03:12:31.300460Z",
     "iopub.status.busy": "2025-05-12T03:12:31.299214Z",
     "iopub.status.idle": "2025-05-12T03:12:31.312501Z",
     "shell.execute_reply": "2025-05-12T03:12:31.310061Z",
     "shell.execute_reply.started": "2025-05-12T03:12:31.300350Z"
    }
   },
   "source": [
    "Podemos gerar um gráfico heatmap"
   ]
  },
  {
   "cell_type": "code",
   "execution_count": 96,
   "metadata": {
    "execution": {
     "iopub.execute_input": "2025-05-12T12:52:25.411201Z",
     "iopub.status.busy": "2025-05-12T12:52:25.410561Z",
     "iopub.status.idle": "2025-05-12T12:52:27.593260Z",
     "shell.execute_reply": "2025-05-12T12:52:27.592361Z",
     "shell.execute_reply.started": "2025-05-12T12:52:25.411151Z"
    }
   },
   "outputs": [
    {
     "data": {
      "image/png": "[encoded data removed]",
      "text/plain": [
       "<Figure size 800x400 with 2 Axes>"
      ]
     },
     "metadata": {},
     "output_type": "display_data"
    }
   ],
   "source": [
    "import seaborn as sns\n",
    "\n",
    "plt.figure(figsize=(8, 4))\n",
    "sns.heatmap(pvt, annot=True, fmt=\"d\", cmap=\"YlOrRd\")\n",
    "plt.title(\"Número de Focos por Bioma e Mês\")\n",
    "plt.xlabel(\"Mês\")\n",
    "plt.ylabel(\"Bioma\")\n",
    "plt.show()"
   ]
  },
  {
   "cell_type": "markdown",
   "metadata": {
    "slideshow": {
     "slide_type": "subslide"
    }
   },
   "source": [
    "Vamos obter uma estatística descritiva:"
   ]
  },
  {
   "cell_type": "code",
   "execution_count": 98,
   "metadata": {
    "execution": {
     "iopub.execute_input": "2025-05-12T12:54:17.717637Z",
     "iopub.status.busy": "2025-05-12T12:54:17.716969Z",
     "iopub.status.idle": "2025-05-12T12:54:17.754853Z",
     "shell.execute_reply": "2025-05-12T12:54:17.753848Z",
     "shell.execute_reply.started": "2025-05-12T12:54:17.717583Z"
    },
    "slideshow": {
     "slide_type": "fragment"
    }
   },
   "outputs": [
    {
     "data": {
      "text/html": [
       "<div>\n",
       "<style scoped>\n",
       "    .dataframe tbody tr th:only-of-type {\n",
       "        vertical-align: middle;\n",
       "    }\n",
       "\n",
       "    .dataframe tbody tr th {\n",
       "        vertical-align: top;\n",
       "    }\n",
       "\n",
       "    .dataframe thead th {\n",
       "        text-align: right;\n",
       "    }\n",
       "</style>\n",
       "<table border=\"1\" class=\"dataframe\">\n",
       "  <thead>\n",
       "    <tr style=\"text-align: right;\">\n",
       "      <th></th>\n",
       "      <th>May</th>\n",
       "      <th>Jun</th>\n",
       "      <th>Jul</th>\n",
       "      <th>Aug</th>\n",
       "      <th>Sep</th>\n",
       "      <th>Oct</th>\n",
       "      <th>Nov</th>\n",
       "      <th>Dec</th>\n",
       "    </tr>\n",
       "  </thead>\n",
       "  <tbody>\n",
       "    <tr>\n",
       "      <th>count</th>\n",
       "      <td>6.000000</td>\n",
       "      <td>6.000000</td>\n",
       "      <td>6.000000</td>\n",
       "      <td>6.000000</td>\n",
       "      <td>6.000000</td>\n",
       "      <td>6.000000</td>\n",
       "      <td>6.000000</td>\n",
       "      <td>6.000000</td>\n",
       "    </tr>\n",
       "    <tr>\n",
       "      <th>mean</th>\n",
       "      <td>11438.833333</td>\n",
       "      <td>2012.333333</td>\n",
       "      <td>3746.000000</td>\n",
       "      <td>2072.000000</td>\n",
       "      <td>1054.000000</td>\n",
       "      <td>3776.666667</td>\n",
       "      <td>5557.833333</td>\n",
       "      <td>13858.500000</td>\n",
       "    </tr>\n",
       "    <tr>\n",
       "      <th>std</th>\n",
       "      <td>14478.441372</td>\n",
       "      <td>2266.625480</td>\n",
       "      <td>4587.318127</td>\n",
       "      <td>1863.351819</td>\n",
       "      <td>1263.884963</td>\n",
       "      <td>5385.449384</td>\n",
       "      <td>5842.066293</td>\n",
       "      <td>17166.654907</td>\n",
       "    </tr>\n",
       "    <tr>\n",
       "      <th>min</th>\n",
       "      <td>98.000000</td>\n",
       "      <td>13.000000</td>\n",
       "      <td>80.000000</td>\n",
       "      <td>28.000000</td>\n",
       "      <td>8.000000</td>\n",
       "      <td>13.000000</td>\n",
       "      <td>34.000000</td>\n",
       "      <td>56.000000</td>\n",
       "    </tr>\n",
       "    <tr>\n",
       "      <th>25%</th>\n",
       "      <td>1985.250000</td>\n",
       "      <td>133.000000</td>\n",
       "      <td>678.750000</td>\n",
       "      <td>619.000000</td>\n",
       "      <td>240.250000</td>\n",
       "      <td>262.750000</td>\n",
       "      <td>2172.500000</td>\n",
       "      <td>2642.000000</td>\n",
       "    </tr>\n",
       "    <tr>\n",
       "      <th>50%</th>\n",
       "      <td>5894.000000</td>\n",
       "      <td>1315.000000</td>\n",
       "      <td>1555.500000</td>\n",
       "      <td>2108.000000</td>\n",
       "      <td>546.000000</td>\n",
       "      <td>1987.500000</td>\n",
       "      <td>3560.500000</td>\n",
       "      <td>5026.500000</td>\n",
       "    </tr>\n",
       "    <tr>\n",
       "      <th>75%</th>\n",
       "      <td>14958.250000</td>\n",
       "      <td>3585.250000</td>\n",
       "      <td>6067.500000</td>\n",
       "      <td>2800.500000</td>\n",
       "      <td>1454.750000</td>\n",
       "      <td>4155.500000</td>\n",
       "      <td>7157.250000</td>\n",
       "      <td>23622.250000</td>\n",
       "    </tr>\n",
       "    <tr>\n",
       "      <th>max</th>\n",
       "      <td>38085.000000</td>\n",
       "      <td>5350.000000</td>\n",
       "      <td>11327.000000</td>\n",
       "      <td>5034.000000</td>\n",
       "      <td>3328.000000</td>\n",
       "      <td>14106.000000</td>\n",
       "      <td>16126.000000</td>\n",
       "      <td>41374.000000</td>\n",
       "    </tr>\n",
       "  </tbody>\n",
       "</table>\n",
       "</div>"
      ],
      "text/plain": [
       "                May          Jun           Jul          Aug          Sep  \\\n",
       "count      6.000000     6.000000      6.000000     6.000000     6.000000   \n",
       "mean   11438.833333  2012.333333   3746.000000  2072.000000  1054.000000   \n",
       "std    14478.441372  2266.625480   4587.318127  1863.351819  1263.884963   \n",
       "min       98.000000    13.000000     80.000000    28.000000     8.000000   \n",
       "25%     1985.250000   133.000000    678.750000   619.000000   240.250000   \n",
       "50%     5894.000000  1315.000000   1555.500000  2108.000000   546.000000   \n",
       "75%    14958.250000  3585.250000   6067.500000  2800.500000  1454.750000   \n",
       "max    38085.000000  5350.000000  11327.000000  5034.000000  3328.000000   \n",
       "\n",
       "                Oct           Nov           Dec  \n",
       "count      6.000000      6.000000      6.000000  \n",
       "mean    3776.666667   5557.833333  13858.500000  \n",
       "std     5385.449384   5842.066293  17166.654907  \n",
       "min       13.000000     34.000000     56.000000  \n",
       "25%      262.750000   2172.500000   2642.000000  \n",
       "50%     1987.500000   3560.500000   5026.500000  \n",
       "75%     4155.500000   7157.250000  23622.250000  \n",
       "max    14106.000000  16126.000000  41374.000000  "
      ]
     },
     "execution_count": 98,
     "metadata": {},
     "output_type": "execute_result"
    }
   ],
   "source": [
    "pvt.describe()"
   ]
  },
  {
   "cell_type": "markdown",
   "metadata": {
    "jp-MarkdownHeadingCollapsed": true,
    "slideshow": {
     "slide_type": "slide"
    }
   },
   "source": [
    "## Qual a quantidade de focos por município ao longo dos meses?"
   ]
  },
  {
   "cell_type": "code",
   "execution_count": 99,
   "metadata": {
    "execution": {
     "iopub.execute_input": "2025-05-12T12:54:54.936493Z",
     "iopub.status.busy": "2025-05-12T12:54:54.935803Z",
     "iopub.status.idle": "2025-05-12T12:54:55.609866Z",
     "shell.execute_reply": "2025-05-12T12:54:55.608962Z",
     "shell.execute_reply.started": "2025-05-12T12:54:54.936440Z"
    },
    "slideshow": {
     "slide_type": "fragment"
    }
   },
   "outputs": [
    {
     "data": {
      "text/html": [
       "<div>\n",
       "<style scoped>\n",
       "    .dataframe tbody tr th:only-of-type {\n",
       "        vertical-align: middle;\n",
       "    }\n",
       "\n",
       "    .dataframe tbody tr th {\n",
       "        vertical-align: top;\n",
       "    }\n",
       "\n",
       "    .dataframe thead th {\n",
       "        text-align: right;\n",
       "    }\n",
       "</style>\n",
       "<table border=\"1\" class=\"dataframe\">\n",
       "  <thead>\n",
       "    <tr style=\"text-align: right;\">\n",
       "      <th></th>\n",
       "      <th></th>\n",
       "      <th>May</th>\n",
       "      <th>Jun</th>\n",
       "      <th>Jul</th>\n",
       "      <th>Aug</th>\n",
       "      <th>Sep</th>\n",
       "      <th>Oct</th>\n",
       "      <th>Nov</th>\n",
       "      <th>Dec</th>\n",
       "      <th>All</th>\n",
       "    </tr>\n",
       "    <tr>\n",
       "      <th>Estado</th>\n",
       "      <th>Municipio</th>\n",
       "      <th></th>\n",
       "      <th></th>\n",
       "      <th></th>\n",
       "      <th></th>\n",
       "      <th></th>\n",
       "      <th></th>\n",
       "      <th></th>\n",
       "      <th></th>\n",
       "      <th></th>\n",
       "    </tr>\n",
       "  </thead>\n",
       "  <tbody>\n",
       "    <tr>\n",
       "      <th rowspan=\"5\" valign=\"top\">ACRE</th>\n",
       "      <th>ACRELÂNDIA</th>\n",
       "      <td>22</td>\n",
       "      <td>0</td>\n",
       "      <td>40</td>\n",
       "      <td>6</td>\n",
       "      <td>0</td>\n",
       "      <td>1</td>\n",
       "      <td>28</td>\n",
       "      <td>39</td>\n",
       "      <td>136</td>\n",
       "    </tr>\n",
       "    <tr>\n",
       "      <th>ASSIS BRASIL</th>\n",
       "      <td>19</td>\n",
       "      <td>0</td>\n",
       "      <td>2</td>\n",
       "      <td>2</td>\n",
       "      <td>1</td>\n",
       "      <td>20</td>\n",
       "      <td>47</td>\n",
       "      <td>65</td>\n",
       "      <td>156</td>\n",
       "    </tr>\n",
       "    <tr>\n",
       "      <th>BRASILÉIA</th>\n",
       "      <td>31</td>\n",
       "      <td>1</td>\n",
       "      <td>9</td>\n",
       "      <td>4</td>\n",
       "      <td>0</td>\n",
       "      <td>18</td>\n",
       "      <td>128</td>\n",
       "      <td>102</td>\n",
       "      <td>293</td>\n",
       "    </tr>\n",
       "    <tr>\n",
       "      <th>BUJARI</th>\n",
       "      <td>27</td>\n",
       "      <td>0</td>\n",
       "      <td>8</td>\n",
       "      <td>0</td>\n",
       "      <td>0</td>\n",
       "      <td>3</td>\n",
       "      <td>68</td>\n",
       "      <td>92</td>\n",
       "      <td>198</td>\n",
       "    </tr>\n",
       "    <tr>\n",
       "      <th>CAPIXABA</th>\n",
       "      <td>18</td>\n",
       "      <td>0</td>\n",
       "      <td>4</td>\n",
       "      <td>0</td>\n",
       "      <td>0</td>\n",
       "      <td>2</td>\n",
       "      <td>54</td>\n",
       "      <td>44</td>\n",
       "      <td>122</td>\n",
       "    </tr>\n",
       "  </tbody>\n",
       "</table>\n",
       "</div>"
      ],
      "text/plain": [
       "                     May  Jun  Jul  Aug  Sep  Oct  Nov  Dec  All\n",
       "Estado Municipio                                                \n",
       "ACRE   ACRELÂNDIA     22    0   40    6    0    1   28   39  136\n",
       "       ASSIS BRASIL   19    0    2    2    1   20   47   65  156\n",
       "       BRASILÉIA      31    1    9    4    0   18  128  102  293\n",
       "       BUJARI         27    0    8    0    0    3   68   92  198\n",
       "       CAPIXABA       18    0    4    0    0    2   54   44  122"
      ]
     },
     "execution_count": 99,
     "metadata": {},
     "output_type": "execute_result"
    }
   ],
   "source": [
    "pvt2 = pd.pivot_table(focos, values=\"geometry\", index=[\"Estado\", \"Municipio\"], \n",
    "                      columns=[\"nome_mes\"], aggfunc=\"count\", fill_value=0, margins=True)\n",
    "pvt2.columns=[\"May\", \"Jun\", \"Jul\", \"Aug\", \"Sep\", \"Oct\", \"Nov\", \"Dec\", \"All\"]\n",
    "pvt2.head()"
   ]
  },
  {
   "cell_type": "markdown",
   "metadata": {
    "slideshow": {
     "slide_type": "slide"
    }
   },
   "source": [
    "### Qual o top 10 para agosto?"
   ]
  },
  {
   "cell_type": "code",
   "execution_count": 102,
   "metadata": {
    "execution": {
     "iopub.execute_input": "2025-05-12T12:57:18.888904Z",
     "iopub.status.busy": "2025-05-12T12:57:18.888134Z",
     "iopub.status.idle": "2025-05-12T12:57:18.904617Z",
     "shell.execute_reply": "2025-05-12T12:57:18.902817Z",
     "shell.execute_reply.started": "2025-05-12T12:57:18.888828Z"
    },
    "slideshow": {
     "slide_type": "fragment"
    }
   },
   "outputs": [
    {
     "data": {
      "text/plain": [
       "Estado    Municipio \n",
       "All                     12075\n",
       "PARÁ      PRAINHA         217\n",
       "          PACAJÁ          143\n",
       "          URUARÁ          134\n",
       "MARANHÃO  TURIAÇU         121\n",
       "PARÁ      SANTARÉM        109\n",
       "MARANHÃO  ARAIOSES        103\n",
       "          BOM JARDIM      102\n",
       "PARÁ      ALMEIRIM         99\n",
       "Name: Jun, dtype: int64"
      ]
     },
     "execution_count": 102,
     "metadata": {},
     "output_type": "execute_result"
    }
   ],
   "source": [
    "top10 = pvt2[\"Jun\"].sort_values(ascending=False)[0:9]\n",
    "top10"
   ]
  },
  {
   "cell_type": "markdown",
   "metadata": {
    "slideshow": {
     "slide_type": "slide"
    }
   },
   "source": [
    "## Exercício / Desafio\n",
    "<hr style=\"border:2px solid #0077b9;\">\n",
    "\n",
    "## Gerar um mapa com a classificação dos estados em relação ao número de focos ocorridos no mês de agosto de 2024\n",
    "\n",
    "**A resolução do exercício está no notebook chamado **desafio.ipynb** na mesma pasta deste notebook.**\n",
    "\n",
    "Exemplo:\n",
    "<table>\n",
    "    <tr>\n",
    "        <td><img src=\"https://upload.wikimedia.org/wikipedia/commons/a/a5/Mapa_dos_estados_brasileiros_por_popula%C3%A7%C3%A3o_%282022%29.svg\" width=\"300\" height=\"300\"></td>\n",
    "    </tr>\n",
    "</table>\n",
    "\n"
   ]
  },
  {
   "cell_type": "markdown",
   "metadata": {
    "slideshow": {
     "slide_type": "slide"
    }
   },
   "source": [
    "## Referências Online\n",
    "<hr style=\"border:2px solid #0077b9;\">\n",
    "\n",
    "Tutoriais:\n",
    "* [learnPython Essentials of Python](http://www.stephaniehicks.com/learnPython).\n",
    "* [IPython notebook reveal-based slideshows](http://www.slideviper.oquanta.info/tutorial/slideshow_tutorial_slides.html#/).\n",
    "* [Make your slides with IPython](http://www.damian.oquanta.info/posts/make-your-slides-with-ipython.html).\n",
    "\n",
    "Documentação da [matplotlib](https://matplotlib.org/):\n",
    "* Opções de controle da legenda: [matplotlib.pyplot.legend](http://matplotlib.org/api/pyplot_api.html#matplotlib.pyplot.legend).\n",
    "* Opções de salvamento da imagem de um gráfico: [matplotlib.pyplot.savefig](https://matplotlib.org/devdocs/api/_as_gen/matplotlib.pyplot.savefig.html).\n",
    "* Opções dos tipos de gráficos básicos:\n",
    "  * [matplotlib.pyplot.pie](https://matplotlib.org/devdocs/api/_as_gen/matplotlib.pyplot.pie.html#matplotlib-pyplot-pie).\n",
    "  \n",
    "Documentação [seaborn](https://seaborn.pydata.org/):\n",
    "\n"
   ]
  }
 ],
 "metadata": {
  "kernelspec": {
   "display_name": "Python (Geospatial)",
   "language": "python",
   "name": "geospatial"
  },
  "language_info": {
   "codemirror_mode": {
    "name": "ipython",
    "version": 3
   },
   "file_extension": ".py",
   "mimetype": "text/x-python",
   "name": "python",
   "nbconvert_exporter": "python",
   "pygments_lexer": "ipython3",
   "version": "3.11.6"
  },
  "toc": {
   "base_numbering": 1,
   "nav_menu": {},
   "number_sections": false,
   "sideBar": true,
   "skip_h1_title": false,
   "title_cell": "Table of Contents",
   "title_sidebar": "Contents",
   "toc_cell": false,
   "toc_position": {},
   "toc_section_display": true,
   "toc_window_display": false
  }
 },
 "nbformat": 4,
 "nbformat_minor": 4
}
