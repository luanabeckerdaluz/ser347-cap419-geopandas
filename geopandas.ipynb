{
 "cells": [
  {
   "cell_type": "markdown",
   "metadata": {
    "slideshow": {
     "slide_type": "slide"
    }
   },
   "source": [
    "# <span style=\"color:#336699\">SER-347/CAP-419 - Introdução à Programação com Dados Geoespaciais</span>\n",
    "<hr style=\"border:2px solid #0077b9;\">\n",
    "\n",
    "# <span style=\"color:#336699\">Análise de Dados Geoespaciais - Python</span>\n",
    "\n",
    "- Gilberto Ribeiro de Queiroz\n",
    "- Thales Sehn Körting\n",
    "- Fabiano Morelli"
   ]
  },
  {
   "cell_type": "markdown",
   "metadata": {
    "slideshow": {
     "slide_type": "slide"
    }
   },
   "source": [
    "# 1. Pandas e GeoPandas: análise de dados em Python\n",
    "<hr style=\"border:1px solid #0077b9;\">\n",
    "\n",
    "<table>\n",
    "    <tr>\n",
    "        <td><img src=\"https://upload.wikimedia.org/wikipedia/commons/thumb/e/ed/Pandas_logo.svg/2560px-Pandas_logo.svg.png\" alt=\"Python Data Analysis Library\" width=\"300;\"/></td>\n",
    "        <td><img src=\"https://geopandas.org/en/stable/_images/geopandas_logo.png\" alt=\"Python Geospatial Data Analysis Library\" width=\"200\"/></td>\n",
    "    </tr>\n",
    "</table>"
   ]
  },
  {
   "cell_type": "markdown",
   "metadata": {},
   "source": [
    "## Pandas\n",
    "\n",
    "Fornece duas estruturas de dados básicas: `Series` e `DataFrame`. Para estas estruturas, existem diversas operações de alto nível disponíveis, tais como: agregação de valores e visualização básica através da matplotlib.\n",
    "\n",
    "Um objeto do tipo `Series` representa um vetor (ou array unidimensional) capaz de armazenar qualquer tipo de dado, como números inteiros, strings ou objetos como data e hora. Possui um eixo (*axis*) usado para rotular cada valor do vetor. Esses rótulos funcionam como um índice para os valores da série.\n",
    "\n",
    "<table>\n",
    "  <caption style=\"font-size: 20px;text-align: center\">Series</caption>\n",
    "  <tbody>\n",
    "    <tr>\n",
    "      <td style=\"font-weight: bold;text-align: center\"></td>\n",
    "      <td style=\"font-weight: bold;text-align: center\">municipio</td>    \n",
    "    </tr>\n",
    "    <tr>\n",
    "      <td style=\"text-align: center\">0</td>\n",
    "      <td style=\"text-align: left\">Sítio Novo Do Tocantins</td>\n",
    "    </tr>\n",
    "    <tr>\n",
    "      <td style=\"text-align: center\">1</td>\n",
    "      <td style=\"text-align: left\">Ouro Preto</td>\n",
    "    </tr>\n",
    "    <tr>\n",
    "      <td style=\"text-align: center\">2</td>\n",
    "      <td style=\"text-align: left\">Mariana</td>\n",
    "    </tr>\n",
    "    <tr>\n",
    "      <td style=\"text-align: center\">3</td>\n",
    "      <td style=\"text-align: left\">Araxá</td>\n",
    "    </tr>\n",
    "    <tr>\n",
    "      <td style=\"text-align: center\">4</td>\n",
    "      <td style=\"text-align: left\">Belo Horizonte</td>\n",
    "    </tr>\n",
    "  </tbody>\n",
    "</table>"
   ]
  },
  {
   "cell_type": "markdown",
   "metadata": {
    "slideshow": {
     "slide_type": "subslide"
    }
   },
   "source": [
    "Um objeto do tipo `DataFrame` representa um tabela bidimensional com os eixos rotulados (linhas e colunas).\n",
    "\n",
    "<table>\n",
    "  <caption style=\"font-size: 20px;text-align: center\">DataFrame</caption>\n",
    "  <tbody>\n",
    "    <tr>\n",
    "      <td style=\"font-weight: bold;text-align: center\"></td>\n",
    "      <td style=\"font-weight: bold;text-align: center\">municipio</td>    \n",
    "      <td style=\"font-weight: bold;text-align: center\">estado</td>\n",
    "      <td style=\"font-weight: bold;text-align: center\">regiao</td>\n",
    "      <td style=\"font-weight: bold;text-align: center\">pais</td>\n",
    "      <td style=\"font-weight: bold;text-align: center\">satelite</td>\n",
    "      <td style=\"font-weight: bold;text-align: center\">bioma</td>\n",
    "      <td style=\"font-weight: bold;text-align: center\">timestamp</td>\n",
    "      <td style=\"font-weight: bold;text-align: center\">satelite_r</td>\n",
    "    </tr>\n",
    "    <tr>\n",
    "      <td style=\"text-align: center\">0</td>\n",
    "      <td style=\"text-align: center\">Sítio Novo Do Tocantins</td>\n",
    "      <td style=\"text-align: center\">Tocantins</td>\n",
    "      <td style=\"text-align: center\">N</td>\n",
    "      <td style=\"text-align: center\">Brazil</td>\n",
    "      <td style=\"text-align: center\">NPP_375</td>\n",
    "      <td style=\"text-align: center\">Cerrado</td>\n",
    "      <td style=\"text-align: center\">2016/02/12 17:05:45</td>\n",
    "      <td style=\"text-align: center\">f</td>\n",
    "    </tr>\n",
    "    <tr>\n",
    "      <td style=\"text-align: center\">1</td>\n",
    "      <td style=\"text-align: center\">Sítio Novo Do Tocantins</td>\n",
    "      <td style=\"text-align: center\">Tocantins</td>\n",
    "      <td style=\"text-align: center\">N</td>\n",
    "      <td style=\"text-align: center\">Brazil</td>\n",
    "      <td style=\"text-align: center\">NPP_375</td>\n",
    "      <td style=\"text-align: center\">Cerrado</td>\n",
    "      <td style=\"text-align: center\">2016/07/17 04:00:00</td>\n",
    "      <td style=\"text-align: center\">f</td>\n",
    "    </tr>\n",
    "    <tr>\n",
    "      <td style=\"text-align: center\">2</td>\n",
    "      <td style=\"text-align: center\">Sítio Novo Do Tocantins</td>\n",
    "      <td style=\"text-align: center\">Tocantins</td>\n",
    "      <td style=\"text-align: center\">N</td>\n",
    "      <td style=\"text-align: center\">Brazil</td>\n",
    "      <td style=\"text-align: center\">AQUA_M-T</td>\n",
    "      <td style=\"text-align: center\">Cerrado</td>\n",
    "      <td style=\"text-align: center\">2016/01/15 16:40:14</td>\n",
    "      <td style=\"text-align: center\">t</td>\n",
    "    </tr>\n",
    "    <tr>\n",
    "      <td style=\"text-align: center\">3</td>\n",
    "      <td style=\"text-align: center\">Sítio Novo Do Tocantins</td>\n",
    "      <td style=\"text-align: center\">Tocantins</td>\n",
    "      <td style=\"text-align: center\">N</td>\n",
    "      <td style=\"text-align: center\">Brazil</td>\n",
    "      <td style=\"text-align: center\">NPP_375</td>\n",
    "      <td style=\"text-align: center\">Cerrado</td>\n",
    "      <td style=\"text-align: center\">2016/07/17 04:00:00</td>\n",
    "      <td style=\"text-align: center\">f</td>\n",
    "    </tr>\n",
    "    <tr>\n",
    "      <td style=\"text-align: center\">4</td>\n",
    "      <td style=\"text-align: center\">Sítio Novo Do Tocantins</td>\n",
    "      <td style=\"text-align: center\">Tocantins</td>\n",
    "      <td style=\"text-align: center\">N</td>\n",
    "      <td style=\"text-align: center\">Brazil</td>\n",
    "      <td style=\"text-align: center\">NPP_375</td>\n",
    "      <td style=\"text-align: center\">Cerrado</td>\n",
    "      <td style=\"text-align: center\">2016/02/12 17:05:45</td>\n",
    "      <td style=\"text-align: center\">f</td>\n",
    "    </tr>\n",
    "  </tbody>\n",
    "</table>"
   ]
  },
  {
   "cell_type": "markdown",
   "metadata": {
    "slideshow": {
     "slide_type": "subslide"
    }
   },
   "source": [
    "## GeoPandas\n",
    "\n",
    "Possui facilidades para tratar colunas com dados geométricos, incluindo visualização.\n",
    "\n",
    "As duas estruturas fornecidas são:\n",
    "- `GeoSeries`: um vetor contendo uma representação geométrica em conformidade com os tipos da *OGC Simple Feature*: `Point`, `LineString`, `Polygon`, `MultiPoint`, `MultiLineString`, `MultiPolygon`. Essa estrutura possui as mesmas operações da classe `Series` do Pandas além de operações espaciais como cálculo de área, perímetro, distâncias, entre outras.\n",
    "\n",
    "<table>\n",
    "  <caption style=\"font-size: 20px;text-align: center\">GeoSeries</caption>\n",
    "  <tbody>\n",
    "    <tr>\n",
    "      <td style=\"font-weight: bold;text-align: center\"></td>\n",
    "      <td style=\"font-weight: bold;text-align: center\">municipio</td>    \n",
    "    </tr>\n",
    "    <tr>\n",
    "      <td style=\"text-align: center\">0</td>\n",
    "      <td style=\"text-align: left\">POINT (-47.607 -5.673)</td>\n",
    "    </tr>\n",
    "    <tr>\n",
    "      <td style=\"text-align: center\">1</td>\n",
    "      <td style=\"text-align: left\">POINT (-47.606 -5.581)</td>\n",
    "    </tr>\n",
    "    <tr>\n",
    "      <td style=\"text-align: center\">2</td>\n",
    "      <td style=\"text-align: left\">POINT (-47.734 -5.562)</td>\n",
    "    </tr>\n",
    "    <tr>\n",
    "      <td style=\"text-align: center\">3</td>\n",
    "      <td style=\"text-align: left\">POINT (-47.605 -5.58)</td>\n",
    "    </tr>\n",
    "    <tr>\n",
    "      <td style=\"text-align: center\">4</td>\n",
    "      <td style=\"text-align: left\">POINT (-47.606 -5.677)</td>\n",
    "    </tr>\n",
    "  </tbody>\n",
    "</table>"
   ]
  },
  {
   "cell_type": "markdown",
   "metadata": {},
   "source": [
    "- `GeoDataFrame`: tabela com uma coluna geométrica.\n",
    "\n",
    "<table>\n",
    "  <caption style=\"font-size: 20px;text-align: center\">GeoDataFrame</caption>\n",
    "  <tbody>\n",
    "    <tr>\n",
    "      <td style=\"font-weight: bold;text-align: center\"></td>\n",
    "      <td style=\"font-weight: bold;text-align: center\">municipio</td>    \n",
    "      <td style=\"font-weight: bold;text-align: center\">estado</td>\n",
    "      <td style=\"font-weight: bold;text-align: center\">regiao</td>\n",
    "      <td style=\"font-weight: bold;text-align: center\">pais</td>\n",
    "      <td style=\"font-weight: bold;text-align: center\">satelite</td>\n",
    "      <td style=\"font-weight: bold;text-align: center\">bioma</td>\n",
    "      <td style=\"font-weight: bold;text-align: center\">timestamp</td>\n",
    "      <td style=\"font-weight: bold;text-align: center\">satelite_r</td>\n",
    "      <td style=\"font-weight: bold;text-align: center\">geometry</td>\n",
    "    </tr>\n",
    "    <tr>\n",
    "      <td style=\"text-align: center\">0</td>\n",
    "      <td style=\"text-align: center\">Sítio Novo Do Tocantins</td>\n",
    "      <td style=\"text-align: center\">Tocantins</td>\n",
    "      <td style=\"text-align: center\">N</td>\n",
    "      <td style=\"text-align: center\">Brazil</td>\n",
    "      <td style=\"text-align: center\">NPP_375</td>\n",
    "      <td style=\"text-align: center\">Cerrado</td>\n",
    "      <td style=\"text-align: center\">2016/02/12 17:05:45</td>\n",
    "      <td style=\"text-align: center\">f</td>\n",
    "      <td style=\"text-align: left\">POINT (-47.607 -5.673)</td>\n",
    "    </tr>\n",
    "    <tr>\n",
    "      <td style=\"text-align: center\">1</td>\n",
    "      <td style=\"text-align: center\">Sítio Novo Do Tocantins</td>\n",
    "      <td style=\"text-align: center\">Tocantins</td>\n",
    "      <td style=\"text-align: center\">N</td>\n",
    "      <td style=\"text-align: center\">Brazil</td>\n",
    "      <td style=\"text-align: center\">NPP_375</td>\n",
    "      <td style=\"text-align: center\">Cerrado</td>\n",
    "      <td style=\"text-align: center\">2016/07/17 04:00:00</td>\n",
    "      <td style=\"text-align: center\">f</td>\n",
    "      <td style=\"text-align: left\">POINT (-47.606 -5.581)</td>\n",
    "    </tr>\n",
    "    <tr>\n",
    "      <td style=\"text-align: center\">2</td>\n",
    "      <td style=\"text-align: center\">Sítio Novo Do Tocantins</td>\n",
    "      <td style=\"text-align: center\">Tocantins</td>\n",
    "      <td style=\"text-align: center\">N</td>\n",
    "      <td style=\"text-align: center\">Brazil</td>\n",
    "      <td style=\"text-align: center\">AQUA_M-T</td>\n",
    "      <td style=\"text-align: center\">Cerrado</td>\n",
    "      <td style=\"text-align: center\">2016/01/15 16:40:14</td>\n",
    "      <td style=\"text-align: center\">t</td>\n",
    "      <td style=\"text-align: left\">POINT (-47.734 -5.562)</td>\n",
    "    </tr>\n",
    "    <tr>\n",
    "      <td style=\"text-align: center\">3</td>\n",
    "      <td style=\"text-align: center\">Sítio Novo Do Tocantins</td>\n",
    "      <td style=\"text-align: center\">Tocantins</td>\n",
    "      <td style=\"text-align: center\">N</td>\n",
    "      <td style=\"text-align: center\">Brazil</td>\n",
    "      <td style=\"text-align: center\">NPP_375</td>\n",
    "      <td style=\"text-align: center\">Cerrado</td>\n",
    "      <td style=\"text-align: center\">2016/07/17 04:00:00</td>\n",
    "      <td style=\"text-align: center\">f</td>\n",
    "      <td style=\"text-align: left\">POINT (-47.605 -5.58)</td>\n",
    "    </tr>\n",
    "    <tr>\n",
    "      <td style=\"text-align: center\">4</td>\n",
    "      <td style=\"text-align: center\">Sítio Novo Do Tocantins</td>\n",
    "      <td style=\"text-align: center\">Tocantins</td>\n",
    "      <td style=\"text-align: center\">N</td>\n",
    "      <td style=\"text-align: center\">Brazil</td>\n",
    "      <td style=\"text-align: center\">NPP_375</td>\n",
    "      <td style=\"text-align: center\">Cerrado</td>\n",
    "      <td style=\"text-align: center\">2016/02/12 17:05:45</td>\n",
    "      <td style=\"text-align: center\">f</td>\n",
    "      <td style=\"text-align: left\">POINT (-47.606 -5.677)</td>\n",
    "    </tr>\n",
    "  </tbody>\n",
    "</table>"
   ]
  },
  {
   "cell_type": "markdown",
   "metadata": {
    "slideshow": {
     "slide_type": "slide"
    }
   },
   "source": [
    "# 2. GeoPandas\n",
    "<hr style=\"border:1px solid #0077b9;\">"
   ]
  },
  {
   "cell_type": "markdown",
   "metadata": {
    "slideshow": {
     "slide_type": "-"
    }
   },
   "source": [
    "Vamos importar as bibliotecas `pandas`, `geopandas` e `matplotlib` para podermos manipular os dados com focos de queimada usando um `GeoDataFrame`:"
   ]
  },
  {
   "cell_type": "code",
   "execution_count": null,
   "metadata": {
    "slideshow": {
     "slide_type": "fragment"
    }
   },
   "outputs": [],
   "source": [
    "import pandas as pd\n",
    "import geopandas as gpd\n",
    "import matplotlib.pyplot as plt"
   ]
  },
  {
   "cell_type": "markdown",
   "metadata": {},
   "source": [
    "# 2.1. Abrindo shapefiles como `GeoDataFrame`:\n",
    "<hr style=\"border:0.25px solid #0077b9;\">"
   ]
  },
  {
   "cell_type": "markdown",
   "metadata": {},
   "source": [
    "### Abrindo uf_2018.shp:"
   ]
  },
  {
   "cell_type": "code",
   "execution_count": null,
   "metadata": {},
   "outputs": [],
   "source": [
    "ufs = gpd.read_file(\"uf_2018/uf_2018.shp\")"
   ]
  },
  {
   "cell_type": "code",
   "execution_count": null,
   "metadata": {},
   "outputs": [],
   "source": [
    "ufs.head()"
   ]
  },
  {
   "cell_type": "code",
   "execution_count": null,
   "metadata": {},
   "outputs": [],
   "source": [
    "len(ufs)"
   ]
  },
  {
   "cell_type": "code",
   "execution_count": null,
   "metadata": {},
   "outputs": [],
   "source": [
    "ufs.geometry.geom_type"
   ]
  },
  {
   "cell_type": "markdown",
   "metadata": {},
   "source": [
    "### Abrindo biomas.shp:"
   ]
  },
  {
   "cell_type": "code",
   "execution_count": null,
   "metadata": {},
   "outputs": [],
   "source": [
    "biomas = gpd.read_file(\"biomas/biomas.shp\")"
   ]
  },
  {
   "cell_type": "code",
   "execution_count": null,
   "metadata": {},
   "outputs": [],
   "source": [
    "biomas.head()"
   ]
  },
  {
   "cell_type": "code",
   "execution_count": null,
   "metadata": {},
   "outputs": [],
   "source": [
    "len(biomas)"
   ]
  },
  {
   "cell_type": "code",
   "execution_count": null,
   "metadata": {},
   "outputs": [],
   "source": [
    "biomas.geometry.geom_type"
   ]
  },
  {
   "cell_type": "markdown",
   "metadata": {},
   "source": [
    "### Abrindo focos_2024_br.shp:"
   ]
  },
  {
   "cell_type": "code",
   "execution_count": null,
   "metadata": {},
   "outputs": [],
   "source": [
    "focos = gpd.read_file(\"focos_2024_br/focos_2024_br.shp\")"
   ]
  },
  {
   "cell_type": "code",
   "execution_count": null,
   "metadata": {},
   "outputs": [],
   "source": [
    "focos.head()"
   ]
  },
  {
   "cell_type": "code",
   "execution_count": null,
   "metadata": {},
   "outputs": [],
   "source": [
    "len(focos)"
   ]
  },
  {
   "cell_type": "code",
   "execution_count": null,
   "metadata": {},
   "outputs": [],
   "source": [
    "focos.geometry.geom_type"
   ]
  },
  {
   "cell_type": "markdown",
   "metadata": {
    "slideshow": {
     "slide_type": "subslide"
    }
   },
   "source": [
    "## Pré processando os Focos de Queimadas\n",
    "<hr style=\"border:0.25px solid #0077b9;\">"
   ]
  },
  {
   "cell_type": "markdown",
   "metadata": {
    "slideshow": {
     "slide_type": "fragment"
    }
   },
   "source": [
    "Vamos ver uma amostra dos dados:"
   ]
  },
  {
   "cell_type": "code",
   "execution_count": null,
   "metadata": {
    "slideshow": {
     "slide_type": "fragment"
    }
   },
   "outputs": [],
   "source": [
    "focos.head()"
   ]
  },
  {
   "cell_type": "markdown",
   "metadata": {
    "slideshow": {
     "slide_type": "subslide"
    }
   },
   "source": [
    "Podemos descobrir os tipos de dados das colunas do `GeoDataFrame` através do atributo `dtypes`: "
   ]
  },
  {
   "cell_type": "code",
   "execution_count": null,
   "metadata": {
    "slideshow": {
     "slide_type": "fragment"
    }
   },
   "outputs": [],
   "source": [
    "focos.dtypes"
   ]
  },
  {
   "cell_type": "markdown",
   "metadata": {},
   "source": [
    "Vamos selecionar apenas algumas colunas"
   ]
  },
  {
   "cell_type": "code",
   "execution_count": null,
   "metadata": {},
   "outputs": [],
   "source": [
    "focos = focos[[\"DataHora\", \"Estado\", \"Municipio\", \"geometry\"]]\n",
    "focos.head()"
   ]
  },
  {
   "cell_type": "markdown",
   "metadata": {
    "slideshow": {
     "slide_type": "slide"
    }
   },
   "source": [
    "Visualizar os focos de queimada em um mapa."
   ]
  },
  {
   "cell_type": "code",
   "execution_count": null,
   "metadata": {
    "slideshow": {
     "slide_type": "fragment"
    }
   },
   "outputs": [],
   "source": [
    "focos.plot(marker='x', color='red', markersize=1)"
   ]
  },
  {
   "cell_type": "markdown",
   "metadata": {
    "slideshow": {
     "slide_type": "slide"
    }
   },
   "source": [
    "Alterar o formato da coluna `timestamp` para o tipo `datetime` para facilitar a manipulação dos dados desta coluna:"
   ]
  },
  {
   "cell_type": "code",
   "execution_count": null,
   "metadata": {
    "slideshow": {
     "slide_type": "fragment"
    }
   },
   "outputs": [],
   "source": [
    "focos[\"timestamp\"] = pd.to_datetime(focos[\"DataHora\"])\n",
    "focos.dtypes"
   ]
  },
  {
   "cell_type": "code",
   "execution_count": null,
   "metadata": {
    "slideshow": {
     "slide_type": "fragment"
    }
   },
   "outputs": [],
   "source": [
    "focos.head()"
   ]
  },
  {
   "cell_type": "markdown",
   "metadata": {
    "execution": {
     "iopub.execute_input": "2025-05-12T00:47:52.135391Z",
     "iopub.status.busy": "2025-05-12T00:47:52.134621Z",
     "iopub.status.idle": "2025-05-12T00:47:52.147619Z",
     "shell.execute_reply": "2025-05-12T00:47:52.145446Z",
     "shell.execute_reply.started": "2025-05-12T00:47:52.135333Z"
    }
   },
   "source": [
    "Veja que sem transformar para timestamp não conseguimos trabalhar com datas e horários:"
   ]
  },
  {
   "cell_type": "code",
   "execution_count": null,
   "metadata": {},
   "outputs": [],
   "source": [
    "# focos[focos[\"DataHora\"] > \"2024-08-01\"]   #===> ERRO\n",
    "focos[focos[\"timestamp\"] > \"2024-08-01\"]  #===> OK"
   ]
  },
  {
   "cell_type": "markdown",
   "metadata": {},
   "source": [
    "Adicionando uma coluna de mês"
   ]
  },
  {
   "cell_type": "code",
   "execution_count": null,
   "metadata": {},
   "outputs": [],
   "source": [
    "focos[\"mes\"] = focos[\"timestamp\"].dt.month\n",
    "focos.head()"
   ]
  },
  {
   "cell_type": "markdown",
   "metadata": {},
   "source": [
    "Adicionando uma coluna com o nome do mês"
   ]
  },
  {
   "cell_type": "code",
   "execution_count": null,
   "metadata": {},
   "outputs": [],
   "source": [
    "import calendar\n",
    "focos[\"nome_mes\"] = focos[\"timestamp\"].dt.month.map(lambda x: calendar.month_abbr[x])\n",
    "focos.head()"
   ]
  },
  {
   "cell_type": "markdown",
   "metadata": {
    "slideshow": {
     "slide_type": "slide"
    }
   },
   "source": [
    "## Qual a distribuição dos focos ao longo dos meses do ano em 2024?\n",
    "<hr style=\"border:0.25px solid #0077b9;\">"
   ]
  },
  {
   "cell_type": "markdown",
   "metadata": {
    "slideshow": {
     "slide_type": "fragment"
    }
   },
   "source": [
    "Para responder esta pergunta podemos utilizar o operador de agregação (sumarização) `groupby`, disponível em um `DataFrame`.  \n",
    "\n",
    "Neste caso, precisaremos informar:\n",
    "* O critério da agregação: a parte contendo o número do mês na coluna com a data e hora da detecção do foco (coluna `timestamp`).\n",
    "* Utilizar uma das colunas para realizar a contagem através do operador `count`."
   ]
  },
  {
   "cell_type": "code",
   "execution_count": null,
   "metadata": {
    "slideshow": {
     "slide_type": "fragment"
    }
   },
   "outputs": [],
   "source": [
    "focos_mes = focos.groupby(focos.nome_mes).nome_mes.count()\n",
    "focos_mes"
   ]
  },
  {
   "cell_type": "markdown",
   "metadata": {
    "slideshow": {
     "slide_type": "fragment"
    }
   },
   "source": [
    "O objeto `focos_mes` retornado na operação acima corresponderá um `pandas.core.series.Series`:"
   ]
  },
  {
   "cell_type": "code",
   "execution_count": null,
   "metadata": {
    "slideshow": {
     "slide_type": "fragment"
    }
   },
   "outputs": [],
   "source": [
    "type(focos_mes)"
   ]
  },
  {
   "cell_type": "markdown",
   "metadata": {
    "slideshow": {
     "slide_type": "fragment"
    }
   },
   "source": [
    "Na saída acima podemos notar o seguinte:\n",
    "* O nome da série é `Estado`, por conta da coluna usada para realizar a contagem.\n",
    "* Os índices da série correspondem aos índices numéricos dos meses do ano."
   ]
  },
  {
   "cell_type": "code",
   "execution_count": null,
   "metadata": {},
   "outputs": [],
   "source": [
    "focos_mes.plot.bar(legend=True, fontsize=10)"
   ]
  },
  {
   "cell_type": "markdown",
   "metadata": {
    "slideshow": {
     "slide_type": "fragment"
    }
   },
   "source": [
    "Podemos ajustar o nome da série e o rótulo do índice:"
   ]
  },
  {
   "cell_type": "code",
   "execution_count": null,
   "metadata": {
    "slideshow": {
     "slide_type": "fragment"
    }
   },
   "outputs": [],
   "source": [
    "focos_mes.name=\"Número Focos/Mês\"\n",
    "focos_mes.index.name=\"Mês\"\n",
    "focos_mes"
   ]
  },
  {
   "cell_type": "markdown",
   "metadata": {
    "slideshow": {
     "slide_type": "subslide"
    }
   },
   "source": [
    "Podemos apresentar um gráfico de barras com o total de focos por mês:"
   ]
  },
  {
   "cell_type": "code",
   "execution_count": null,
   "metadata": {
    "slideshow": {
     "slide_type": "fragment"
    }
   },
   "outputs": [],
   "source": [
    "focos_mes.plot.bar(legend=True, fontsize=10)"
   ]
  },
  {
   "cell_type": "markdown",
   "metadata": {
    "slideshow": {
     "slide_type": "subslide"
    }
   },
   "source": [
    "Podemos melhorar nosso gráfico controlando as diversas opções de plotagem fornecidas pela Matplotlib:"
   ]
  },
  {
   "cell_type": "code",
   "execution_count": null,
   "metadata": {
    "slideshow": {
     "slide_type": "fragment"
    }
   },
   "outputs": [],
   "source": [
    "ax = focos_mes.plot(kind=\"bar\", legend=True, fontsize=20, figsize=(20,10));\n",
    "ax.set_title(\"Focos Mensal - 2024\", fontsize=28);\n",
    "ax.set_xlabel(\"Mes\", fontsize=24);\n",
    "ax.set_ylabel(\"Focos\", fontsize=24);\n",
    "ax.legend(loc=2, prop={'size': 20});"
   ]
  },
  {
   "cell_type": "markdown",
   "metadata": {
    "slideshow": {
     "slide_type": "subslide"
    }
   },
   "source": [
    "Podemos salvar a figura do gráfico gerado:"
   ]
  },
  {
   "cell_type": "code",
   "execution_count": null,
   "metadata": {
    "slideshow": {
     "slide_type": "fragment"
    }
   },
   "outputs": [],
   "source": [
    "ax.figure.savefig(\"chart-focos-meses-2024.png\", dpi=100, format=\"png\")"
   ]
  },
  {
   "cell_type": "markdown",
   "metadata": {},
   "source": [
    "## Qual a distribuição dos focos por estado?\n",
    "<hr style=\"border:0.25px solid #0077b9;\">"
   ]
  },
  {
   "cell_type": "code",
   "execution_count": null,
   "metadata": {},
   "outputs": [],
   "source": [
    "focos_estados = focos.groupby(focos.Estado).Estado.count()\n",
    "focos_estados"
   ]
  },
  {
   "cell_type": "markdown",
   "metadata": {},
   "source": [
    "Vamos plotar a contagem de focos por estado em 2024"
   ]
  },
  {
   "cell_type": "code",
   "execution_count": null,
   "metadata": {},
   "outputs": [],
   "source": [
    "focos_estados.plot.bar(legend=True, fontsize=10)"
   ]
  },
  {
   "cell_type": "markdown",
   "metadata": {
    "execution": {
     "iopub.execute_input": "2025-05-12T01:16:17.512778Z",
     "iopub.status.busy": "2025-05-12T01:16:17.511952Z",
     "iopub.status.idle": "2025-05-12T01:16:17.530208Z",
     "shell.execute_reply": "2025-05-12T01:16:17.528618Z",
     "shell.execute_reply.started": "2025-05-12T01:16:17.512718Z"
    }
   },
   "source": [
    "Podemos ordenar essa série por quantidade de focos?"
   ]
  },
  {
   "cell_type": "code",
   "execution_count": null,
   "metadata": {},
   "outputs": [],
   "source": [
    "focos_estados.sort_values(ascending = False)\n",
    "# inplace=True"
   ]
  },
  {
   "cell_type": "code",
   "execution_count": null,
   "metadata": {},
   "outputs": [],
   "source": [
    "focos_estados.plot.bar(legend=True, fontsize=10)"
   ]
  },
  {
   "cell_type": "markdown",
   "metadata": {
    "slideshow": {
     "slide_type": "slide"
    }
   },
   "source": [
    "## Como filtrar os focos de queimada do estado do PARÁ?\n",
    "<hr style=\"border:0.25px solid #0077b9;\">"
   ]
  },
  {
   "cell_type": "code",
   "execution_count": null,
   "metadata": {
    "slideshow": {
     "slide_type": "fragment"
    }
   },
   "outputs": [],
   "source": [
    "focos_para = focos[focos.Estado == 'PARÁ']\n",
    "focos_para.head()"
   ]
  },
  {
   "cell_type": "markdown",
   "metadata": {},
   "source": [
    "Vamos plotar esses dados filtrados:"
   ]
  },
  {
   "cell_type": "code",
   "execution_count": null,
   "metadata": {},
   "outputs": [],
   "source": [
    "focos_para.plot(marker='x', color='red', markersize=5)"
   ]
  },
  {
   "cell_type": "markdown",
   "metadata": {
    "execution": {
     "iopub.execute_input": "2025-05-12T01:04:41.048336Z",
     "iopub.status.busy": "2025-05-12T01:04:41.047534Z",
     "iopub.status.idle": "2025-05-12T01:04:41.059930Z",
     "shell.execute_reply": "2025-05-12T01:04:41.058208Z",
     "shell.execute_reply.started": "2025-05-12T01:04:41.048270Z"
    }
   },
   "source": [
    "Podemos também plotar juntamente com a shape do Brasil:"
   ]
  },
  {
   "cell_type": "code",
   "execution_count": null,
   "metadata": {},
   "outputs": [],
   "source": [
    "fig, ax = plt.subplots()\n",
    "focos_para.plot(marker='x', color='red', markersize=5, ax=ax)\n",
    "ufs[ufs.SIGLA == \"PA\"].plot(edgecolor='black', facecolor='none', ax=ax)\n",
    "plt.show()"
   ]
  },
  {
   "cell_type": "markdown",
   "metadata": {},
   "source": [
    "## Além de filtrar para PARÁ, como podemos filtrar somente para um mês (e.g. setembro)?\n",
    "<hr style=\"border:0.25px solid #0077b9;\">"
   ]
  },
  {
   "cell_type": "code",
   "execution_count": null,
   "metadata": {
    "slideshow": {
     "slide_type": "fragment"
    }
   },
   "outputs": [],
   "source": [
    "focos_para_sep = focos[(focos.Estado == 'PARÁ') & (focos.timestamp.dt.month == 9)]\n",
    "focos_para_sep.head()"
   ]
  },
  {
   "cell_type": "code",
   "execution_count": null,
   "metadata": {},
   "outputs": [],
   "source": [
    "fig, ax = plt.subplots()\n",
    "ufs[ufs.SIGLA == \"PA\"].plot(facecolor='none', ax=ax)\n",
    "focos_para_sep.plot(marker='x', color='red', markersize=5, ax=ax)\n",
    "plt.show()"
   ]
  },
  {
   "cell_type": "markdown",
   "metadata": {
    "slideshow": {
     "slide_type": "slide"
    }
   },
   "source": [
    "## Como podemos mesclar os focos com os biomas?"
   ]
  },
  {
   "cell_type": "code",
   "execution_count": null,
   "metadata": {},
   "outputs": [],
   "source": [
    "focos.head()"
   ]
  },
  {
   "cell_type": "code",
   "execution_count": null,
   "metadata": {},
   "outputs": [],
   "source": [
    "biomas.head()"
   ]
  },
  {
   "attachments": {},
   "cell_type": "markdown",
   "metadata": {},
   "source": [
    "Vamos usar a função **sjoin** do GeoPands para combinar os focos com os biomas:\n",
    "- how:\n",
    "  - \"left\": mantém todos os focos2 — mesmo se não houver interseção com os biomas\n",
    "  - \"inner\": mantém apenas as linhas que têm correspondência espacial\n",
    "- predicate\n",
    "  - \"intersects\"\n",
    "  - \"contains\"\n",
    "  - \"within\"\n",
    "  - \"touches\"\n",
    "  - \"crosses\"\n",
    "  - \"overlaps\"\n",
    "  - ...\n",
    "  - \"equals\"\n",
    "\n",
    "<table>\n",
    "  <tr>\n",
    "    <td><img src=\"https://prog-geo.github.io/_images/op-within-1.png\" width=\"200\" height=\"200\"></td>\n",
    "    <td><img src=\"https://prog-geo.github.io/_images/op-cross-2.png\" width=\"200\" height=\"200\"></td>\n",
    "    <td><img src=\"https://prog-geo.github.io/_images/op-touch-2.png\" width=\"200\" height=\"200\"></td>\n",
    "    <td><img src=\"https://prog-geo.github.io/_images/op-disjoint-2.png\" width=\"200\" height=\"200\"></td>\n",
    "  </tr>\n",
    "</table>\n",
    "\n",
    "Antes, precisamos converter as geometrias para a mesma projeção. Veja abaixo que os objetos GeoPandas possuem diferentes projeções:"
   ]
  },
  {
   "cell_type": "code",
   "execution_count": null,
   "metadata": {},
   "outputs": [],
   "source": [
    "print(focos.crs)\n",
    "print(biomas.crs)"
   ]
  },
  {
   "cell_type": "markdown",
   "metadata": {},
   "source": [
    "Vamos usar a função **to_crs** para converter os pontos para a mesma projeção da shape dos biomas:"
   ]
  },
  {
   "cell_type": "code",
   "execution_count": null,
   "metadata": {},
   "outputs": [],
   "source": [
    "focos_crs = focos.to_crs(biomas.crs)\n",
    "focos_crs.head()"
   ]
  },
  {
   "cell_type": "markdown",
   "metadata": {},
   "source": [
    "Veja que agora as projeções são iguais:"
   ]
  },
  {
   "cell_type": "code",
   "execution_count": null,
   "metadata": {},
   "outputs": [],
   "source": [
    "print(focos_crs.crs)\n",
    "print(biomas.crs)"
   ]
  },
  {
   "cell_type": "markdown",
   "metadata": {},
   "source": [
    "Agora rodando a função **sjoin**, iremos juntar as informações de biomas nos focos:"
   ]
  },
  {
   "cell_type": "code",
   "execution_count": null,
   "metadata": {
    "slideshow": {
     "slide_type": "fragment"
    }
   },
   "outputs": [],
   "source": [
    "focos_biomas = gpd.sjoin(focos_crs, biomas, how='inner', predicate='within')\n",
    "focos_biomas.head()"
   ]
  },
  {
   "cell_type": "markdown",
   "metadata": {},
   "source": [
    "## Exercício: Plote a quantidade de focos agrupado por bioma\n",
    "- **Eixo x:** biomas\n",
    "- **Eixo y:** Quantidade de focos"
   ]
  },
  {
   "cell_type": "code",
   "execution_count": null,
   "metadata": {},
   "outputs": [],
   "source": [
    "# ????????????????\n",
    "# ????????????????\n",
    "# ????????????????"
   ]
  },
  {
   "cell_type": "markdown",
   "metadata": {
    "slideshow": {
     "slide_type": "slide"
    }
   },
   "source": [
    "## Qual a frequência mensal de queimadas por bioma?"
   ]
  },
  {
   "cell_type": "markdown",
   "metadata": {
    "slideshow": {
     "slide_type": "subslide"
    }
   },
   "source": [
    "Vamos apresentar as informações em uma `pivot_table`:"
   ]
  },
  {
   "cell_type": "code",
   "execution_count": null,
   "metadata": {
    "slideshow": {
     "slide_type": "fragment"
    }
   },
   "outputs": [],
   "source": [
    "pvt = pd.pivot_table(focos_biomas, values=\"geometry\", index=[\"Bioma\"],\n",
    "                     columns=[\"nome_mes\"], aggfunc=\"count\",\n",
    "                     fill_value=0, margins=False)\n",
    "pvt.columns=[\"May\", \"Jun\", \"Jul\", \"Aug\", \"Sep\", \"Oct\", \"Nov\", \"Dec\"]\n",
    "pvt"
   ]
  },
  {
   "cell_type": "markdown",
   "metadata": {
    "execution": {
     "iopub.execute_input": "2025-05-12T03:06:46.006014Z",
     "iopub.status.busy": "2025-05-12T03:06:46.004903Z",
     "iopub.status.idle": "2025-05-12T03:06:46.017518Z",
     "shell.execute_reply": "2025-05-12T03:06:46.015707Z",
     "shell.execute_reply.started": "2025-05-12T03:06:46.005950Z"
    }
   },
   "source": [
    "Podemos gerar um gráfico de barras agrupado"
   ]
  },
  {
   "cell_type": "code",
   "execution_count": null,
   "metadata": {},
   "outputs": [],
   "source": [
    "pvt.T.plot(\n",
    "    kind=\"bar\", \n",
    "    figsize=(10, 6), \n",
    "    xlabel = \"Mês\", \n",
    "    ylabel = \"Número de Focos\", \n",
    "    title = \"Focos por Mês e Bioma\")\n",
    "plt.legend(title=\"Bioma\", bbox_to_anchor=(1.05, 1), loc=\"upper left\")\n",
    "plt.show()"
   ]
  },
  {
   "cell_type": "markdown",
   "metadata": {
    "execution": {
     "iopub.execute_input": "2025-05-12T03:12:31.300460Z",
     "iopub.status.busy": "2025-05-12T03:12:31.299214Z",
     "iopub.status.idle": "2025-05-12T03:12:31.312501Z",
     "shell.execute_reply": "2025-05-12T03:12:31.310061Z",
     "shell.execute_reply.started": "2025-05-12T03:12:31.300350Z"
    }
   },
   "source": [
    "Podemos gerar um gráfico heatmap"
   ]
  },
  {
   "cell_type": "code",
   "execution_count": null,
   "metadata": {},
   "outputs": [],
   "source": [
    "import seaborn as sns\n",
    "\n",
    "plt.figure(figsize=(8, 4))\n",
    "sns.heatmap(pvt, annot=True, fmt=\"d\", cmap=\"YlOrRd\")\n",
    "plt.title(\"Número de Focos por Bioma e Mês\")\n",
    "plt.xlabel(\"Mês\")\n",
    "plt.ylabel(\"Bioma\")\n",
    "plt.show()"
   ]
  },
  {
   "cell_type": "markdown",
   "metadata": {
    "slideshow": {
     "slide_type": "subslide"
    }
   },
   "source": [
    "Vamos obter uma estatística descritiva:"
   ]
  },
  {
   "cell_type": "code",
   "execution_count": null,
   "metadata": {
    "slideshow": {
     "slide_type": "fragment"
    }
   },
   "outputs": [],
   "source": [
    "pvt.describe()"
   ]
  },
  {
   "cell_type": "markdown",
   "metadata": {
    "slideshow": {
     "slide_type": "slide"
    }
   },
   "source": [
    "## Qual a quantidade de focos por município ao longo dos meses?"
   ]
  },
  {
   "cell_type": "code",
   "execution_count": null,
   "metadata": {
    "slideshow": {
     "slide_type": "fragment"
    }
   },
   "outputs": [],
   "source": [
    "pvt2 = pd.pivot_table(focos, values=\"geometry\", index=[\"Estado\", \"Municipio\"], \n",
    "                      columns=[\"nome_mes\"], aggfunc=\"count\", fill_value=0, margins=True)\n",
    "pvt2.columns=[\"May\", \"Jun\", \"Jul\", \"Aug\", \"Sep\", \"Oct\", \"Nov\", \"Dec\", \"All\"]\n",
    "pvt2.head()"
   ]
  },
  {
   "cell_type": "markdown",
   "metadata": {
    "slideshow": {
     "slide_type": "slide"
    }
   },
   "source": [
    "### Qual o top 10 para agosto?"
   ]
  },
  {
   "cell_type": "code",
   "execution_count": null,
   "metadata": {
    "slideshow": {
     "slide_type": "fragment"
    }
   },
   "outputs": [],
   "source": [
    "top10 = pvt2[\"Aug\"].sort_values(ascending=False)[0:9]\n",
    "top10"
   ]
  },
  {
   "cell_type": "markdown",
   "metadata": {
    "slideshow": {
     "slide_type": "slide"
    }
   },
   "source": [
    "## Exercício / Desafio\n",
    "<hr style=\"border:2px solid #0077b9;\">\n",
    "\n",
    "## Gerar um mapa com a classificação dos estados em relação ao número de focos ocorridos no mês de agosto de 2024\n",
    "\n",
    "Ex:\n",
    "\n",
    "<img src=\"https://upload.wikimedia.org/wikipedia/commons/a/a5/Mapa_dos_estados_brasileiros_por_popula%C3%A7%C3%A3o_%282022%29.svg\" width=\"300\" height=\"300\">\n",
    "\n"
   ]
  },
  {
   "cell_type": "markdown",
   "metadata": {
    "slideshow": {
     "slide_type": "slide"
    }
   },
   "source": [
    "## Referências Online\n",
    "<hr style=\"border:2px solid #0077b9;\">\n",
    "\n",
    "Tutoriais:\n",
    "* [learnPython Essentials of Python](http://www.stephaniehicks.com/learnPython).\n",
    "* [IPython notebook reveal-based slideshows](http://www.slideviper.oquanta.info/tutorial/slideshow_tutorial_slides.html#/).\n",
    "* [Make your slides with IPython](http://www.damian.oquanta.info/posts/make-your-slides-with-ipython.html).\n",
    "\n",
    "Documentação da [matplotlib](https://matplotlib.org/):\n",
    "* Opções de controle da legenda: [matplotlib.pyplot.legend](http://matplotlib.org/api/pyplot_api.html#matplotlib.pyplot.legend).\n",
    "* Opções de salvamento da imagem de um gráfico: [matplotlib.pyplot.savefig](https://matplotlib.org/devdocs/api/_as_gen/matplotlib.pyplot.savefig.html).\n",
    "* Opções dos tipos de gráficos básicos:\n",
    "  * [matplotlib.pyplot.pie](https://matplotlib.org/devdocs/api/_as_gen/matplotlib.pyplot.pie.html#matplotlib-pyplot-pie).\n",
    "  \n",
    "Documentação [seaborn](https://seaborn.pydata.org/):\n",
    "\n"
   ]
  }
 ],
 "metadata": {
  "kernelspec": {
   "display_name": "Python (Geospatial)",
   "language": "python",
   "name": "geospatial"
  },
  "language_info": {
   "codemirror_mode": {
    "name": "ipython",
    "version": 3
   },
   "file_extension": ".py",
   "mimetype": "text/x-python",
   "name": "python",
   "nbconvert_exporter": "python",
   "pygments_lexer": "ipython3",
   "version": "3.11.6"
  },
  "toc": {
   "base_numbering": 1,
   "nav_menu": {},
   "number_sections": false,
   "sideBar": true,
   "skip_h1_title": false,
   "title_cell": "Table of Contents",
   "title_sidebar": "Contents",
   "toc_cell": false,
   "toc_position": {},
   "toc_section_display": true,
   "toc_window_display": false
  }
 },
 "nbformat": 4,
 "nbformat_minor": 4
}
